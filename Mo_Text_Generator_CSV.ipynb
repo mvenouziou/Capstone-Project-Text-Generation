{
  "nbformat": 4,
  "nbformat_minor": 0,
  "metadata": {
    "colab": {
      "name": "Mo_Text Generator_CSV.ipynb",
      "provenance": [],
      "collapsed_sections": [],
      "include_colab_link": true
    },
    "coursera": {
      "course_slug": "tensor-flow-2-2",
      "graded_item_id": "4eYSM",
      "launcher_item_id": "HEV6h"
    },
    "kernelspec": {
      "display_name": "Python 3",
      "language": "python",
      "name": "python3"
    },
    "language_info": {
      "codemirror_mode": {
        "name": "ipython",
        "version": 3
      },
      "file_extension": ".py",
      "mimetype": "text/x-python",
      "name": "python",
      "nbconvert_exporter": "python",
      "pygments_lexer": "ipython3",
      "version": "3.7.1"
    },
    "accelerator": "GPU"
  },
  "cells": [
    {
      "cell_type": "markdown",
      "metadata": {
        "id": "view-in-github",
        "colab_type": "text"
      },
      "source": [
        "<a href=\"https://colab.research.google.com/github/mvenouziou/Project-Text-Generation/blob/main/Mo_Text_Generator_CSV.ipynb\" target=\"_parent\"><img src=\"https://colab.research.google.com/assets/colab-badge.svg\" alt=\"Open In Colab\"/></a>"
      ]
    },
    {
      "cell_type": "markdown",
      "metadata": {
        "id": "pFRRArflRfR1"
      },
      "source": [
        "## Text Generation RNN\r\n",
        "\r\n",
        "This program constructs a character-level sequence model to generate text according to a character distribution learned from the dataset. \r\n",
        "\r\n",
        "- Try my web app implementation at www.communicatemission.com/ml-projects#text_generation \r\n",
        "- My trained model is available at https://raw.githubusercontent.com/mvenouziou/text_generator."
      ]
    },
    {
      "cell_type": "markdown",
      "metadata": {
        "id": "r3wpZrx7RfR-"
      },
      "source": [
        "*Model is coded based on techniques from Imperial College London's Coursera course, \"Customising your models with Tensorflow 2\" (https://www.coursera.org/learn/customising-models-tensorflow2) and the Tensorflow documentation (https://www.tensorflow.org/tutorials/text/text_generation?hl=en).  Web app built on the Anvil platform and hosted on Google Cloud server (CPU).* "
      ]
    },
    {
      "cell_type": "code",
      "metadata": {
        "id": "2j_QtDXtRfR4"
      },
      "source": [
        "#### PACKAGE IMPORTS ####\n",
        "# ML design\n",
        "import tensorflow as tf\n",
        "from tensorflow import keras\n",
        "!pip install -q tensorflow-text\n",
        "import tensorflow_text as text\n",
        "from tensorflow.keras.callbacks import ModelCheckpoint \n",
        "\n",
        "# data handling\n",
        "import numpy as np\n",
        "import pandas as pd\n",
        "import random\n",
        "import re\n",
        "import string\n",
        "import random\n",
        "\n",
        "# file management\n",
        "import urllib.request\n",
        "import os\n",
        "import pickle"
      ],
      "execution_count": null,
      "outputs": []
    },
    {
      "cell_type": "code",
      "metadata": {
        "colab": {
          "base_uri": "https://localhost:8080/"
        },
        "id": "zDKnvDvXalYF",
        "outputId": "aa16a6de-766d-49f3-b708-41e4181a0c32"
      },
      "source": [
        "# integrations\r\n",
        "# mount google drive:\r\n",
        "GDRIVE_DIR = '/content/gdrive/'\r\n",
        "from google.colab import drive\r\n",
        "drive.mount(GDRIVE_DIR)\r\n",
        "\r\n",
        "# Anvil's web app server\r\n",
        "!pip install -q anvil-uplink\r\n",
        "import anvil.server\r\n",
        "\r\n",
        "USE_ANVIL = False  \r\n",
        "if USE_ANVIL:\r\n",
        "    anvil.server.connect('53NFXI7IX7IE233XQTVJDXUM-PUGRV2WON2LETWBG')"
      ],
      "execution_count": null,
      "outputs": [
        {
          "output_type": "stream",
          "text": [
            "Drive already mounted at /content/gdrive/; to attempt to forcibly remount, call drive.mount(\"/content/gdrive/\", force_remount=True).\n"
          ],
          "name": "stdout"
        }
      ]
    },
    {
      "cell_type": "markdown",
      "metadata": {
        "id": "kkHeu2U8keZ6"
      },
      "source": [
        "##### GLOBAL VARIABLES\r\n",
        "File directories and hyperparameters"
      ]
    },
    {
      "cell_type": "code",
      "metadata": {
        "id": "3fRagWNBR0-E"
      },
      "source": [
        "# GLOBAL VARIABLES\n",
        "\n",
        "# hyperparameters\n",
        "BATCH_SIZE = 32\n",
        "PADDED_EXAMPLE_LENGTH = 500\n",
        "EMBEDDING_DIM = 256\n",
        "\n",
        "AUTHOR = 'Robert_Frost' \n",
        "         # 'assorted'\n",
        "         # 'tests'\n",
        "\n",
        "# file directory structure in Google Drive\n",
        "FILEPATH = GDRIVE_DIR + 'MyDrive/Colab_Notebooks/models/text_generation/' + AUTHOR\n",
        "CHECKPOINT_DIR = FILEPATH + '/checkpoints/'\n",
        "CACHE_DIR = FILEPATH + '/cache/'\n",
        "MODEL_DIR = FILEPATH + '/prediction_model/'\n",
        "\n",
        "# online dataset repository\n",
        "DATASETS_DIR = 'https://raw.githubusercontent.com/mvenouziou/text_generator/main/'\n",
        "\n",
        "# dataset files (.txt and .csv allowed)\n",
        "DATASET_PRIMARY =  'robert_frost_collection.csv'  # dataset from Kaggle assignment\n",
        "DATASETS = [DATASET_PRIMARY] + \\\n",
        "            [# add other CSV data sources here,\n",
        "            ]"
      ],
      "execution_count": null,
      "outputs": []
    },
    {
      "cell_type": "markdown",
      "metadata": {
        "id": "ppOL7TDHRfSA"
      },
      "source": [
        "#### Load and inspect the dataset"
      ]
    },
    {
      "cell_type": "code",
      "metadata": {
        "id": "XXwzWcB-RfSD"
      },
      "source": [
        "# Function: loader for .csv files\n",
        "def prepare_csv(filename, datasets_dir=DATASETS_DIR, \n",
        "                content_columns=['Name', 'Content'], shuffle_rows=True):\n",
        "    \n",
        "    # load data into DataFrame\n",
        "    dataframe = pd.read_csv(datasets_dir + filename).dropna()\n",
        "    \n",
        "    # specific prep for Robert Frost set:\n",
        "    if 'Name ' in dataframe.columns:\n",
        "        dataframe.rename(columns={'Name ':'Name'})\n",
        "    try:     \n",
        "        dataframe['Name'] = dataframe['Name'].apply(\n",
        "                                lambda x: x.upper() + ':\\n')\n",
        "        \n",
        "        dataframe['Content'] = dataframe['Content'].apply(\n",
        "                        lambda x: x + '\\n')\n",
        "    except:\n",
        "        pass\n",
        "    dataframe = dataframe[content_columns]\n",
        "\n",
        "    # shuffle entries (rows)\n",
        "    if shuffle_rows:\n",
        "        dataframe = dataframe.sample(frac=1)\n",
        "    \n",
        "    # data cleanup\n",
        "    dataframe = dataframe[content_columns]\n",
        "    \n",
        "    # merge desired text columns\n",
        "    dataframe['merge'] = dataframe[content_columns[0]]\n",
        "    for i in range(1, len(content_columns)):\n",
        "        dataframe['merge'] = dataframe['merge'] + dataframe[content_columns[i]]\n",
        "\n",
        "    # convert to list of strings\n",
        "    data_list = dataframe['merge'].tolist()\n",
        "    \n",
        "    return data_list   \n",
        "\n",
        "\n",
        "# Function: Load and standardize data files\n",
        "def load_parse(data_list, display_samples=True):  \n",
        "\n",
        "    # remove paragraph / line marks and split up words  \n",
        "    tokenizer = text.WhitespaceTokenizer()\n",
        "\n",
        "    # tokenize data (outputs bytestrings)\n",
        "    cleaned_list_byte = [tokenizer.tokenize(data).numpy() for data in data_list]\n",
        "\n",
        "    # convert data back to string format\n",
        "    num_entries = len(cleaned_list_byte)\n",
        "\n",
        "    clean_list = [' '.join(map(lambda x: x.decode(), cleaned_list_byte[i])) \n",
        "                    for i in range(num_entries)]\n",
        "\n",
        "    # Display some text samples\n",
        "    if display_samples:\n",
        "        num_samples = 5\n",
        "        inx = np.random.choice(len(clean_list), num_samples, replace=False)\n",
        "        for example in np.array(clean_list)[inx]:\n",
        "            print(example)\n",
        "            print()\n",
        "\n",
        "        print('len(text_chunks):', len(clean_list))\n",
        "\n",
        "    return clean_list"
      ],
      "execution_count": null,
      "outputs": []
    },
    {
      "cell_type": "code",
      "metadata": {
        "id": "TrN6M1mnbmP1"
      },
      "source": [
        "def create_blocks(full_examples, max_len=PADDED_EXAMPLE_LENGTH):\r\n",
        "    # creates list of sliding n-grams for each example\r\n",
        "    # and creates a list of these lists\r\n",
        "\r\n",
        "    blocks = []\r\n",
        "\r\n",
        "    for example in full_examples:      \r\n",
        "\r\n",
        "        example_block = []\r\n",
        "        example_length = len(example)\r\n",
        "\r\n",
        "        # small blocks at start (will be zero-padded later)\r\n",
        "        leading_characters = 5  # characters input into model \r\n",
        "                                # before starting prediction\r\n",
        "        for i in range(leading_characters, example_length - max_len - 1):\r\n",
        "            example_block.append(example[: i])\r\n",
        "        \r\n",
        "        # full length blocks\r\n",
        "        for i in range(example_length - max_len - 1):\r\n",
        "            # create n-gram\r\n",
        "            example_block.append(example[i: max_len + i])\r\n",
        "\r\n",
        "        # small blocks at end (will be zero-padded later)\r\n",
        "        for i in range(example_length - max_len - 1, example_length-1):\r\n",
        "            example_block.append(example[i: ])\r\n",
        "    \r\n",
        "        blocks.append(example_block)\r\n",
        "    \r\n",
        "    return blocks"
      ],
      "execution_count": null,
      "outputs": []
    },
    {
      "cell_type": "markdown",
      "metadata": {
        "id": "gWObVg6DRfSi"
      },
      "source": [
        "#### Encode data for model"
      ]
    },
    {
      "cell_type": "code",
      "metadata": {
        "id": "Q8s2aR4oRfSb"
      },
      "source": [
        "# Function: Create and fit tokenizer object\n",
        "def create_character_tokenizer():\n",
        "\n",
        "    # Initialize standard keras tokenizer\n",
        "    tokenizer = tf.keras.preprocessing.text.Tokenizer(\n",
        "                    num_words=None,  # number of tokens is not limited\n",
        "                    filters='#$%&()*+-/<=>@[]^_`{|}~\\t', \n",
        "                    lower=True,  # whether to convert to lowercase letters\n",
        "                    char_level=True,  # tokens created at character level\n",
        "                    oov_token=None,  # drop unknown characters\n",
        "                    )\n",
        "    \n",
        "    # fit tokenizer\n",
        "    vocab = string.punctuation + string.digits + string.ascii_letters + ' '\n",
        "    tokenizer.fit_on_texts(vocab)\n",
        "\n",
        "    return tokenizer"
      ],
      "execution_count": null,
      "outputs": []
    },
    {
      "cell_type": "markdown",
      "metadata": {
        "id": "U-4W2iICRfS3"
      },
      "source": [
        "#### Create input and target Datasets for stateful RNN"
      ]
    },
    {
      "cell_type": "code",
      "metadata": {
        "id": "zLf-9KxWRfSw"
      },
      "source": [
        "def make_padded_array(text_blocks, tokenizer, max_len=PADDED_EXAMPLE_LENGTH):\n",
        "    # Tokenizes and applies padding for uniform length\n",
        "\n",
        "    # tokenize\n",
        "    token_blocks = tokenizer.texts_to_sequences(text_blocks)\n",
        "\n",
        "    # zero padding\n",
        "    padded_blocks = tf.keras.preprocessing.sequence.pad_sequences(\n",
        "                        sequences=token_blocks,  # dataset\n",
        "                        maxlen=max_len, \n",
        "                        dtype='int32', \n",
        "                        padding='pre',\n",
        "                        truncating='pre', \n",
        "                        value=0.0\n",
        "                  )\n",
        "    \n",
        "    return padded_blocks"
      ],
      "execution_count": null,
      "outputs": []
    },
    {
      "cell_type": "code",
      "metadata": {
        "id": "pzLY5mT3RfS5"
      },
      "source": [
        "def create_inputs_and_targets(array_of_sequences):\n",
        "    \"\"\" create input / target pairs \"\"\"   \n",
        "    input_arr = array_of_sequences[:, :-1]\n",
        "    target_arr = array_of_sequences[:, 1:]\n",
        "\n",
        "    return input_arr, target_arr    "
      ],
      "execution_count": null,
      "outputs": []
    },
    {
      "cell_type": "markdown",
      "metadata": {
        "id": "JcoP9vOGDqlV"
      },
      "source": [
        "Note: Our text data are not independent random samples. Content from earlier in the text can inform future predictions. In this case we can use a 'stateful' model to capture some of this dependence relation.  (The data must be broken into continuous blocks of text for this to work. Care must be taken for that to occur-- rows in one epoch must be continuations from the corresponding row in an earlier epoch.)\r\n",
        "\r\n"
      ]
    },
    {
      "cell_type": "code",
      "metadata": {
        "id": "S4gsVamxRfTK"
      },
      "source": [
        "# Function: data prep to create stateful RNN batches\n",
        "# note: This will be applied separately on each example text, \n",
        "# so that RNN can reset internal state / distinguish between unrelated passages\n",
        "\n",
        "def preprocess_stateful(input, target, batch_size=BATCH_SIZE):\n",
        "\n",
        "    # Prepare input and output arrays for training the stateful RNN\n",
        "    num_examples = input.shape[0]\n",
        "\n",
        "    # adjust for batch size to divide evenly into sample size\n",
        "    num_processed_examples = num_examples - (num_examples % batch_size)\n",
        "    input_cropped = input[:num_processed_examples]\n",
        "    target_cropped = target[:num_processed_examples]\n",
        "\n",
        "    # separate out samples so rows of data match up across epochs\n",
        "    # 'steps' measures how to space them out\n",
        "    steps = num_processed_examples // batch_size  \n",
        "\n",
        "    # define reordering\n",
        "    inx = np.empty((0,), dtype=np.int32)  # initialize empty array object\n",
        "    \n",
        "    for i in range(steps):\n",
        "        inx = np.concatenate((inx, i + np.arange(0, num_processed_examples, \n",
        "                                                    steps)))\n",
        "\n",
        "    # reorder the data\n",
        "    input_seq_stateful = input_cropped[inx]\n",
        "    target_seq_stateful = target_cropped[inx]\n",
        "\n",
        "    return input_seq_stateful, target_seq_stateful"
      ],
      "execution_count": null,
      "outputs": []
    },
    {
      "cell_type": "markdown",
      "metadata": {
        "id": "IKfaWcCCRfTf"
      },
      "source": [
        "#### Define RNN model"
      ]
    },
    {
      "cell_type": "code",
      "metadata": {
        "id": "oauekqOSRfTi"
      },
      "source": [
        "# Function: Model Definition\n",
        "def get_model(batch_size=BATCH_SIZE, embedding_dim=EMBEDDING_DIM):\n",
        "    # Defines and compiles a stateful RNN model\n",
        "    \n",
        "    from keras.layers import Embedding, GRU, Dense, \\\n",
        "                             Dropout, BatchNormalization\n",
        "\n",
        "    vocab_size = len(create_character_tokenizer().word_index) + 1\n",
        "\n",
        "    model = keras.Sequential([\n",
        "                # embedding layer\n",
        "                Embedding(input_dim=vocab_size, \n",
        "                          output_dim=embedding_dim,\n",
        "                          mask_zero=True, \n",
        "                          batch_input_shape=(batch_size, None),\n",
        "                          name='Embedding',\n",
        "                          ),\n",
        "\n",
        "                # RNN layers\n",
        "                GRU(units=256, \n",
        "                    stateful=True, \n",
        "                    return_sequences=True,\n",
        "                    name='GRU_1',\n",
        "                    ),\n",
        "                Dropout(rate=.10,\n",
        "                        name='Dropout_1',\n",
        "                         ),\n",
        "                BatchNormalization(name='Batch_Norm_1',\n",
        "                                   ),\n",
        "                GRU(units=256, \n",
        "                    stateful=True, \n",
        "                    return_sequences=True,\n",
        "                    name='GRU_2',\n",
        "                    ),\n",
        "                Dropout(rate=.10,\n",
        "                        name='Dropout_2',\n",
        "                         ),\n",
        "                BatchNormalization(name='Batch_Norm_2',\n",
        "                                   ),\n",
        "                GRU(units=256, \n",
        "                    stateful=True, \n",
        "                    return_sequences=True,\n",
        "                    name='GRU_OUTPUT',\n",
        "                    ),\n",
        "               \n",
        "                # prediction layer\n",
        "                Dense(units=vocab_size, \n",
        "                      activation=None,\n",
        "                      name='Decoding',\n",
        "                      )          \n",
        "    ])\n",
        "\n",
        "    return model"
      ],
      "execution_count": null,
      "outputs": []
    },
    {
      "cell_type": "code",
      "metadata": {
        "id": "R_Veoe8bCFrT"
      },
      "source": [
        "def compile_model(model, learning_rate):\r\n",
        "    model.compile(optimizer=tf.keras.optimizers.Adamax(\r\n",
        "                                learning_rate=learning_rate),\r\n",
        "                  loss=tf.keras.losses.SparseCategoricalCrossentropy(\r\n",
        "                                                    from_logits=True),\r\n",
        "                  metrics=['sparse_categorical_accuracy', \r\n",
        "                        'sparse_categorical_crossentropy'],\r\n",
        "                 )\r\n",
        "    \r\n",
        "    return model"
      ],
      "execution_count": null,
      "outputs": []
    },
    {
      "cell_type": "code",
      "metadata": {
        "id": "DJhnIUHSRfTt"
      },
      "source": [
        "# Function: Train model\n",
        "def train_model(model, train_datasets_list, \n",
        "                checkpoint, checkpoint_manager,\n",
        "                num_epochs=1, num_datasets_to_use=10,\n",
        "                learning_rate=0.00001,\n",
        "                batch_size=BATCH_SIZE, filepath=FILEPATH, \n",
        "                checkpoint_dir=CHECKPOINT_DIR):\n",
        "\n",
        "    # compile model\n",
        "    model = compile_model(model, learning_rate=learning_rate)\n",
        "\n",
        "    # begin training loop\n",
        "    for epoch in range(num_epochs):\n",
        "\n",
        "        print('Epoch {epoch:03d}'.format(epoch = epoch))\n",
        "\n",
        "        # shuffle dataset order\n",
        "        random.shuffle(train_datasets_list)\n",
        "\n",
        "        for i in range(num_datasets_to_use):\n",
        "\n",
        "            # select dataset\n",
        "            data = train_datasets_list[i]\n",
        "            \n",
        "            # choose random starting point (every other epoch)\n",
        "            if i % 2 == 0:\n",
        "                k = np.random.randint(5, 10)\n",
        "                data.skip(batch_size * k) \n",
        "\n",
        "            # train model\n",
        "            history = model.fit(data,\n",
        "                                shuffle=False,\n",
        "                                epochs=1,\n",
        "                                verbose=1)\n",
        "            \n",
        "            # reset RNN hidden states\n",
        "            model.reset_states()\n",
        "\n",
        "            # save checkpoint\n",
        "            checkpoint_manager.save()\n",
        "\n",
        "        # save full model at end of each epoch\n",
        "        model.save(checkpoint_dir + 'saved_model_epoch_' + str(epoch))\n",
        "\n",
        "    return model"
      ],
      "execution_count": null,
      "outputs": []
    },
    {
      "cell_type": "markdown",
      "metadata": {
        "id": "Cf8_OrNEvKcL"
      },
      "source": [
        "### Create Text Generation Function\r\n",
        "Adapt trained model"
      ]
    },
    {
      "cell_type": "code",
      "metadata": {
        "id": "eYl_VlGatdzu"
      },
      "source": [
        "# Final Prediction Function #######\r\n",
        "\r\n",
        "def make_prediction(init_string, num_generation_steps, \r\n",
        "                    prediction_tokenizer, prediction_model, \r\n",
        "                    precision_reduction=0,\r\n",
        "                    model_name=AUTHOR, print_result=False):\r\n",
        "\r\n",
        "    # Use the model to generate a token sequence\r\n",
        "    # note: prediction model should use batch size=1\r\n",
        "\r\n",
        "    # get final GRU layer for logits\r\n",
        "    GRU_layer = prediction_model.get_layer('GRU_OUTPUT')\r\n",
        "    \r\n",
        "    # convert user input to model input\r\n",
        "    token_sequence = prediction_tokenizer.texts_to_sequences([init_string])\r\n",
        "    initial_state = None\r\n",
        "    input_sequence = token_sequence\r\n",
        "    init_len = len(input_sequence[0])\r\n",
        "\r\n",
        "    for i in range(num_generation_steps):\r\n",
        "        \r\n",
        "        # get next character predictions (probability distribution)\r\n",
        "        logits = get_logits(prediction_model, input_sequence, \r\n",
        "                            initial_state=initial_state)\r\n",
        "\r\n",
        "        # choose next character\r\n",
        "        sampled_token = sample_token(logits, precision_reduction)\r\n",
        "        \r\n",
        "        # add character to generated text\r\n",
        "        token_sequence[0].append(sampled_token)\r\n",
        "        \r\n",
        "        # pass forward GRU state\r\n",
        "        input_sequence = [[sampled_token]]\r\n",
        "        initial_state = GRU_layer.states[0].numpy()\r\n",
        "\r\n",
        "    # decode tokens to text\r\n",
        "    predicted_text = \\\r\n",
        "        prediction_tokenizer.sequences_to_texts(token_sequence)[0][::2]\r\n",
        "    \r\n",
        "    if print_result:\r\n",
        "        print(predicted_text)\r\n",
        "\r\n",
        "    return predicted_text"
      ],
      "execution_count": null,
      "outputs": []
    },
    {
      "cell_type": "markdown",
      "metadata": {
        "id": "VI5-5cZphPGz"
      },
      "source": [
        "*************************************\r\n",
        "*************************************\r\n",
        "\r\n",
        "### Implement Functions to Create Models\r\n",
        "\r\n",
        "*************************************\r\n",
        "*************************************"
      ]
    },
    {
      "cell_type": "markdown",
      "metadata": {
        "id": "I0sajFK7knqH"
      },
      "source": [
        "##### Preprocess Data / Create list of TF Datasets"
      ]
    },
    {
      "cell_type": "code",
      "metadata": {
        "id": "BaexA4ozmIkx"
      },
      "source": [
        "# preprocess data\r\n",
        "def preprocess(filename=DATASET_PRIMARY, \r\n",
        "               batch_size=BATCH_SIZE):\r\n",
        "\r\n",
        "    # get tokenizer\r\n",
        "    tokenizer = create_character_tokenizer()\r\n",
        "\r\n",
        "    # load /clean csv data\r\n",
        "    data_list = prepare_csv(filename, \r\n",
        "                            datasets_dir=DATASETS_DIR, \r\n",
        "                            content_columns=['Name', 'Content'], \r\n",
        "                            shuffle_rows=True)\r\n",
        "\r\n",
        "    # preprocessing step\r\n",
        "    full_examples = load_parse(data_list, \r\n",
        "                               display_samples=False)\r\n",
        "\r\n",
        "    # reshape data to appropriate size for stateful RNN\r\n",
        "    # ## tokenize and break up into blocks\r\n",
        "    text_blocks = create_blocks(full_examples, \r\n",
        "                                max_len=PADDED_EXAMPLE_LENGTH)\r\n",
        "    \r\n",
        "    # ## pad to uniform size\r\n",
        "    padded_blocks = []\r\n",
        "    all_datasets = []\r\n",
        "    \r\n",
        "    for block in text_blocks:\r\n",
        "        padded_arr = make_padded_array(block, \r\n",
        "                                       tokenizer, \r\n",
        "                                       max_len=PADDED_EXAMPLE_LENGTH) \r\n",
        "        \r\n",
        "        # create input / targets\r\n",
        "        input_arr, target_arr = \\\r\n",
        "            create_inputs_and_targets(padded_arr)\r\n",
        "\r\n",
        "        # rearrange order as stateful RNN batches\r\n",
        "        input_seq_stateful, target_seq_stateful = \\\r\n",
        "            preprocess_stateful(input_arr, target_arr)\r\n",
        "        \r\n",
        "        # convert to Dataset\r\n",
        "        dataset = tf.data.Dataset.from_tensor_slices((input_seq_stateful, \r\n",
        "                                                      target_seq_stateful)\r\n",
        "                                                    )\r\n",
        "        dataset = dataset.batch(batch_size, \r\n",
        "                                drop_remainder=True)\r\n",
        "        dataset = dataset.prefetch(tf.data.AUTOTUNE)\r\n",
        "\r\n",
        "        # update dataset list\r\n",
        "        all_datasets.append(dataset)\r\n",
        "\r\n",
        "    # report summary\r\n",
        "    print('full_examples:', len(full_examples))\r\n",
        "    print('text_blocks:', len(text_blocks))\r\n",
        "    print('padded_blocks:', len(padded_blocks))\r\n",
        "    print('example input_arr :', input_arr.shape)\r\n",
        "    print('example target_arr:', target_arr.shape)\r\n",
        "    print('all_datasets:', len(all_datasets))\r\n",
        "    print('all_datasets[0]:', all_datasets[0])\r\n",
        "    \r\n",
        "    return all_datasets, tokenizer"
      ],
      "execution_count": null,
      "outputs": []
    },
    {
      "cell_type": "markdown",
      "metadata": {
        "id": "Rj2fmp91kvai"
      },
      "source": [
        "##### Create / Train Model"
      ]
    },
    {
      "cell_type": "code",
      "metadata": {
        "id": "AmmEfYo-RfTl"
      },
      "source": [
        "def build_load_model(checkpoint_dir=CHECKPOINT_DIR, batch_size=BATCH_SIZE):\n",
        "\n",
        "    \"\"\" Initializes and trains a model for 1 epoch, \n",
        "    and saves it to disk \"\"\"\n",
        "\n",
        "    # initialize model structure\n",
        "    tokenizer = create_character_tokenizer()\n",
        "    model = get_model(batch_size=batch_size)\n",
        "\n",
        "    # initialize checkpoint managers\n",
        "    checkpoint = tf.train.Checkpoint(model=model)\n",
        "\n",
        "    checkpoint_manager = tf.train.CheckpointManager(\n",
        "                            checkpoint=checkpoint, \n",
        "                            directory=checkpoint_dir, \n",
        "                            max_to_keep=4, \n",
        "                            keep_checkpoint_every_n_hours=None,\n",
        "                            checkpoint_name='ckpt', \n",
        "                            step_counter=None, \n",
        "                            checkpoint_interval=None,\n",
        "                            init_fn=None\n",
        "                            )\n",
        "    \n",
        "    # load any saved weights\n",
        "    try:\n",
        "        checkpoint_manager.restore_or_initialize()\n",
        "        print('loaded checkpoint')\n",
        "    except:\n",
        "        print('new model initialized')\n",
        "\n",
        "    model.summary()\n",
        "\n",
        "    return model, tokenizer, checkpoint, checkpoint_manager"
      ],
      "execution_count": null,
      "outputs": []
    },
    {
      "cell_type": "markdown",
      "metadata": {
        "id": "2msBeLSoRfT7"
      },
      "source": [
        "Create Prediction Model (adapt model to accept single line inputs (batch size = 1)."
      ]
    },
    {
      "cell_type": "code",
      "metadata": {
        "id": "zzQW69qxRfT_"
      },
      "source": [
        "# Function: produce modified model for making text predictions\n",
        "def get_prediction_model(pretrained_model,\n",
        "                         model_dir=MODEL_DIR, \n",
        "                         checkpoint_dir=CHECKPOINT_DIR):\n",
        "    \n",
        "    # get tokenizer\n",
        "    tokenizer = create_character_tokenizer()\n",
        "    \n",
        "    # initialize new model with batch size = 1\n",
        "    prediction_model = get_model(batch_size=1)\n",
        "\n",
        "    # load weights from pre-trained model\n",
        "    trained_weights = pretrained_model.get_weights()\n",
        "    prediction_model.set_weights(trained_weights)\n",
        "\n",
        "    return prediction_model, tokenizer\n",
        "\n",
        "\n",
        "# Store trained model separate from checkpoints\n",
        "def save_prediction_model(prediction_model,\n",
        "                          model_dir=MODEL_DIR, \n",
        "                          checkpoint_dir=CHECKPOINT_DIR):\n",
        "\n",
        "    # save model\n",
        "    prediction_model.save(model_dir)\n",
        "\n",
        "    # get tokenizer\n",
        "    prediction_tokenizer = create_character_tokenizer()\n",
        "    \n",
        "    # save tokenizer\n",
        "    with open(model_dir + 'tokenizer.pickle', 'wb') as file:\n",
        "        pickle.dump(prediction_tokenizer, file, pickle.HIGHEST_PROTOCOL)\n",
        "\n",
        "    return None"
      ],
      "execution_count": null,
      "outputs": []
    },
    {
      "cell_type": "markdown",
      "metadata": {
        "id": "tQIxFxA7ooyO"
      },
      "source": [
        "Define text generation function"
      ]
    },
    {
      "cell_type": "code",
      "metadata": {
        "id": "3aHg6y44RfUJ"
      },
      "source": [
        "# Function: Outputs weighted predictions for next token \n",
        "# (as logits / log-odds ration)\n",
        "def get_logits(model, token_sequence, initial_state=None):\n",
        "    \"\"\"\n",
        "    Paramater:\n",
        "    model - our prediction model (batch size = 1)\n",
        "    \"\"\"\n",
        "    \n",
        "    # enable carrying forward state from top GRU layer\n",
        "    GRU_layer = model.get_layer('GRU_OUTPUT')\n",
        "    GRU_layer.reset_states(initial_state)\n",
        "\n",
        "    # Get the model's next token prediction (as logits)\n",
        "    input = tf.constant(token_sequence)\n",
        "    final_pred = model(input)[:, -1, :]\n",
        "        \n",
        "    return final_pred.numpy()    \n",
        "\n",
        "\n",
        "# Function: selects a value from logits prediction\n",
        "def sample_token(logits, precision_reduction=0):   \n",
        "\n",
        "    # choose a value from logits distribution\n",
        "    # (fuzz_factor: perturbs probabilities for extra variation)\n",
        "    fuzz_factor = tf.random.normal(shape=logits.shape, mean=1, stddev=.2)\n",
        "\n",
        "    sample = tf.random.categorical(\n",
        "                        logits=logits * (1 + precision_reduction * fuzz_factor), \n",
        "                        num_samples=1, \n",
        "                        )\n",
        "\n",
        "    # convert to integer\n",
        "    next_token = sample[0,0].numpy()\n",
        "\n",
        "    return next_token"
      ],
      "execution_count": null,
      "outputs": []
    },
    {
      "cell_type": "markdown",
      "metadata": {
        "id": "5wG5lo3to8RP"
      },
      "source": [
        "Text Generator Function"
      ]
    },
    {
      "cell_type": "code",
      "metadata": {
        "id": "tTXyxnDg6Qae"
      },
      "source": [
        "# test model\r\n",
        "@anvil.server.callable\r\n",
        "def generate_text(starting_text, precision_reduction,\r\n",
        "                  prediction_tokenizer, prediction_model,\r\n",
        "                  author='assorted'):\r\n",
        "\r\n",
        "    # set length of generated text\r\n",
        "    num_generation_steps = 350\r\n",
        "  \r\n",
        "    # format user input\r\n",
        "    starting_text = starting_text.upper() + ': '\r\n",
        "\r\n",
        "    prediction = make_prediction(init_string=starting_text, \r\n",
        "                               num_generation_steps=num_generation_steps, \r\n",
        "                               prediction_tokenizer=prediction_tokenizer, \r\n",
        "                               prediction_model=prediction_model, \r\n",
        "                               precision_reduction=precision_reduction, \r\n",
        "                               model_name=author, \r\n",
        "                               print_result=True)\r\n",
        "    \r\n",
        "    output = starting_text + '\\n'\r\n",
        "    split_on = ['?', '.', ',', ';', '!', ':']\r\n",
        "    splits = '([' + ''.join(split_on) + '])'\r\n",
        "    split_lines_prediction = re.split(splits, prediction)\r\n",
        "    \r\n",
        "    for line in split_lines_prediction:\r\n",
        "        line_update = line[0].upper()\r\n",
        "        try: \r\n",
        "            line_update += line[1:]\r\n",
        "        except:\r\n",
        "            pass\r\n",
        "        if line_update[-1] in split_on or line_update[-2:] == '\\n':\r\n",
        "            output= ''.join([output, line_update])\r\n",
        "        else:\r\n",
        "            output= '\\n'.join([output, line_update])\r\n",
        "    \r\n",
        "    return output + '... '\r\n",
        "\r\n",
        "if USE_ANVIL:\r\n",
        "    anvil.server.wait_forever()"
      ],
      "execution_count": null,
      "outputs": []
    },
    {
      "cell_type": "markdown",
      "metadata": {
        "id": "LJC1LNpPnjPC"
      },
      "source": [
        "# Prepare Datasets"
      ]
    },
    {
      "cell_type": "code",
      "metadata": {
        "id": "1GKdfRVdniPa"
      },
      "source": [
        "all_datasets, tokenizer = preprocess(filename=DATASET_PRIMARY, \r\n",
        "                                         batch_size=BATCH_SIZE)"
      ],
      "execution_count": null,
      "outputs": []
    },
    {
      "cell_type": "markdown",
      "metadata": {
        "id": "aoOBnp0ym67t"
      },
      "source": [
        "# Load Model"
      ]
    },
    {
      "cell_type": "code",
      "metadata": {
        "id": "1Niq_tTFeYye"
      },
      "source": [
        "init_model, tokenizer, checkpoint, checkpoint_manager = \\\r\n",
        "        build_load_model(batch_size=BATCH_SIZE)"
      ],
      "execution_count": null,
      "outputs": []
    },
    {
      "cell_type": "markdown",
      "metadata": {
        "id": "FZRm2Wg2m-fW"
      },
      "source": [
        "# Train Model\r\n",
        "\r\n",
        "Suggested Techniques:\r\n",
        " - Reduce learning rate after initial training runs, as model can easily overfit to most recent data example\r\n",
        " - Allow some overfitting immediately before creating final text generation model. "
      ]
    },
    {
      "cell_type": "code",
      "metadata": {
        "id": "hgNVUFExjljW"
      },
      "source": [
        "train_more = True\r\n",
        "\r\n",
        "if train_more:\r\n",
        "    num_epochs = 1\r\n",
        "    if train_more:\r\n",
        "        train_model(model=init_model, \r\n",
        "                    checkpoint=checkpoint, \r\n",
        "                    checkpoint_manager=checkpoint_manager,\r\n",
        "                    train_datasets_list=all_datasets, \r\n",
        "                    num_epochs=num_epochs, \r\n",
        "                    num_datasets_to_use=10,\r\n",
        "                    learning_rate=0.001,)"
      ],
      "execution_count": null,
      "outputs": []
    },
    {
      "cell_type": "markdown",
      "metadata": {
        "id": "mG38H2YQnwjF"
      },
      "source": [
        "# Create Prediction Model"
      ]
    },
    {
      "cell_type": "code",
      "metadata": {
        "id": "fvNkiG26WyQ8"
      },
      "source": [
        "# Load Prediction Model\r\n",
        "prediction_model, prediction_tokenizer = \\\r\n",
        "    get_prediction_model(pretrained_model=init_model)\r\n",
        "prediction_model.summary()\r\n",
        "\r\n",
        "# Save the prediction model\r\n",
        "save_prediction_mod = True\r\n",
        "if save_prediction_mod:\r\n",
        "    save_prediction_model(prediction_model,\r\n",
        "                        model_dir=MODEL_DIR)"
      ],
      "execution_count": null,
      "outputs": []
    },
    {
      "cell_type": "markdown",
      "metadata": {
        "id": "7A0FOxOTRfUc"
      },
      "source": [
        "# Generate text from the model"
      ]
    },
    {
      "cell_type": "code",
      "metadata": {
        "id": "L68uZVx0olg9",
        "colab": {
          "base_uri": "https://localhost:8080/",
          "height": 244
        },
        "outputId": "f322a2e8-8ab0-42f9-e425-fd46e808680c"
      },
      "source": [
        "text_generated = generate_text(starting_text='She ', \r\n",
        "                               prediction_tokenizer=prediction_tokenizer, \r\n",
        "                               prediction_model=prediction_model,\r\n",
        "                               precision_reduction=0,\r\n",
        "                               author='Robert_Frost')\r\n",
        "print(text_generated)"
      ],
      "execution_count": null,
      "outputs": [
        {
          "output_type": "error",
          "ename": "NameError",
          "evalue": "ignored",
          "traceback": [
            "\u001b[0;31m---------------------------------------------------------------------------\u001b[0m",
            "\u001b[0;31mNameError\u001b[0m                                 Traceback (most recent call last)",
            "\u001b[0;32m<ipython-input-44-531d38f6f591>\u001b[0m in \u001b[0;36m<module>\u001b[0;34m()\u001b[0m\n\u001b[1;32m      1\u001b[0m text_generated = generate_text(starting_text='She ', \n\u001b[0;32m----> 2\u001b[0;31m                                \u001b[0mprediction_tokenizer\u001b[0m\u001b[0;34m=\u001b[0m\u001b[0mprediction_tokenizer\u001b[0m\u001b[0;34m,\u001b[0m\u001b[0;34m\u001b[0m\u001b[0;34m\u001b[0m\u001b[0m\n\u001b[0m\u001b[1;32m      3\u001b[0m                                \u001b[0mprediction_model\u001b[0m\u001b[0;34m=\u001b[0m\u001b[0mprediction_model\u001b[0m\u001b[0;34m,\u001b[0m\u001b[0;34m\u001b[0m\u001b[0;34m\u001b[0m\u001b[0m\n\u001b[1;32m      4\u001b[0m                                \u001b[0mprecision_reduction\u001b[0m\u001b[0;34m=\u001b[0m\u001b[0;36m0\u001b[0m\u001b[0;34m,\u001b[0m\u001b[0;34m\u001b[0m\u001b[0;34m\u001b[0m\u001b[0m\n\u001b[1;32m      5\u001b[0m                                author='Robert_Frost')\n",
            "\u001b[0;31mNameError\u001b[0m: name 'prediction_tokenizer' is not defined"
          ]
        }
      ]
    },
    {
      "cell_type": "code",
      "metadata": {
        "id": "chMWI5ftXqx0"
      },
      "source": [
        ""
      ],
      "execution_count": null,
      "outputs": []
    }
  ]
}