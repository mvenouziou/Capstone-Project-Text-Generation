{
  "nbformat": 4,
  "nbformat_minor": 0,
  "metadata": {
    "colab": {
      "name": "Mo_Text Generator_CSV.ipynb",
      "provenance": [],
      "collapsed_sections": [],
      "include_colab_link": true
    },
    "coursera": {
      "course_slug": "tensor-flow-2-2",
      "graded_item_id": "4eYSM",
      "launcher_item_id": "HEV6h"
    },
    "kernelspec": {
      "display_name": "Python 3",
      "language": "python",
      "name": "python3"
    },
    "language_info": {
      "codemirror_mode": {
        "name": "ipython",
        "version": 3
      },
      "file_extension": ".py",
      "mimetype": "text/x-python",
      "name": "python",
      "nbconvert_exporter": "python",
      "pygments_lexer": "ipython3",
      "version": "3.7.1"
    },
    "accelerator": "GPU"
  },
  "cells": [
    {
      "cell_type": "markdown",
      "metadata": {
        "id": "view-in-github",
        "colab_type": "text"
      },
      "source": [
        "<a href=\"https://colab.research.google.com/github/mvenouziou/Capstone-Project-Text-Generation/blob/main/Mo_Text_Generator_char_level.ipynb\" target=\"_parent\"><img src=\"https://colab.research.google.com/assets/colab-badge.svg\" alt=\"Open In Colab\"/></a>"
      ]
    },
    {
      "cell_type": "markdown",
      "metadata": {
        "id": "pFRRArflRfR1"
      },
      "source": [
        "## Text Generation RNN"
      ]
    },
    {
      "cell_type": "markdown",
      "metadata": {
        "id": "r3wpZrx7RfR-"
      },
      "source": [
        "This program constructs an unsupervised character-level sequence model that can generate text according to a distribution learned from the dataset."
      ]
    },
    {
      "cell_type": "code",
      "metadata": {
        "id": "2j_QtDXtRfR4",
        "colab": {
          "base_uri": "https://localhost:8080/"
        },
        "outputId": "1ccf2070-2cc7-4cc2-f48f-9164cee9191c"
      },
      "source": [
        "#### PACKAGE IMPORTS ####\n",
        "# ML design\n",
        "import tensorflow as tf\n",
        "from tensorflow import keras\n",
        "!pip install -q tensorflow-text\n",
        "import tensorflow_text as text\n",
        "from tensorflow.keras.callbacks import ModelCheckpoint \n",
        "\n",
        "# data handling\n",
        "import numpy as np\n",
        "import pandas as pd\n",
        "import random\n",
        "import re\n",
        "import string\n",
        "import random\n",
        "\n",
        "# visualization\n",
        "import matplotlib.pyplot as plt\n",
        "%matplotlib inline\n",
        "\n",
        "# file management\n",
        "import urllib.request\n",
        "import os\n",
        "import pickle"
      ],
      "execution_count": 1,
      "outputs": [
        {
          "output_type": "stream",
          "text": [
            "\u001b[K     |████████████████████████████████| 3.4MB 7.4MB/s \n",
            "\u001b[?25h"
          ],
          "name": "stdout"
        }
      ]
    },
    {
      "cell_type": "code",
      "metadata": {
        "colab": {
          "base_uri": "https://localhost:8080/"
        },
        "id": "zDKnvDvXalYF",
        "outputId": "464252fb-f3bb-476d-af7a-1b295a4b6528"
      },
      "source": [
        "# integrations\r\n",
        "# mount google drive:\r\n",
        "GDRIVE_DIR = '/content/gdrive/'\r\n",
        "from google.colab import drive\r\n",
        "drive.mount(GDRIVE_DIR)\r\n",
        "\r\n",
        "# Anvil's web app server\r\n",
        "!pip install -q anvil-uplink\r\n",
        "import anvil.server\r\n",
        "\r\n",
        "USE_ANVIL = False  \r\n",
        "if USE_ANVIL:\r\n",
        "    anvil.server.connect('53NFXI7IX7IE233XQTVJDXUM-PUGRV2WON2LETWBG')"
      ],
      "execution_count": 2,
      "outputs": [
        {
          "output_type": "stream",
          "text": [
            "Mounted at /content/gdrive/\n",
            "\u001b[K     |████████████████████████████████| 61kB 5.3MB/s \n",
            "\u001b[K     |████████████████████████████████| 61kB 7.4MB/s \n",
            "\u001b[?25h  Building wheel for ws4py (setup.py) ... \u001b[?25l\u001b[?25hdone\n"
          ],
          "name": "stdout"
        }
      ]
    },
    {
      "cell_type": "markdown",
      "metadata": {
        "id": "kkHeu2U8keZ6"
      },
      "source": [
        "##### GLOBAL VARIABLES\r\n",
        "File directories and hyperparameters"
      ]
    },
    {
      "cell_type": "code",
      "metadata": {
        "id": "3fRagWNBR0-E"
      },
      "source": [
        "# GLOBAL VARIABLES\n",
        "\n",
        "# integrations\n",
        "\n",
        "\n",
        "# hyperparameters\n",
        "BATCH_SIZE = 32\n",
        "PADDED_EXAMPLE_LENGTH = 500\n",
        "EMBEDDING_DIM = 256\n",
        "\n",
        "AUTHOR = 'Robert_Frost' \n",
        "        #  'Shakespeare'\n",
        "         # 'assorted'\n",
        "\n",
        "# file directory structure in Google Drive\n",
        "\n",
        "FILEPATH = GDRIVE_DIR + 'MyDrive/Colab_Notebooks/models/text_generation/' + AUTHOR\n",
        "CHECKPOINT_DIR = FILEPATH + '/checkpoints/'\n",
        "CACHE_DIR = FILEPATH + '/cache/'\n",
        "MODEL_DIR = FILEPATH + '/prediction_model/'\n",
        "DATASETS_DIR = 'https://raw.githubusercontent.com/mvenouziou/text_generator/main/'\n",
        "\n",
        "# dataset files (.txt and .csv allowed)\n",
        "DATASET_PRIMARY =  'robert_frost_collection.csv'\n",
        "DATASETS = [DATASET_PRIMARY] + \\\n",
        "            [# robert_frost_collection.csv,\n",
        "             # 'robert_frost_assorted.txt',\n",
        "             # 'call_of_the_wild_jack_london.txt',\n",
        "             # 'treasure_island.txt',\n",
        "             # 'robinsons_crusoe.txt',\n",
        "             # 'wizard_of_oz.txt',\n",
        "             # 'sherlock_holmes.txt',\n",
        "             # 'mark_twain_speeches.txt',\n",
        "             # 'dorian_gray_oscar_wilde.txt',  \n",
        "             # 'ezra_pound_assorted.txt',\n",
        "             # 'walt_whitman_leaves_of_grass.txt',\n",
        "             # 'Shakespeare_poems_cleaned_partially.txt',\n",
        "             # 'shakespeare_selected.txt',\n",
        "             # 'edgar_allen_poe.txt'\n",
        "            ]"
      ],
      "execution_count": 3,
      "outputs": []
    },
    {
      "cell_type": "markdown",
      "metadata": {
        "id": "ppOL7TDHRfSA"
      },
      "source": [
        "#### Load and inspect the dataset"
      ]
    },
    {
      "cell_type": "code",
      "metadata": {
        "id": "XXwzWcB-RfSD"
      },
      "source": [
        "# Function: loader for .csv files\n",
        "def prepare_csv(filename, datasets_dir=DATASETS_DIR, \n",
        "                content_columns=['Name', 'Content'], shuffle_rows=True):\n",
        "    \n",
        "    # load data into DataFrame\n",
        "    dataframe = pd.read_csv(datasets_dir + filename).dropna()\n",
        "    # specific to Robert Frost set\n",
        "    if 'Name ' in dataframe.columns:\n",
        "        dataframe.rename(columns={'Name ':'Name'})\n",
        "    try:     \n",
        "        dataframe['Name'] = dataframe['Name'].apply(\n",
        "                                lambda x: x.upper() + ':\\n')\n",
        "        \n",
        "        dataframe['Content'] = dataframe['Content'].apply(\n",
        "                        lambda x: x + '\\n')\n",
        "    except:\n",
        "        pass\n",
        "    dataframe = dataframe[content_columns]\n",
        "\n",
        "    # shuffle entries (rows)\n",
        "    if shuffle_rows:\n",
        "        dataframe = dataframe.sample(frac=1)\n",
        "    \n",
        "    # data cleanup\n",
        "    dataframe = dataframe[content_columns]\n",
        "    \n",
        "    # merge desired text columns\n",
        "    dataframe['merge'] = dataframe[content_columns[0]]\n",
        "    for i in range(1, len(content_columns)):\n",
        "        dataframe['merge'] = dataframe['merge'] + dataframe[content_columns[i]]\n",
        "\n",
        "    # convert to list of strings\n",
        "    data_list = dataframe['merge'].tolist()\n",
        "    \n",
        "    return data_list   \n",
        "\n",
        "\n",
        "# Function: Load and standardize data files\n",
        "def load_parse(data_list, display_samples=True):  \n",
        "\n",
        "    # remove paragraph / line marks and split up words  \n",
        "    tokenizer = text.WhitespaceTokenizer()\n",
        "\n",
        "    # tokenize data (outputs bytestrings)\n",
        "    cleaned_list_byte = [tokenizer.tokenize(data).numpy() for data in data_list]\n",
        "\n",
        "    # convert data to string format\n",
        "    num_entries = len(cleaned_list_byte)\n",
        "\n",
        "    clean_list = [' '.join(map(lambda x: x.decode(), cleaned_list_byte[i])) \n",
        "                    for i in range(num_entries)]\n",
        "\n",
        "    # Display some text samples\n",
        "    if display_samples:\n",
        "        num_samples = 5\n",
        "        inx = np.random.choice(len(clean_list), num_samples, replace=False)\n",
        "        for example in np.array(clean_list)[inx]:\n",
        "            print(example)\n",
        "            print()\n",
        "\n",
        "        print('len(text_chunks):', len(clean_list))\n",
        "\n",
        "    return clean_list"
      ],
      "execution_count": 4,
      "outputs": []
    },
    {
      "cell_type": "code",
      "metadata": {
        "id": "TrN6M1mnbmP1"
      },
      "source": [
        "def create_blocks(full_examples, max_len=PADDED_EXAMPLE_LENGTH):\r\n",
        "    # creates list of sliding n-grams for each example\r\n",
        "    # and creates a list of these lists\r\n",
        "\r\n",
        "    blocks = []\r\n",
        "\r\n",
        "    for example in full_examples:      \r\n",
        "\r\n",
        "        example_block = []\r\n",
        "        example_length = len(example)\r\n",
        "\r\n",
        "        # small blocks at start (will be zero-padded later)\r\n",
        "        leading_characters = 5  # characters input into model \r\n",
        "                                # before starting prediction\r\n",
        "        for i in range(leading_characters, example_length - max_len - 1):\r\n",
        "            example_block.append(example[: i])\r\n",
        "        \r\n",
        "        # full length blocks\r\n",
        "        for i in range(example_length - max_len - 1):\r\n",
        "            # create n-gram\r\n",
        "            example_block.append(example[i: max_len + i])\r\n",
        "\r\n",
        "        # small blocks at end (will be zero-padded later)\r\n",
        "        for i in range(example_length - max_len - 1, example_length-1):\r\n",
        "            example_block.append(example[i: ])\r\n",
        "    \r\n",
        "        blocks.append(example_block)\r\n",
        "    \r\n",
        "    return blocks"
      ],
      "execution_count": 5,
      "outputs": []
    },
    {
      "cell_type": "markdown",
      "metadata": {
        "id": "gWObVg6DRfSi"
      },
      "source": [
        "#### Encode data for model"
      ]
    },
    {
      "cell_type": "code",
      "metadata": {
        "id": "Q8s2aR4oRfSb",
        "colab": {
          "base_uri": "https://localhost:8080/",
          "height": 36
        },
        "outputId": "76a2100f-e6ed-4fde-9a14-3de2afe7de25"
      },
      "source": [
        "# Function: Create and fit tokenizer object\n",
        "def create_character_tokenizer():\n",
        "    \"\"\"\n",
        "    This function takes a list of strings as its argument. It should create \n",
        "    and return a Tokenizer according to the above specifications. \n",
        "    \"\"\"\n",
        "\n",
        "    # Initialize standard keras tokenizer\n",
        "    tokenizer = tf.keras.preprocessing.text.Tokenizer(\n",
        "                    num_words=None,  # number of tokens is not limited\n",
        "                    filters='#$%&()*+-/<=>@[]^_`{|}~\\t', \n",
        "                    lower=True,  # whether to convert to lowercase letters\n",
        "                    char_level=True,  # tokens created at character level\n",
        "                    oov_token=None,  # drop unknown characters\n",
        "                    )\n",
        "    \n",
        "    # fit tokenizer\n",
        "    vocab = string.punctuation + string.digits + string.ascii_letters + ' '\n",
        "    tokenizer.fit_on_texts(vocab)\n",
        "\n",
        "    return tokenizer\n",
        "\n",
        "\"\"\"\n",
        "# Function: apply tokenizer\n",
        "def strings_to_sequences(tokenizer, list_of_strings): \n",
        "    return tokenizer.texts_to_sequences(list_of_strings)  \n",
        "\"\"\""
      ],
      "execution_count": 6,
      "outputs": [
        {
          "output_type": "execute_result",
          "data": {
            "application/vnd.google.colaboratory.intrinsic+json": {
              "type": "string"
            },
            "text/plain": [
              "'\\n# Function: apply tokenizer\\ndef strings_to_sequences(tokenizer, list_of_strings): \\n    return tokenizer.texts_to_sequences(list_of_strings)  \\n'"
            ]
          },
          "metadata": {
            "tags": []
          },
          "execution_count": 6
        }
      ]
    },
    {
      "cell_type": "markdown",
      "metadata": {
        "id": "U-4W2iICRfS3"
      },
      "source": [
        "#### Create input and target Datasets for stateful RNN"
      ]
    },
    {
      "cell_type": "code",
      "metadata": {
        "id": "zLf-9KxWRfSw"
      },
      "source": [
        "def make_padded_array(text_blocks, tokenizer, max_len=PADDED_EXAMPLE_LENGTH):\n",
        "    # Tokenizes and applies padding for uniform length\n",
        "\n",
        "    # tokenize\n",
        "    token_blocks = tokenizer.texts_to_sequences(text_blocks)\n",
        "\n",
        "    # zero padding\n",
        "    padded_blocks = tf.keras.preprocessing.sequence.pad_sequences(\n",
        "                        sequences=token_blocks,  # dataset\n",
        "                        maxlen=max_len, \n",
        "                        dtype='int32', \n",
        "                        padding='pre',\n",
        "                        truncating='pre', \n",
        "                        value=0.0\n",
        "                  )\n",
        "    \n",
        "    return padded_blocks"
      ],
      "execution_count": 7,
      "outputs": []
    },
    {
      "cell_type": "code",
      "metadata": {
        "id": "pzLY5mT3RfS5"
      },
      "source": [
        "def create_inputs_and_targets(array_of_sequences):\n",
        "    \"\"\"\n",
        "    create input / target pairs to predict the next character in each sequence\n",
        "    \"\"\"   \n",
        "    input_arr = array_of_sequences[:, :-1]\n",
        "    target_arr = array_of_sequences[:, 1:]\n",
        "\n",
        "    return input_arr, target_arr\n",
        "    "
      ],
      "execution_count": 8,
      "outputs": []
    },
    {
      "cell_type": "markdown",
      "metadata": {
        "id": "JcoP9vOGDqlV"
      },
      "source": [
        "Note: Our text data are not independent random samples. Content from earlier in the text can inform future predictions. In this case we can use a 'stateful' model to capture some of this dependence relation.  (The data must be broken into continuous blocks of text for this to work. Care must be taken for that to occur-- rows in one epoch must be continuations from the corresponding row in an earlier epoch.)\r\n",
        "\r\n"
      ]
    },
    {
      "cell_type": "code",
      "metadata": {
        "id": "S4gsVamxRfTK"
      },
      "source": [
        "# Function: data prep to create stateful RNN batches\n",
        "# note: when applying this function to full dataset we must reset the \n",
        "# internal RNN state every PADDED_EXAMPLE_LENGTH batches\n",
        "def preprocess_stateful(input, target, batch_size=BATCH_SIZE):\n",
        "\n",
        "    # Prepare input and output arrays for training the stateful RNN\n",
        "    num_examples = input.shape[0]\n",
        "\n",
        "    # adjust for batch size to divide evenly into sample size\n",
        "    num_processed_examples = num_examples - (num_examples % batch_size)\n",
        "    input_cropped = input[:num_processed_examples]\n",
        "    target_cropped = target[:num_processed_examples]\n",
        "\n",
        "    # separate out samples so rows of data match up across epochs\n",
        "    # 'steps' measures how to space them out\n",
        "    steps = num_processed_examples // batch_size  \n",
        "\n",
        "    # define reordering\n",
        "    inx = np.empty((0,), dtype=np.int32)  # initialize empty array object\n",
        "    \n",
        "    for i in range(steps):\n",
        "        inx = np.concatenate((inx, i + np.arange(0, num_processed_examples, \n",
        "                                                    steps)))\n",
        "\n",
        "    # reorder the data\n",
        "    input_seq_stateful = input_cropped[inx]\n",
        "    target_seq_stateful = target_cropped[inx]\n",
        "\n",
        "    return input_seq_stateful, target_seq_stateful"
      ],
      "execution_count": 9,
      "outputs": []
    },
    {
      "cell_type": "markdown",
      "metadata": {
        "id": "IKfaWcCCRfTf"
      },
      "source": [
        "#### Define RNN model"
      ]
    },
    {
      "cell_type": "code",
      "metadata": {
        "id": "oauekqOSRfTi"
      },
      "source": [
        "# Function: Model Definition\n",
        "def get_model(vocab_size, batch_size=BATCH_SIZE, embedding_dim=EMBEDDING_DIM):\n",
        "    # Defines and compiles a stateful RNN model\n",
        "    \n",
        "    from keras.layers import Embedding, GRU, Dense, \\\n",
        "                             Dropout, BatchNormalization\n",
        "\n",
        "    model = keras.Sequential([\n",
        "                # embedding layer\n",
        "                Embedding(input_dim=vocab_size, \n",
        "                          output_dim=embedding_dim,\n",
        "                          mask_zero=True, \n",
        "                          batch_input_shape=(batch_size, None),\n",
        "                          name='Embedding',\n",
        "                          ),\n",
        "\n",
        "                # RNN layers\n",
        "                GRU(units=256, \n",
        "                    stateful=True, \n",
        "                    return_sequences=True,\n",
        "                    name='GRU_1',\n",
        "                    ),\n",
        "                Dropout(rate=.10,\n",
        "                        name='Dropout_1',\n",
        "                         ),\n",
        "                BatchNormalization(name='Batch_Norm_1',\n",
        "                                   ),\n",
        "                GRU(units=256, \n",
        "                    stateful=True, \n",
        "                    return_sequences=True,\n",
        "                    name='GRU_2',\n",
        "                    ),\n",
        "                Dropout(rate=.10,\n",
        "                        name='Dropout_2',\n",
        "                         ),\n",
        "                BatchNormalization(name='Batch_Norm_2',\n",
        "                                   ),\n",
        "                GRU(units=256, \n",
        "                    stateful=True, \n",
        "                    return_sequences=True,\n",
        "                    name='GRU_OUTPUT',\n",
        "                    ),\n",
        "               \n",
        "                # prediction layer\n",
        "                Dense(units=vocab_size, \n",
        "                      activation=None,\n",
        "                      name='Decoding',\n",
        "                      )          \n",
        "    ])\n",
        "\n",
        "    model.compile(optimizer=tf.keras.optimizers.Adamax(learning_rate=0.001),\n",
        "                  loss=tf.keras.losses.SparseCategoricalCrossentropy(\n",
        "                                                        from_logits=True),\n",
        "                  metrics=['sparse_categorical_accuracy', \n",
        "                           'sparse_categorical_crossentropy'],\n",
        "                  )\n",
        "\n",
        "    return model"
      ],
      "execution_count": 10,
      "outputs": []
    },
    {
      "cell_type": "code",
      "metadata": {
        "id": "DJhnIUHSRfTt"
      },
      "source": [
        "# Function: Train model\n",
        "def train_model(model, train_datasets_list, \n",
        "                checkpoint, checkpoint_manager,\n",
        "                num_epochs=1, num_datasets_to_use=10,\n",
        "                batch_size=BATCH_SIZE, filepath=FILEPATH, \n",
        "                checkpoint_dir=CHECKPOINT_DIR):\n",
        "\n",
        "    for epoch in range(num_epochs):\n",
        "\n",
        "        print('Epoch {epoch:03d}'.format(epoch = epoch))\n",
        "\n",
        "        # shuffle dataset order\n",
        "        random.shuffle(train_datasets_list)\n",
        "\n",
        "        for i in range(num_datasets_to_use):\n",
        "\n",
        "            # select dataset\n",
        "            data = train_datasets_list[i]\n",
        "            \n",
        "            # choose random starting point (on odd epochs)\n",
        "            if epoch % 2 == 1:\n",
        "                k = np.random.randint(0, 50)\n",
        "                data.skip(batch_size * k) \n",
        "\n",
        "            # train model\n",
        "            history = model.fit(data,\n",
        "                                shuffle=False,\n",
        "                                epochs=1,\n",
        "                                verbose=1)\n",
        "            \n",
        "            # reset RNN hidden states\n",
        "            model.reset_states()\n",
        "\n",
        "            # save checkpoint\n",
        "            checkpoint_manager.save()\n",
        "\n",
        "        # save full model at end of each epoch\n",
        "        model.save(checkpoint_dir + 'saved_model_epoch_' + str(epoch))\n",
        "\n",
        "    return model"
      ],
      "execution_count": 11,
      "outputs": []
    },
    {
      "cell_type": "markdown",
      "metadata": {
        "id": "Cf8_OrNEvKcL"
      },
      "source": [
        "### Create Text Generation Function\r\n",
        "Adapt trained model"
      ]
    },
    {
      "cell_type": "code",
      "metadata": {
        "id": "eYl_VlGatdzu"
      },
      "source": [
        "# Final Prediction Function #######\r\n",
        "\r\n",
        "def make_prediction(init_string, num_generation_steps, \r\n",
        "                    prediction_tokenizer, prediction_model, \r\n",
        "                    precision_reduction=0,\r\n",
        "                    model_name=AUTHOR, print_result=False):\r\n",
        "\r\n",
        "    # Use the model to generate a token sequence\r\n",
        "    # note: prediction model should use batch size=1\r\n",
        "\r\n",
        "    # get final GRU layer for logits\r\n",
        "    GRU_layer = prediction_model.get_layer('GRU_OUTPUT')\r\n",
        "    \r\n",
        "    # convert user input to model input\r\n",
        "    token_sequence = prediction_tokenizer.texts_to_sequences([init_string])\r\n",
        "    initial_state = None\r\n",
        "    input_sequence = token_sequence\r\n",
        "    init_len = len(input_sequence[0])\r\n",
        "\r\n",
        "    for i in range(num_generation_steps):\r\n",
        "        \r\n",
        "        # get next character predictions (probability distribution)\r\n",
        "        logits = get_logits(prediction_model, input_sequence, initial_state=initial_state)\r\n",
        "\r\n",
        "        # choose next character\r\n",
        "        sampled_token = sample_token(logits, precision_reduction)\r\n",
        "        \r\n",
        "        # add character to generated text\r\n",
        "        token_sequence[0].append(sampled_token)\r\n",
        "        \r\n",
        "        # pass forward GRU state\r\n",
        "        input_sequence = [[sampled_token]]\r\n",
        "        initial_state = GRU_layer.states[0].numpy()\r\n",
        "\r\n",
        "    # decode tokens to text\r\n",
        "    predicted_text = prediction_tokenizer.sequences_to_texts(token_sequence)[0][::2]\r\n",
        "    \r\n",
        "    if print_result:\r\n",
        "        print(predicted_text)\r\n",
        "\r\n",
        "    return predicted_text"
      ],
      "execution_count": 12,
      "outputs": []
    },
    {
      "cell_type": "markdown",
      "metadata": {
        "id": "VI5-5cZphPGz"
      },
      "source": [
        "*************************************\r\n",
        "*************************************\r\n",
        "\r\n",
        "### Implement Functions to Create Models\r\n",
        "\r\n",
        "*************************************\r\n",
        "*************************************"
      ]
    },
    {
      "cell_type": "markdown",
      "metadata": {
        "id": "I0sajFK7knqH"
      },
      "source": [
        "##### Preprocess Data / Create list of TF Datasets"
      ]
    },
    {
      "cell_type": "code",
      "metadata": {
        "id": "BaexA4ozmIkx"
      },
      "source": [
        "# preprocess data\r\n",
        "def preprocess(filename=DATASET_PRIMARY, \r\n",
        "               batch_size=BATCH_SIZE):\r\n",
        "\r\n",
        "    # get tokenizer\r\n",
        "    tokenizer = create_character_tokenizer()\r\n",
        "\r\n",
        "    # load /clean csv data\r\n",
        "    data_list = prepare_csv(filename, \r\n",
        "                            datasets_dir=DATASETS_DIR, \r\n",
        "                            content_columns=['Name', 'Content'], \r\n",
        "                            shuffle_rows=True)\r\n",
        "\r\n",
        "    # preprocessing step\r\n",
        "    full_examples = load_parse(data_list, \r\n",
        "                               display_samples=False)\r\n",
        "\r\n",
        "    # reshape data to appropriate size for stateful RNN\r\n",
        "    # ## tokenize and break up into blocks\r\n",
        "    text_blocks = create_blocks(full_examples, \r\n",
        "                                max_len=PADDED_EXAMPLE_LENGTH)\r\n",
        "    \r\n",
        "    # ## pad to uniform size\r\n",
        "    padded_blocks = []\r\n",
        "    all_datasets = []\r\n",
        "    \r\n",
        "    for block in text_blocks:\r\n",
        "        padded_arr = make_padded_array(block, \r\n",
        "                                       tokenizer, \r\n",
        "                                       max_len=PADDED_EXAMPLE_LENGTH) \r\n",
        "        \r\n",
        "        # create input / targets\r\n",
        "        input_arr, target_arr = \\\r\n",
        "            create_inputs_and_targets(padded_arr)\r\n",
        "\r\n",
        "        # rearrange order as stateful RNN batches\r\n",
        "        input_seq_stateful, target_seq_stateful = \\\r\n",
        "            preprocess_stateful(input_arr, target_arr)\r\n",
        "        \r\n",
        "        # convert to Dataset\r\n",
        "        dataset = tf.data.Dataset.from_tensor_slices((input_seq_stateful, \r\n",
        "                                                      target_seq_stateful)\r\n",
        "                                                    )\r\n",
        "        dataset = dataset.batch(batch_size, \r\n",
        "                                drop_remainder=True)\r\n",
        "        dataset = dataset.prefetch(tf.data.AUTOTUNE)\r\n",
        "\r\n",
        "        # update dataset list\r\n",
        "        all_datasets.append(dataset)\r\n",
        "\r\n",
        "    # report summary\r\n",
        "    print('full_examples:', len(full_examples))\r\n",
        "    print('text_blocks:', len(text_blocks))\r\n",
        "    print('padded_blocks:', len(padded_blocks))\r\n",
        "    print('example input_arr :', input_arr.shape)\r\n",
        "    print('example target_arr:', target_arr.shape)\r\n",
        "    print('all_datasets:', len(all_datasets))\r\n",
        "    print('all_datasets[0]:', all_datasets[0])\r\n",
        "    \r\n",
        "    return all_datasets, tokenizer"
      ],
      "execution_count": 13,
      "outputs": []
    },
    {
      "cell_type": "markdown",
      "metadata": {
        "id": "Rj2fmp91kvai"
      },
      "source": [
        "##### Create / Train Model"
      ]
    },
    {
      "cell_type": "code",
      "metadata": {
        "id": "AmmEfYo-RfTl"
      },
      "source": [
        "def build_load_model(checkpoint_dir=CHECKPOINT_DIR, batch_size=BATCH_SIZE):\n",
        "\n",
        "    \"\"\" Initializes and trains a model for 1 epoch, \n",
        "    and saves it to disk \"\"\"\n",
        "\n",
        "    # initialize model structure\n",
        "    tokenizer = create_character_tokenizer()\n",
        "    model = get_model(vocab_size=len(tokenizer.word_index) + 1,\n",
        "                      batch_size=batch_size)\n",
        "\n",
        "    # initialize checkpoint managers\n",
        "    checkpoint = tf.train.Checkpoint(model=model)\n",
        "\n",
        "    checkpoint_manager = tf.train.CheckpointManager(\n",
        "                            checkpoint=checkpoint, \n",
        "                            directory=checkpoint_dir, \n",
        "                            max_to_keep=4, \n",
        "                            keep_checkpoint_every_n_hours=None,\n",
        "                            checkpoint_name='ckpt', \n",
        "                            step_counter=None, \n",
        "                            checkpoint_interval=None,\n",
        "                            init_fn=None\n",
        "                            )\n",
        "    \n",
        "    # load any saved weights\n",
        "    try:\n",
        "        checkpoint_manager.restore()\n",
        "        print('loaded checkpoint')\n",
        "    except:\n",
        "        print('new model initialized')\n",
        "\n",
        "    model.summary()\n",
        "\n",
        "    return model, tokenizer, checkpoint, checkpoint_manager"
      ],
      "execution_count": 14,
      "outputs": []
    },
    {
      "cell_type": "markdown",
      "metadata": {
        "id": "2msBeLSoRfT7"
      },
      "source": [
        "Create Prediction Model (adapt model to accept single line inputs (batch size = 1)."
      ]
    },
    {
      "cell_type": "code",
      "metadata": {
        "id": "zzQW69qxRfT_"
      },
      "source": [
        "# Function: produce modified model for making text predictions\n",
        "def get_prediction_model(pretrained_model,\n",
        "                         model_dir=MODEL_DIR, \n",
        "                         checkpoint_dir=CHECKPOINT_DIR):\n",
        "    \n",
        "    # get tokenizer\n",
        "    tokenizer = create_character_tokenizer()\n",
        "    \n",
        "    # initialize new model with batch size = 1\n",
        "    prediction_model = get_model(vocab_size=len(tokenizer.word_index) + 1, \n",
        "                           batch_size=1)\n",
        "\n",
        "    # load weights from pre-trained model\n",
        "    trained_weights = pretrained_model.get_weights()\n",
        "    prediction_model.set_weights(trained_weights)\n",
        "\n",
        "    return prediction_model, tokenizer\n",
        "\n",
        "\n",
        "# Store trained model separate from checkpoints\n",
        "def save_prediction_model(prediction_model,\n",
        "                          model_dir=MODEL_DIR, \n",
        "                          checkpoint_dir=CHECKPOINT_DIR):\n",
        "\n",
        "    # save model\n",
        "    prediction_model.save(model_dir)\n",
        "\n",
        "    # get tokenizer\n",
        "    prediction_tokenizer = create_character_tokenizer()\n",
        "    \n",
        "    # save tokenizer\n",
        "    with open(model_dir + 'tokenizer.pickle', 'wb') as file:\n",
        "        pickle.dump(prediction_tokenizer, file, pickle.HIGHEST_PROTOCOL)\n",
        "\n",
        "    return None"
      ],
      "execution_count": 15,
      "outputs": []
    },
    {
      "cell_type": "markdown",
      "metadata": {
        "id": "tQIxFxA7ooyO"
      },
      "source": [
        "Define text generation function"
      ]
    },
    {
      "cell_type": "code",
      "metadata": {
        "id": "3aHg6y44RfUJ"
      },
      "source": [
        "# Function: Outputs weighted predictions for next token \n",
        "# (as logits / log-odds ration)\n",
        "def get_logits(model, token_sequence, initial_state=None):\n",
        "    \"\"\"\n",
        "    Paramater:\n",
        "    model - our prediction model set with batch size = 1\n",
        "    \"\"\"\n",
        "    \n",
        "    # carry forward previous state from GRU layer\n",
        "    GRU_layer = model.get_layer('GRU_OUTPUT')\n",
        "    GRU_layer.reset_states(initial_state)\n",
        "\n",
        "    # Get the model's next token prediction (as logits)\n",
        "    input = tf.constant(token_sequence)\n",
        "    final_pred = model(input)[:, -1, :]\n",
        "        \n",
        "    return final_pred.numpy()    \n",
        "\n",
        "\n",
        "# Function: selects a value from logits prediction\n",
        "def sample_token(logits, precision_reduction=0):   \n",
        "\n",
        "    # choose a value from logits distribution\n",
        "    # (fuzz_factor: adds some imprecision to results)\n",
        "    fuzz_factor = tf.random.normal(shape=logits.shape, mean=1, stddev=.2)\n",
        "\n",
        "    sample = tf.random.categorical(\n",
        "                        logits=logits * (1 + precision_reduction * fuzz_factor), \n",
        "                        num_samples=1, \n",
        "                        )\n",
        "\n",
        "    # convert to integer\n",
        "    next_token = sample[0,0].numpy()\n",
        "\n",
        "    return next_token"
      ],
      "execution_count": 16,
      "outputs": []
    },
    {
      "cell_type": "markdown",
      "metadata": {
        "id": "5wG5lo3to8RP"
      },
      "source": [
        "Text Generator Function"
      ]
    },
    {
      "cell_type": "code",
      "metadata": {
        "id": "tTXyxnDg6Qae"
      },
      "source": [
        "# test model\r\n",
        "@anvil.server.callable\r\n",
        "def generate_text(starting_text, precision_reduction,\r\n",
        "                  prediction_tokenizer, prediction_model,\r\n",
        "                  author='assorted'):\r\n",
        "\r\n",
        "    # set length of generated text\r\n",
        "    num_generation_steps = 350\r\n",
        "  \r\n",
        "    # format user input\r\n",
        "    starting_text = starting_text.upper() + ': '\r\n",
        "\r\n",
        "    prediction = make_prediction(init_string=starting_text, \r\n",
        "                               num_generation_steps=num_generation_steps, \r\n",
        "                               prediction_tokenizer=prediction_tokenizer, \r\n",
        "                               prediction_model=prediction_model, \r\n",
        "                               precision_reduction=precision_reduction, \r\n",
        "                               model_name=author, \r\n",
        "                               print_result=True)\r\n",
        "    \r\n",
        "    output = starting_text + '\\n'\r\n",
        "    split_on = ['?', '.', ',', ';', '!', ':']\r\n",
        "    splits = '([' + ''.join(split_on) + '])'\r\n",
        "    split_lines_prediction = re.split(splits, prediction)\r\n",
        "    \r\n",
        "    if author=='Shakespeare':\r\n",
        "        separator_length = 3\r\n",
        "    else:\r\n",
        "        separator_length = 2\r\n",
        "\r\n",
        "    for line in split_lines_prediction:\r\n",
        "        line = line[0].upper() + line[1:]\r\n",
        "        if line[-1] in split_on or line[-2:] == '\\n':\r\n",
        "            output= ''.join([output, line])\r\n",
        "        else:\r\n",
        "            output= '\\n'.join([output, line])\r\n",
        "    \r\n",
        "    return output + '... '\r\n",
        "\r\n",
        "if USE_ANVIL:\r\n",
        "    anvil.server.wait_forever()"
      ],
      "execution_count": 17,
      "outputs": []
    },
    {
      "cell_type": "markdown",
      "metadata": {
        "id": "LJC1LNpPnjPC"
      },
      "source": [
        "# Prepare Datasets"
      ]
    },
    {
      "cell_type": "code",
      "metadata": {
        "colab": {
          "base_uri": "https://localhost:8080/"
        },
        "id": "1GKdfRVdniPa",
        "outputId": "c0a39725-f49f-4ebd-edbd-4ee504a71bfc"
      },
      "source": [
        "all_datasets, tokenizer = preprocess(filename=DATASET_PRIMARY, \r\n",
        "                                     batch_size=BATCH_SIZE)"
      ],
      "execution_count": 18,
      "outputs": [
        {
          "output_type": "stream",
          "text": [
            "WARNING:tensorflow:From /usr/local/lib/python3.6/dist-packages/tensorflow/python/util/dispatch.py:201: batch_gather (from tensorflow.python.ops.array_ops) is deprecated and will be removed after 2017-10-25.\n",
            "Instructions for updating:\n",
            "`tf.batch_gather` is deprecated, please use `tf.gather` with `batch_dims=-1` instead.\n",
            "full_examples: 107\n",
            "text_blocks: 107\n",
            "padded_blocks: 0\n",
            "example input_arr : (2313, 499)\n",
            "example target_arr: (2313, 499)\n",
            "all_datasets: 107\n",
            "all_datasets[0]: <PrefetchDataset shapes: ((32, 499), (32, 499)), types: (tf.int32, tf.int32)>\n"
          ],
          "name": "stdout"
        }
      ]
    },
    {
      "cell_type": "markdown",
      "metadata": {
        "id": "aoOBnp0ym67t"
      },
      "source": [
        "# Load Model"
      ]
    },
    {
      "cell_type": "code",
      "metadata": {
        "colab": {
          "base_uri": "https://localhost:8080/",
          "height": 36
        },
        "id": "kBTIQd-46XbD",
        "outputId": "74025964-6cb9-4ac7-f23e-c1e30f86b468"
      },
      "source": [
        "checkpoint_manager.restore_or_initialize()"
      ],
      "execution_count": 24,
      "outputs": [
        {
          "output_type": "execute_result",
          "data": {
            "application/vnd.google.colaboratory.intrinsic+json": {
              "type": "string"
            },
            "text/plain": [
              "'/content/gdrive/MyDrive/Colab_Notebooks/models/text_generation/Robert_Frost/checkpoints/ckpt-85'"
            ]
          },
          "metadata": {
            "tags": []
          },
          "execution_count": 24
        }
      ]
    },
    {
      "cell_type": "code",
      "metadata": {
        "colab": {
          "base_uri": "https://localhost:8080/"
        },
        "id": "1Niq_tTFeYye",
        "outputId": "d02878a6-e06c-4879-8aac-534722b1163d"
      },
      "source": [
        "init_model, tokenizer, checkpoint, checkpoint_manager = \\\r\n",
        "    build_load_model(batch_size=BATCH_SIZE)"
      ],
      "execution_count": 19,
      "outputs": [
        {
          "output_type": "stream",
          "text": [
            "new model initialized\n",
            "Model: \"sequential\"\n",
            "_________________________________________________________________\n",
            "Layer (type)                 Output Shape              Param #   \n",
            "=================================================================\n",
            "Embedding (Embedding)        (32, None, 256)           17920     \n",
            "_________________________________________________________________\n",
            "GRU_1 (GRU)                  (32, None, 256)           394752    \n",
            "_________________________________________________________________\n",
            "Dropout_1 (Dropout)          (32, None, 256)           0         \n",
            "_________________________________________________________________\n",
            "Batch_Norm_1 (BatchNormaliza (32, None, 256)           1024      \n",
            "_________________________________________________________________\n",
            "GRU_2 (GRU)                  (32, None, 256)           394752    \n",
            "_________________________________________________________________\n",
            "Dropout_2 (Dropout)          (32, None, 256)           0         \n",
            "_________________________________________________________________\n",
            "Batch_Norm_2 (BatchNormaliza (32, None, 256)           1024      \n",
            "_________________________________________________________________\n",
            "GRU_OUTPUT (GRU)             (32, None, 256)           394752    \n",
            "_________________________________________________________________\n",
            "Decoding (Dense)             (32, None, 70)            17990     \n",
            "=================================================================\n",
            "Total params: 1,222,214\n",
            "Trainable params: 1,221,190\n",
            "Non-trainable params: 1,024\n",
            "_________________________________________________________________\n"
          ],
          "name": "stdout"
        }
      ]
    },
    {
      "cell_type": "markdown",
      "metadata": {
        "id": "FZRm2Wg2m-fW"
      },
      "source": [
        "# Train Model"
      ]
    },
    {
      "cell_type": "code",
      "metadata": {
        "colab": {
          "base_uri": "https://localhost:8080/"
        },
        "id": "hgNVUFExjljW",
        "outputId": "7db93d7e-1e83-490e-cdb3-7cc7c33b0208"
      },
      "source": [
        "train_more = True\r\n",
        "num_epochs = 1\r\n",
        "if train_more:\r\n",
        "    train_model(model=init_model, \r\n",
        "                checkpoint=checkpoint, \r\n",
        "                checkpoint_manager=checkpoint_manager,\r\n",
        "                train_datasets_list=all_datasets, \r\n",
        "                num_epochs=num_epochs, \r\n",
        "                num_datasets_to_use=50)"
      ],
      "execution_count": null,
      "outputs": [
        {
          "output_type": "stream",
          "text": [
            "Epoch 000\n",
            "20/20 [==============================] - 27s 1s/step - loss: 0.5635 - sparse_categorical_accuracy: 0.7425 - sparse_categorical_crossentropy: 2.8619\n",
            "58/58 [==============================] - 79s 1s/step - loss: 0.5649 - sparse_categorical_accuracy: 0.8296 - sparse_categorical_crossentropy: 2.8312\n",
            "42/42 [==============================] - 58s 1s/step - loss: 0.4803 - sparse_categorical_accuracy: 0.8267 - sparse_categorical_crossentropy: 2.7502\n",
            "285/285 [==============================] - 390s 1s/step - loss: 0.4046 - sparse_categorical_accuracy: 0.9068 - sparse_categorical_crossentropy: 2.7650\n",
            "17/17 [==============================] - 23s 1s/step - loss: 0.7228 - sparse_categorical_accuracy: 0.6709 - sparse_categorical_crossentropy: 2.9753\n",
            "240/240 [==============================] - 328s 1s/step - loss: 0.3353 - sparse_categorical_accuracy: 0.9184 - sparse_categorical_crossentropy: 2.7356\n",
            "99/99 [==============================] - 135s 1s/step - loss: 0.3055 - sparse_categorical_accuracy: 0.9139 - sparse_categorical_crossentropy: 2.6859\n",
            "618/618 [==============================] - 844s 1s/step - loss: 0.1547 - sparse_categorical_accuracy: 0.9655 - sparse_categorical_crossentropy: 2.6540\n",
            "249/249 [==============================] - 341s 1s/step - loss: 0.3004 - sparse_categorical_accuracy: 0.9302 - sparse_categorical_crossentropy: 2.6957\n",
            "56/56 [==============================] - 77s 1s/step - loss: 0.4787 - sparse_categorical_accuracy: 0.8567 - sparse_categorical_crossentropy: 2.7607\n",
            "71/71 [==============================] - 98s 1s/step - loss: 0.4424 - sparse_categorical_accuracy: 0.8740 - sparse_categorical_crossentropy: 2.7248\n",
            "585/585 [==============================] - 804s 1s/step - loss: 0.3151 - sparse_categorical_accuracy: 0.9249 - sparse_categorical_crossentropy: 2.6691\n",
            "42/42 [==============================] - 58s 1s/step - loss: 0.4281 - sparse_categorical_accuracy: 0.8505 - sparse_categorical_crossentropy: 2.7122\n",
            "293/293 [==============================] - 403s 1s/step - loss: 0.3334 - sparse_categorical_accuracy: 0.9248 - sparse_categorical_crossentropy: 2.6580\n",
            "325/325 [==============================] - 448s 1s/step - loss: 0.2995 - sparse_categorical_accuracy: 0.9305 - sparse_categorical_crossentropy: 2.6314\n",
            "27/27 [==============================] - 37s 1s/step - loss: 0.5012 - sparse_categorical_accuracy: 0.7887 - sparse_categorical_crossentropy: 2.7643\n",
            "21/21 [==============================] - 29s 1s/step - loss: 0.6455 - sparse_categorical_accuracy: 0.7211 - sparse_categorical_crossentropy: 2.8432\n",
            "33/33 [==============================] - 46s 1s/step - loss: 0.5120 - sparse_categorical_accuracy: 0.8010 - sparse_categorical_crossentropy: 2.7379\n",
            "19/19 [==============================] - 26s 1s/step - loss: 0.7259 - sparse_categorical_accuracy: 0.7030 - sparse_categorical_crossentropy: 2.9081\n",
            "477/477 [==============================] - 656s 1s/step - loss: 0.3432 - sparse_categorical_accuracy: 0.9165 - sparse_categorical_crossentropy: 2.6442\n",
            "276/276 [==============================] - 380s 1s/step - loss: 0.2636 - sparse_categorical_accuracy: 0.9356 - sparse_categorical_crossentropy: 2.6069\n",
            "18/18 [==============================] - 25s 1s/step - loss: 0.7704 - sparse_categorical_accuracy: 0.6773 - sparse_categorical_crossentropy: 3.0006\n",
            "15/15 [==============================] - 21s 1s/step - loss: 0.8589 - sparse_categorical_accuracy: 0.6184 - sparse_categorical_crossentropy: 3.0773\n",
            "26/26 [==============================] - 36s 1s/step - loss: 0.6233 - sparse_categorical_accuracy: 0.7432 - sparse_categorical_crossentropy: 2.8319\n",
            "15/15 [==============================] - 21s 1s/step - loss: 0.6268 - sparse_categorical_accuracy: 0.5793 - sparse_categorical_crossentropy: 3.2301\n",
            "105/105 [==============================] - 145s 1s/step - loss: 0.4116 - sparse_categorical_accuracy: 0.8892 - sparse_categorical_crossentropy: 2.6671\n",
            "15/15 [==============================] - 21s 1s/step - loss: 0.5031 - sparse_categorical_accuracy: 0.6234 - sparse_categorical_crossentropy: 3.1089\n",
            "52/52 [==============================] - 71s 1s/step - loss: 0.5349 - sparse_categorical_accuracy: 0.8262 - sparse_categorical_crossentropy: 2.7672\n",
            "20/20 [==============================] - 28s 1s/step - loss: 0.6508 - sparse_categorical_accuracy: 0.7096 - sparse_categorical_crossentropy: 2.8472\n",
            "553/553 [==============================] - 756s 1s/step - loss: 0.3496 - sparse_categorical_accuracy: 0.9133 - sparse_categorical_crossentropy: 2.6383\n",
            "46/46 [==============================] - 63s 1s/step - loss: 0.4207 - sparse_categorical_accuracy: 0.8546 - sparse_categorical_crossentropy: 2.6826\n",
            "57/57 [==============================] - 78s 1s/step - loss: 0.4862 - sparse_categorical_accuracy: 0.8521 - sparse_categorical_crossentropy: 2.6913\n",
            "15/15 [==============================] - 20s 1s/step - loss: 0.6785 - sparse_categorical_accuracy: 0.7011 - sparse_categorical_crossentropy: 2.9340\n",
            "43/43 [==============================] - 58s 1s/step - loss: 0.5291 - sparse_categorical_accuracy: 0.8159 - sparse_categorical_crossentropy: 2.7382\n",
            "19/19 [==============================] - 26s 1s/step - loss: 0.7122 - sparse_categorical_accuracy: 0.6974 - sparse_categorical_crossentropy: 2.8808\n",
            "80/80 [==============================] - 109s 1s/step - loss: 0.5295 - sparse_categorical_accuracy: 0.8518 - sparse_categorical_crossentropy: 2.7262\n",
            "27/27 [==============================] - 36s 1s/step - loss: 0.6033 - sparse_categorical_accuracy: 0.7396 - sparse_categorical_crossentropy: 2.7812\n",
            "  1/149 [..............................] - ETA: 3:19 - loss: 2.4693 - sparse_categorical_accuracy: 0.4173 - sparse_categorical_crossentropy: 3.3023"
          ],
          "name": "stdout"
        }
      ]
    },
    {
      "cell_type": "markdown",
      "metadata": {
        "id": "mG38H2YQnwjF"
      },
      "source": [
        "# Create Prediction Model"
      ]
    },
    {
      "cell_type": "code",
      "metadata": {
        "colab": {
          "base_uri": "https://localhost:8080/"
        },
        "id": "fvNkiG26WyQ8",
        "outputId": "31df3527-f1f8-4625-aa82-dcc1d9b8a3de"
      },
      "source": [
        "# Load Prediction Model\r\n",
        "prediction_model, prediction_tokenizer = \\\r\n",
        "    get_prediction_model(pretrained_model=init_model)\r\n",
        "prediction_model.summary()\r\n",
        "\r\n",
        "# Save the prediction model\r\n",
        "save_prediction_mod = True\r\n",
        "if save_prediction_mod:\r\n",
        "    save_prediction_model(prediction_model,\r\n",
        "                          model_dir=MODEL_DIR)"
      ],
      "execution_count": 25,
      "outputs": [
        {
          "output_type": "stream",
          "text": [
            "Model: \"sequential_2\"\n",
            "_________________________________________________________________\n",
            "Layer (type)                 Output Shape              Param #   \n",
            "=================================================================\n",
            "Embedding (Embedding)        (1, None, 256)            17920     \n",
            "_________________________________________________________________\n",
            "GRU_1 (GRU)                  (1, None, 256)            394752    \n",
            "_________________________________________________________________\n",
            "Dropout_1 (Dropout)          (1, None, 256)            0         \n",
            "_________________________________________________________________\n",
            "Batch_Norm_1 (BatchNormaliza (1, None, 256)            1024      \n",
            "_________________________________________________________________\n",
            "GRU_2 (GRU)                  (1, None, 256)            394752    \n",
            "_________________________________________________________________\n",
            "Dropout_2 (Dropout)          (1, None, 256)            0         \n",
            "_________________________________________________________________\n",
            "Batch_Norm_2 (BatchNormaliza (1, None, 256)            1024      \n",
            "_________________________________________________________________\n",
            "GRU_OUTPUT (GRU)             (1, None, 256)            394752    \n",
            "_________________________________________________________________\n",
            "Decoding (Dense)             (1, None, 70)             17990     \n",
            "=================================================================\n",
            "Total params: 1,222,214\n",
            "Trainable params: 1,221,190\n",
            "Non-trainable params: 1,024\n",
            "_________________________________________________________________\n"
          ],
          "name": "stdout"
        }
      ]
    },
    {
      "cell_type": "code",
      "metadata": {
        "colab": {
          "base_uri": "https://localhost:8080/"
        },
        "id": "YInZ4OiXkFtK",
        "outputId": "56136ab1-008b-4202-e52c-64915bac164d"
      },
      "source": [
        "init_model.save(FILEPATH)"
      ],
      "execution_count": 26,
      "outputs": [
        {
          "output_type": "stream",
          "text": [
            "WARNING:absl:Found untraced functions such as gru_cell_layer_call_and_return_conditional_losses, gru_cell_layer_call_fn, gru_cell_1_layer_call_and_return_conditional_losses, gru_cell_1_layer_call_fn, gru_cell_2_layer_call_and_return_conditional_losses while saving (showing 5 of 15). These functions will not be directly callable after loading.\n",
            "WARNING:absl:Found untraced functions such as gru_cell_layer_call_and_return_conditional_losses, gru_cell_layer_call_fn, gru_cell_1_layer_call_and_return_conditional_losses, gru_cell_1_layer_call_fn, gru_cell_2_layer_call_and_return_conditional_losses while saving (showing 5 of 15). These functions will not be directly callable after loading.\n"
          ],
          "name": "stderr"
        },
        {
          "output_type": "stream",
          "text": [
            "INFO:tensorflow:Assets written to: /content/gdrive/MyDrive/Colab_Notebooks/models/text_generation/Robert_Frost/assets\n"
          ],
          "name": "stdout"
        },
        {
          "output_type": "stream",
          "text": [
            "INFO:tensorflow:Assets written to: /content/gdrive/MyDrive/Colab_Notebooks/models/text_generation/Robert_Frost/assets\n"
          ],
          "name": "stderr"
        }
      ]
    },
    {
      "cell_type": "markdown",
      "metadata": {
        "id": "7A0FOxOTRfUc"
      },
      "source": [
        "# Generate text from the model"
      ]
    },
    {
      "cell_type": "code",
      "metadata": {
        "id": "L68uZVx0olg9",
        "colab": {
          "base_uri": "https://localhost:8080/"
        },
        "outputId": "b0c28955-addb-4597-dbed-ddc969cce83a"
      },
      "source": [
        "text_generated = generate_text(starting_text='Emmy the dog', \r\n",
        "                               prediction_tokenizer=prediction_tokenizer, \r\n",
        "                               prediction_model=prediction_model,\r\n",
        "                               precision_reduction=0,\r\n",
        "                               author='Shakespeare')\r\n",
        "print(text_generated)"
      ],
      "execution_count": 29,
      "outputs": [
        {
          "output_type": "stream",
          "text": [
            "emmy the dog: he said tain that it to spech overan. i see how my wo have been a-dider in the darkened parlor? you couldnt care! the new are that down the reason. ame anether the wall of a laughed. i my not to speak of anything so as to please you. but i might be ask it not so much larger than a bedroom, is it? there apart would make me out. give me my chance. i \n",
            "EMMY THE DOG: \n",
            "\n",
            "Emmy the dog:\n",
            " he said tain that it to spech overan.\n",
            " i see how my wo have been a-dider in the darkened parlor?\n",
            " you couldnt care!\n",
            " the new are that down the reason.\n",
            " ame anether the wall of a laughed.\n",
            " i my not to speak of anything so as to please you.\n",
            " but i might be ask it not so much larger than a bedroom,\n",
            " is it?\n",
            " there apart would make me out.\n",
            " give me my chance.\n",
            " i ... \n"
          ],
          "name": "stdout"
        }
      ]
    }
  ]
}