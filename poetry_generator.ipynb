{
  "nbformat": 4,
  "nbformat_minor": 0,
  "metadata": {
    "colab": {
      "name": "poetry_generator.ipynb",
      "provenance": [],
      "collapsed_sections": [],
      "authorship_tag": "ABX9TyP/uRohCWHjRroU43WMuKon",
      "include_colab_link": true
    },
    "kernelspec": {
      "name": "python3",
      "display_name": "Python 3"
    }
  },
  "cells": [
    {
      "cell_type": "markdown",
      "metadata": {
        "id": "view-in-github",
        "colab_type": "text"
      },
      "source": [
        "<a href=\"https://colab.research.google.com/github/mvenouziou/text_generator/blob/main/poetry_generator.ipynb\" target=\"_parent\"><img src=\"https://colab.research.google.com/assets/colab-badge.svg\" alt=\"Open In Colab\"/></a>"
      ]
    },
    {
      "cell_type": "code",
      "metadata": {
        "id": "TazS2ct_0bzD",
        "colab": {
          "base_uri": "https://localhost:8080/"
        },
        "outputId": "0b04d622-ff88-46d9-ac7d-17ce84dfea2a"
      },
      "source": [
        "# tensorflow modules\r\n",
        "import tensorflow as tf\r\n",
        "from tensorflow import keras\r\n",
        "from tensorflow.keras import layers\r\n",
        "\r\n",
        "# for loading pre-trained BERT embeddings\r\n",
        "!pip install -q tensorflow-text  # need to install at each Google Colab session\r\n",
        "import tensorflow_text as text  \r\n",
        "import tensorflow_hub as hub\r\n",
        "\r\n",
        "# general modules\r\n",
        "import numpy as np\r\n",
        "import pandas as pd\r\n",
        "from sklearn.model_selection import train_test_split\r\n",
        "import string"
      ],
      "execution_count": 6,
      "outputs": [
        {
          "output_type": "stream",
          "text": [
            "\u001b[?25l\r\u001b[K     |                                | 10kB 19.3MB/s eta 0:00:01\r\u001b[K     |▏                               | 20kB 24.0MB/s eta 0:00:01\r\u001b[K     |▎                               | 30kB 10.6MB/s eta 0:00:01\r\u001b[K     |▍                               | 40kB 9.5MB/s eta 0:00:01\r\u001b[K     |▌                               | 51kB 4.6MB/s eta 0:00:01\r\u001b[K     |▋                               | 61kB 4.8MB/s eta 0:00:01\r\u001b[K     |▊                               | 71kB 5.3MB/s eta 0:00:01\r\u001b[K     |▉                               | 81kB 5.6MB/s eta 0:00:01\r\u001b[K     |▉                               | 92kB 5.5MB/s eta 0:00:01\r\u001b[K     |█                               | 102kB 5.9MB/s eta 0:00:01\r\u001b[K     |█                               | 112kB 5.9MB/s eta 0:00:01\r\u001b[K     |█▏                              | 122kB 5.9MB/s eta 0:00:01\r\u001b[K     |█▎                              | 133kB 5.9MB/s eta 0:00:01\r\u001b[K     |█▍                              | 143kB 5.9MB/s eta 0:00:01\r\u001b[K     |█▌                              | 153kB 5.9MB/s eta 0:00:01\r\u001b[K     |█▋                              | 163kB 5.9MB/s eta 0:00:01\r\u001b[K     |█▋                              | 174kB 5.9MB/s eta 0:00:01\r\u001b[K     |█▊                              | 184kB 5.9MB/s eta 0:00:01\r\u001b[K     |█▉                              | 194kB 5.9MB/s eta 0:00:01\r\u001b[K     |██                              | 204kB 5.9MB/s eta 0:00:01\r\u001b[K     |██                              | 215kB 5.9MB/s eta 0:00:01\r\u001b[K     |██▏                             | 225kB 5.9MB/s eta 0:00:01\r\u001b[K     |██▎                             | 235kB 5.9MB/s eta 0:00:01\r\u001b[K     |██▍                             | 245kB 5.9MB/s eta 0:00:01\r\u001b[K     |██▍                             | 256kB 5.9MB/s eta 0:00:01\r\u001b[K     |██▌                             | 266kB 5.9MB/s eta 0:00:01\r\u001b[K     |██▋                             | 276kB 5.9MB/s eta 0:00:01\r\u001b[K     |██▊                             | 286kB 5.9MB/s eta 0:00:01\r\u001b[K     |██▉                             | 296kB 5.9MB/s eta 0:00:01\r\u001b[K     |███                             | 307kB 5.9MB/s eta 0:00:01\r\u001b[K     |███                             | 317kB 5.9MB/s eta 0:00:01\r\u001b[K     |███▏                            | 327kB 5.9MB/s eta 0:00:01\r\u001b[K     |███▏                            | 337kB 5.9MB/s eta 0:00:01\r\u001b[K     |███▎                            | 348kB 5.9MB/s eta 0:00:01\r\u001b[K     |███▍                            | 358kB 5.9MB/s eta 0:00:01\r\u001b[K     |███▌                            | 368kB 5.9MB/s eta 0:00:01\r\u001b[K     |███▋                            | 378kB 5.9MB/s eta 0:00:01\r\u001b[K     |███▊                            | 389kB 5.9MB/s eta 0:00:01\r\u001b[K     |███▉                            | 399kB 5.9MB/s eta 0:00:01\r\u001b[K     |████                            | 409kB 5.9MB/s eta 0:00:01\r\u001b[K     |████                            | 419kB 5.9MB/s eta 0:00:01\r\u001b[K     |████                            | 430kB 5.9MB/s eta 0:00:01\r\u001b[K     |████▏                           | 440kB 5.9MB/s eta 0:00:01\r\u001b[K     |████▎                           | 450kB 5.9MB/s eta 0:00:01\r\u001b[K     |████▍                           | 460kB 5.9MB/s eta 0:00:01\r\u001b[K     |████▌                           | 471kB 5.9MB/s eta 0:00:01\r\u001b[K     |████▋                           | 481kB 5.9MB/s eta 0:00:01\r\u001b[K     |████▊                           | 491kB 5.9MB/s eta 0:00:01\r\u001b[K     |████▊                           | 501kB 5.9MB/s eta 0:00:01\r\u001b[K     |████▉                           | 512kB 5.9MB/s eta 0:00:01\r\u001b[K     |█████                           | 522kB 5.9MB/s eta 0:00:01\r\u001b[K     |█████                           | 532kB 5.9MB/s eta 0:00:01\r\u001b[K     |█████▏                          | 542kB 5.9MB/s eta 0:00:01\r\u001b[K     |█████▎                          | 552kB 5.9MB/s eta 0:00:01\r\u001b[K     |█████▍                          | 563kB 5.9MB/s eta 0:00:01\r\u001b[K     |█████▌                          | 573kB 5.9MB/s eta 0:00:01\r\u001b[K     |█████▌                          | 583kB 5.9MB/s eta 0:00:01\r\u001b[K     |█████▋                          | 593kB 5.9MB/s eta 0:00:01\r\u001b[K     |█████▊                          | 604kB 5.9MB/s eta 0:00:01\r\u001b[K     |█████▉                          | 614kB 5.9MB/s eta 0:00:01\r\u001b[K     |██████                          | 624kB 5.9MB/s eta 0:00:01\r\u001b[K     |██████                          | 634kB 5.9MB/s eta 0:00:01\r\u001b[K     |██████▏                         | 645kB 5.9MB/s eta 0:00:01\r\u001b[K     |██████▎                         | 655kB 5.9MB/s eta 0:00:01\r\u001b[K     |██████▎                         | 665kB 5.9MB/s eta 0:00:01\r\u001b[K     |██████▍                         | 675kB 5.9MB/s eta 0:00:01\r\u001b[K     |██████▌                         | 686kB 5.9MB/s eta 0:00:01\r\u001b[K     |██████▋                         | 696kB 5.9MB/s eta 0:00:01\r\u001b[K     |██████▊                         | 706kB 5.9MB/s eta 0:00:01\r\u001b[K     |██████▉                         | 716kB 5.9MB/s eta 0:00:01\r\u001b[K     |███████                         | 727kB 5.9MB/s eta 0:00:01\r\u001b[K     |███████                         | 737kB 5.9MB/s eta 0:00:01\r\u001b[K     |███████                         | 747kB 5.9MB/s eta 0:00:01\r\u001b[K     |███████▏                        | 757kB 5.9MB/s eta 0:00:01\r\u001b[K     |███████▎                        | 768kB 5.9MB/s eta 0:00:01\r\u001b[K     |███████▍                        | 778kB 5.9MB/s eta 0:00:01\r\u001b[K     |███████▌                        | 788kB 5.9MB/s eta 0:00:01\r\u001b[K     |███████▋                        | 798kB 5.9MB/s eta 0:00:01\r\u001b[K     |███████▊                        | 808kB 5.9MB/s eta 0:00:01\r\u001b[K     |███████▉                        | 819kB 5.9MB/s eta 0:00:01\r\u001b[K     |███████▉                        | 829kB 5.9MB/s eta 0:00:01\r\u001b[K     |████████                        | 839kB 5.9MB/s eta 0:00:01\r\u001b[K     |████████                        | 849kB 5.9MB/s eta 0:00:01\r\u001b[K     |████████▏                       | 860kB 5.9MB/s eta 0:00:01\r\u001b[K     |████████▎                       | 870kB 5.9MB/s eta 0:00:01\r\u001b[K     |████████▍                       | 880kB 5.9MB/s eta 0:00:01\r\u001b[K     |████████▌                       | 890kB 5.9MB/s eta 0:00:01\r\u001b[K     |████████▋                       | 901kB 5.9MB/s eta 0:00:01\r\u001b[K     |████████▋                       | 911kB 5.9MB/s eta 0:00:01\r\u001b[K     |████████▊                       | 921kB 5.9MB/s eta 0:00:01\r\u001b[K     |████████▉                       | 931kB 5.9MB/s eta 0:00:01\r\u001b[K     |█████████                       | 942kB 5.9MB/s eta 0:00:01\r\u001b[K     |█████████                       | 952kB 5.9MB/s eta 0:00:01\r\u001b[K     |█████████▏                      | 962kB 5.9MB/s eta 0:00:01\r\u001b[K     |█████████▎                      | 972kB 5.9MB/s eta 0:00:01\r\u001b[K     |█████████▍                      | 983kB 5.9MB/s eta 0:00:01\r\u001b[K     |█████████▌                      | 993kB 5.9MB/s eta 0:00:01\r\u001b[K     |█████████▌                      | 1.0MB 5.9MB/s eta 0:00:01\r\u001b[K     |█████████▋                      | 1.0MB 5.9MB/s eta 0:00:01\r\u001b[K     |█████████▊                      | 1.0MB 5.9MB/s eta 0:00:01\r\u001b[K     |█████████▉                      | 1.0MB 5.9MB/s eta 0:00:01\r\u001b[K     |██████████                      | 1.0MB 5.9MB/s eta 0:00:01\r\u001b[K     |██████████                      | 1.1MB 5.9MB/s eta 0:00:01\r\u001b[K     |██████████▏                     | 1.1MB 5.9MB/s eta 0:00:01\r\u001b[K     |██████████▎                     | 1.1MB 5.9MB/s eta 0:00:01\r\u001b[K     |██████████▎                     | 1.1MB 5.9MB/s eta 0:00:01\r\u001b[K     |██████████▍                     | 1.1MB 5.9MB/s eta 0:00:01\r\u001b[K     |██████████▌                     | 1.1MB 5.9MB/s eta 0:00:01\r\u001b[K     |██████████▋                     | 1.1MB 5.9MB/s eta 0:00:01\r\u001b[K     |██████████▊                     | 1.1MB 5.9MB/s eta 0:00:01\r\u001b[K     |██████████▉                     | 1.1MB 5.9MB/s eta 0:00:01\r\u001b[K     |███████████                     | 1.1MB 5.9MB/s eta 0:00:01\r\u001b[K     |███████████                     | 1.2MB 5.9MB/s eta 0:00:01\r\u001b[K     |███████████                     | 1.2MB 5.9MB/s eta 0:00:01\r\u001b[K     |███████████▏                    | 1.2MB 5.9MB/s eta 0:00:01\r\u001b[K     |███████████▎                    | 1.2MB 5.9MB/s eta 0:00:01\r\u001b[K     |███████████▍                    | 1.2MB 5.9MB/s eta 0:00:01\r\u001b[K     |███████████▌                    | 1.2MB 5.9MB/s eta 0:00:01\r\u001b[K     |███████████▋                    | 1.2MB 5.9MB/s eta 0:00:01\r\u001b[K     |███████████▊                    | 1.2MB 5.9MB/s eta 0:00:01\r\u001b[K     |███████████▉                    | 1.2MB 5.9MB/s eta 0:00:01\r\u001b[K     |███████████▉                    | 1.2MB 5.9MB/s eta 0:00:01\r\u001b[K     |████████████                    | 1.3MB 5.9MB/s eta 0:00:01\r\u001b[K     |████████████                    | 1.3MB 5.9MB/s eta 0:00:01\r\u001b[K     |████████████▏                   | 1.3MB 5.9MB/s eta 0:00:01\r\u001b[K     |████████████▎                   | 1.3MB 5.9MB/s eta 0:00:01\r\u001b[K     |████████████▍                   | 1.3MB 5.9MB/s eta 0:00:01\r\u001b[K     |████████████▌                   | 1.3MB 5.9MB/s eta 0:00:01\r\u001b[K     |████████████▋                   | 1.3MB 5.9MB/s eta 0:00:01\r\u001b[K     |████████████▋                   | 1.3MB 5.9MB/s eta 0:00:01\r\u001b[K     |████████████▊                   | 1.3MB 5.9MB/s eta 0:00:01\r\u001b[K     |████████████▉                   | 1.4MB 5.9MB/s eta 0:00:01\r\u001b[K     |█████████████                   | 1.4MB 5.9MB/s eta 0:00:01\r\u001b[K     |█████████████                   | 1.4MB 5.9MB/s eta 0:00:01\r\u001b[K     |█████████████▏                  | 1.4MB 5.9MB/s eta 0:00:01\r\u001b[K     |█████████████▎                  | 1.4MB 5.9MB/s eta 0:00:01\r\u001b[K     |█████████████▍                  | 1.4MB 5.9MB/s eta 0:00:01\r\u001b[K     |█████████████▍                  | 1.4MB 5.9MB/s eta 0:00:01\r\u001b[K     |█████████████▌                  | 1.4MB 5.9MB/s eta 0:00:01\r\u001b[K     |█████████████▋                  | 1.4MB 5.9MB/s eta 0:00:01\r\u001b[K     |█████████████▊                  | 1.4MB 5.9MB/s eta 0:00:01\r\u001b[K     |█████████████▉                  | 1.5MB 5.9MB/s eta 0:00:01\r\u001b[K     |██████████████                  | 1.5MB 5.9MB/s eta 0:00:01\r\u001b[K     |██████████████                  | 1.5MB 5.9MB/s eta 0:00:01\r\u001b[K     |██████████████▏                 | 1.5MB 5.9MB/s eta 0:00:01\r\u001b[K     |██████████████▏                 | 1.5MB 5.9MB/s eta 0:00:01\r\u001b[K     |██████████████▎                 | 1.5MB 5.9MB/s eta 0:00:01\r\u001b[K     |██████████████▍                 | 1.5MB 5.9MB/s eta 0:00:01\r\u001b[K     |██████████████▌                 | 1.5MB 5.9MB/s eta 0:00:01\r\u001b[K     |██████████████▋                 | 1.5MB 5.9MB/s eta 0:00:01\r\u001b[K     |██████████████▊                 | 1.5MB 5.9MB/s eta 0:00:01\r\u001b[K     |██████████████▉                 | 1.6MB 5.9MB/s eta 0:00:01\r\u001b[K     |███████████████                 | 1.6MB 5.9MB/s eta 0:00:01\r\u001b[K     |███████████████                 | 1.6MB 5.9MB/s eta 0:00:01\r\u001b[K     |███████████████                 | 1.6MB 5.9MB/s eta 0:00:01\r\u001b[K     |███████████████▏                | 1.6MB 5.9MB/s eta 0:00:01\r\u001b[K     |███████████████▎                | 1.6MB 5.9MB/s eta 0:00:01\r\u001b[K     |███████████████▍                | 1.6MB 5.9MB/s eta 0:00:01\r\u001b[K     |███████████████▌                | 1.6MB 5.9MB/s eta 0:00:01\r\u001b[K     |███████████████▋                | 1.6MB 5.9MB/s eta 0:00:01\r\u001b[K     |███████████████▊                | 1.6MB 5.9MB/s eta 0:00:01\r\u001b[K     |███████████████▊                | 1.7MB 5.9MB/s eta 0:00:01\r\u001b[K     |███████████████▉                | 1.7MB 5.9MB/s eta 0:00:01\r\u001b[K     |████████████████                | 1.7MB 5.9MB/s eta 0:00:01\r\u001b[K     |████████████████                | 1.7MB 5.9MB/s eta 0:00:01\r\u001b[K     |████████████████▏               | 1.7MB 5.9MB/s eta 0:00:01\r\u001b[K     |████████████████▎               | 1.7MB 5.9MB/s eta 0:00:01\r\u001b[K     |████████████████▍               | 1.7MB 5.9MB/s eta 0:00:01\r\u001b[K     |████████████████▌               | 1.7MB 5.9MB/s eta 0:00:01\r\u001b[K     |████████████████▌               | 1.7MB 5.9MB/s eta 0:00:01\r\u001b[K     |████████████████▋               | 1.8MB 5.9MB/s eta 0:00:01\r\u001b[K     |████████████████▊               | 1.8MB 5.9MB/s eta 0:00:01\r\u001b[K     |████████████████▉               | 1.8MB 5.9MB/s eta 0:00:01\r\u001b[K     |█████████████████               | 1.8MB 5.9MB/s eta 0:00:01\r\u001b[K     |█████████████████               | 1.8MB 5.9MB/s eta 0:00:01\r\u001b[K     |█████████████████▏              | 1.8MB 5.9MB/s eta 0:00:01\r\u001b[K     |█████████████████▎              | 1.8MB 5.9MB/s eta 0:00:01\r\u001b[K     |█████████████████▎              | 1.8MB 5.9MB/s eta 0:00:01\r\u001b[K     |█████████████████▍              | 1.8MB 5.9MB/s eta 0:00:01\r\u001b[K     |█████████████████▌              | 1.8MB 5.9MB/s eta 0:00:01\r\u001b[K     |█████████████████▋              | 1.9MB 5.9MB/s eta 0:00:01\r\u001b[K     |█████████████████▊              | 1.9MB 5.9MB/s eta 0:00:01\r\u001b[K     |█████████████████▉              | 1.9MB 5.9MB/s eta 0:00:01\r\u001b[K     |██████████████████              | 1.9MB 5.9MB/s eta 0:00:01\r\u001b[K     |██████████████████              | 1.9MB 5.9MB/s eta 0:00:01\r\u001b[K     |██████████████████▏             | 1.9MB 5.9MB/s eta 0:00:01\r\u001b[K     |██████████████████▏             | 1.9MB 5.9MB/s eta 0:00:01\r\u001b[K     |██████████████████▎             | 1.9MB 5.9MB/s eta 0:00:01\r\u001b[K     |██████████████████▍             | 1.9MB 5.9MB/s eta 0:00:01\r\u001b[K     |██████████████████▌             | 1.9MB 5.9MB/s eta 0:00:01\r\u001b[K     |██████████████████▋             | 2.0MB 5.9MB/s eta 0:00:01\r\u001b[K     |██████████████████▊             | 2.0MB 5.9MB/s eta 0:00:01\r\u001b[K     |██████████████████▉             | 2.0MB 5.9MB/s eta 0:00:01\r\u001b[K     |███████████████████             | 2.0MB 5.9MB/s eta 0:00:01\r\u001b[K     |███████████████████             | 2.0MB 5.9MB/s eta 0:00:01\r\u001b[K     |███████████████████             | 2.0MB 5.9MB/s eta 0:00:01\r\u001b[K     |███████████████████▏            | 2.0MB 5.9MB/s eta 0:00:01\r\u001b[K     |███████████████████▎            | 2.0MB 5.9MB/s eta 0:00:01\r\u001b[K     |███████████████████▍            | 2.0MB 5.9MB/s eta 0:00:01\r\u001b[K     |███████████████████▌            | 2.0MB 5.9MB/s eta 0:00:01\r\u001b[K     |███████████████████▋            | 2.1MB 5.9MB/s eta 0:00:01\r\u001b[K     |███████████████████▊            | 2.1MB 5.9MB/s eta 0:00:01\r\u001b[K     |███████████████████▊            | 2.1MB 5.9MB/s eta 0:00:01\r\u001b[K     |███████████████████▉            | 2.1MB 5.9MB/s eta 0:00:01\r\u001b[K     |████████████████████            | 2.1MB 5.9MB/s eta 0:00:01\r\u001b[K     |████████████████████            | 2.1MB 5.9MB/s eta 0:00:01\r\u001b[K     |████████████████████▏           | 2.1MB 5.9MB/s eta 0:00:01\r\u001b[K     |████████████████████▎           | 2.1MB 5.9MB/s eta 0:00:01\r\u001b[K     |████████████████████▍           | 2.1MB 5.9MB/s eta 0:00:01\r\u001b[K     |████████████████████▌           | 2.2MB 5.9MB/s eta 0:00:01\r\u001b[K     |████████████████████▌           | 2.2MB 5.9MB/s eta 0:00:01\r\u001b[K     |████████████████████▋           | 2.2MB 5.9MB/s eta 0:00:01\r\u001b[K     |████████████████████▊           | 2.2MB 5.9MB/s eta 0:00:01\r\u001b[K     |████████████████████▉           | 2.2MB 5.9MB/s eta 0:00:01\r\u001b[K     |█████████████████████           | 2.2MB 5.9MB/s eta 0:00:01\r\u001b[K     |█████████████████████           | 2.2MB 5.9MB/s eta 0:00:01\r\u001b[K     |█████████████████████▏          | 2.2MB 5.9MB/s eta 0:00:01\r\u001b[K     |█████████████████████▎          | 2.2MB 5.9MB/s eta 0:00:01\r\u001b[K     |█████████████████████▎          | 2.2MB 5.9MB/s eta 0:00:01\r\u001b[K     |█████████████████████▍          | 2.3MB 5.9MB/s eta 0:00:01\r\u001b[K     |█████████████████████▌          | 2.3MB 5.9MB/s eta 0:00:01\r\u001b[K     |█████████████████████▋          | 2.3MB 5.9MB/s eta 0:00:01\r\u001b[K     |█████████████████████▊          | 2.3MB 5.9MB/s eta 0:00:01\r\u001b[K     |█████████████████████▉          | 2.3MB 5.9MB/s eta 0:00:01\r\u001b[K     |██████████████████████          | 2.3MB 5.9MB/s eta 0:00:01\r\u001b[K     |██████████████████████          | 2.3MB 5.9MB/s eta 0:00:01\r\u001b[K     |██████████████████████          | 2.3MB 5.9MB/s eta 0:00:01\r\u001b[K     |██████████████████████▏         | 2.3MB 5.9MB/s eta 0:00:01\r\u001b[K     |██████████████████████▎         | 2.3MB 5.9MB/s eta 0:00:01\r\u001b[K     |██████████████████████▍         | 2.4MB 5.9MB/s eta 0:00:01\r\u001b[K     |██████████████████████▌         | 2.4MB 5.9MB/s eta 0:00:01\r\u001b[K     |██████████████████████▋         | 2.4MB 5.9MB/s eta 0:00:01\r\u001b[K     |██████████████████████▊         | 2.4MB 5.9MB/s eta 0:00:01\r\u001b[K     |██████████████████████▉         | 2.4MB 5.9MB/s eta 0:00:01\r\u001b[K     |██████████████████████▉         | 2.4MB 5.9MB/s eta 0:00:01\r\u001b[K     |███████████████████████         | 2.4MB 5.9MB/s eta 0:00:01\r\u001b[K     |███████████████████████         | 2.4MB 5.9MB/s eta 0:00:01\r\u001b[K     |███████████████████████▏        | 2.4MB 5.9MB/s eta 0:00:01\r\u001b[K     |███████████████████████▎        | 2.4MB 5.9MB/s eta 0:00:01\r\u001b[K     |███████████████████████▍        | 2.5MB 5.9MB/s eta 0:00:01\r\u001b[K     |███████████████████████▌        | 2.5MB 5.9MB/s eta 0:00:01\r\u001b[K     |███████████████████████▋        | 2.5MB 5.9MB/s eta 0:00:01\r\u001b[K     |███████████████████████▋        | 2.5MB 5.9MB/s eta 0:00:01\r\u001b[K     |███████████████████████▊        | 2.5MB 5.9MB/s eta 0:00:01\r\u001b[K     |███████████████████████▉        | 2.5MB 5.9MB/s eta 0:00:01\r\u001b[K     |████████████████████████        | 2.5MB 5.9MB/s eta 0:00:01\r\u001b[K     |████████████████████████        | 2.5MB 5.9MB/s eta 0:00:01\r\u001b[K     |████████████████████████▏       | 2.5MB 5.9MB/s eta 0:00:01\r\u001b[K     |████████████████████████▎       | 2.5MB 5.9MB/s eta 0:00:01\r\u001b[K     |████████████████████████▍       | 2.6MB 5.9MB/s eta 0:00:01\r\u001b[K     |████████████████████████▍       | 2.6MB 5.9MB/s eta 0:00:01\r\u001b[K     |████████████████████████▌       | 2.6MB 5.9MB/s eta 0:00:01\r\u001b[K     |████████████████████████▋       | 2.6MB 5.9MB/s eta 0:00:01\r\u001b[K     |████████████████████████▊       | 2.6MB 5.9MB/s eta 0:00:01\r\u001b[K     |████████████████████████▉       | 2.6MB 5.9MB/s eta 0:00:01\r\u001b[K     |█████████████████████████       | 2.6MB 5.9MB/s eta 0:00:01\r\u001b[K     |█████████████████████████       | 2.6MB 5.9MB/s eta 0:00:01\r\u001b[K     |█████████████████████████▏      | 2.6MB 5.9MB/s eta 0:00:01\r\u001b[K     |█████████████████████████▏      | 2.7MB 5.9MB/s eta 0:00:01\r\u001b[K     |█████████████████████████▎      | 2.7MB 5.9MB/s eta 0:00:01\r\u001b[K     |█████████████████████████▍      | 2.7MB 5.9MB/s eta 0:00:01\r\u001b[K     |█████████████████████████▌      | 2.7MB 5.9MB/s eta 0:00:01\r\u001b[K     |█████████████████████████▋      | 2.7MB 5.9MB/s eta 0:00:01\r\u001b[K     |█████████████████████████▊      | 2.7MB 5.9MB/s eta 0:00:01\r\u001b[K     |█████████████████████████▉      | 2.7MB 5.9MB/s eta 0:00:01\r\u001b[K     |██████████████████████████      | 2.7MB 5.9MB/s eta 0:00:01\r\u001b[K     |██████████████████████████      | 2.7MB 5.9MB/s eta 0:00:01\r\u001b[K     |██████████████████████████      | 2.7MB 5.9MB/s eta 0:00:01\r\u001b[K     |██████████████████████████▏     | 2.8MB 5.9MB/s eta 0:00:01\r\u001b[K     |██████████████████████████▎     | 2.8MB 5.9MB/s eta 0:00:01\r\u001b[K     |██████████████████████████▍     | 2.8MB 5.9MB/s eta 0:00:01\r\u001b[K     |██████████████████████████▌     | 2.8MB 5.9MB/s eta 0:00:01\r\u001b[K     |██████████████████████████▋     | 2.8MB 5.9MB/s eta 0:00:01\r\u001b[K     |██████████████████████████▊     | 2.8MB 5.9MB/s eta 0:00:01\r\u001b[K     |██████████████████████████▊     | 2.8MB 5.9MB/s eta 0:00:01\r\u001b[K     |██████████████████████████▉     | 2.8MB 5.9MB/s eta 0:00:01\r\u001b[K     |███████████████████████████     | 2.8MB 5.9MB/s eta 0:00:01\r\u001b[K     |███████████████████████████     | 2.8MB 5.9MB/s eta 0:00:01\r\u001b[K     |███████████████████████████▏    | 2.9MB 5.9MB/s eta 0:00:01\r\u001b[K     |███████████████████████████▎    | 2.9MB 5.9MB/s eta 0:00:01\r\u001b[K     |███████████████████████████▍    | 2.9MB 5.9MB/s eta 0:00:01\r\u001b[K     |███████████████████████████▌    | 2.9MB 5.9MB/s eta 0:00:01\r\u001b[K     |███████████████████████████▋    | 2.9MB 5.9MB/s eta 0:00:01\r\u001b[K     |███████████████████████████▋    | 2.9MB 5.9MB/s eta 0:00:01\r\u001b[K     |███████████████████████████▊    | 2.9MB 5.9MB/s eta 0:00:01\r\u001b[K     |███████████████████████████▉    | 2.9MB 5.9MB/s eta 0:00:01\r\u001b[K     |████████████████████████████    | 2.9MB 5.9MB/s eta 0:00:01\r\u001b[K     |████████████████████████████    | 2.9MB 5.9MB/s eta 0:00:01\r\u001b[K     |████████████████████████████▏   | 3.0MB 5.9MB/s eta 0:00:01\r\u001b[K     |████████████████████████████▎   | 3.0MB 5.9MB/s eta 0:00:01\r\u001b[K     |████████████████████████████▍   | 3.0MB 5.9MB/s eta 0:00:01\r\u001b[K     |████████████████████████████▍   | 3.0MB 5.9MB/s eta 0:00:01\r\u001b[K     |████████████████████████████▌   | 3.0MB 5.9MB/s eta 0:00:01\r\u001b[K     |████████████████████████████▋   | 3.0MB 5.9MB/s eta 0:00:01\r\u001b[K     |████████████████████████████▊   | 3.0MB 5.9MB/s eta 0:00:01\r\u001b[K     |████████████████████████████▉   | 3.0MB 5.9MB/s eta 0:00:01\r\u001b[K     |█████████████████████████████   | 3.0MB 5.9MB/s eta 0:00:01\r\u001b[K     |█████████████████████████████   | 3.1MB 5.9MB/s eta 0:00:01\r\u001b[K     |█████████████████████████████▏  | 3.1MB 5.9MB/s eta 0:00:01\r\u001b[K     |█████████████████████████████▏  | 3.1MB 5.9MB/s eta 0:00:01\r\u001b[K     |█████████████████████████████▎  | 3.1MB 5.9MB/s eta 0:00:01\r\u001b[K     |█████████████████████████████▍  | 3.1MB 5.9MB/s eta 0:00:01\r\u001b[K     |█████████████████████████████▌  | 3.1MB 5.9MB/s eta 0:00:01\r\u001b[K     |█████████████████████████████▋  | 3.1MB 5.9MB/s eta 0:00:01\r\u001b[K     |█████████████████████████████▊  | 3.1MB 5.9MB/s eta 0:00:01\r\u001b[K     |█████████████████████████████▉  | 3.1MB 5.9MB/s eta 0:00:01\r\u001b[K     |██████████████████████████████  | 3.1MB 5.9MB/s eta 0:00:01\r\u001b[K     |██████████████████████████████  | 3.2MB 5.9MB/s eta 0:00:01\r\u001b[K     |██████████████████████████████  | 3.2MB 5.9MB/s eta 0:00:01\r\u001b[K     |██████████████████████████████▏ | 3.2MB 5.9MB/s eta 0:00:01\r\u001b[K     |██████████████████████████████▎ | 3.2MB 5.9MB/s eta 0:00:01\r\u001b[K     |██████████████████████████████▍ | 3.2MB 5.9MB/s eta 0:00:01\r\u001b[K     |██████████████████████████████▌ | 3.2MB 5.9MB/s eta 0:00:01\r\u001b[K     |██████████████████████████████▋ | 3.2MB 5.9MB/s eta 0:00:01\r\u001b[K     |██████████████████████████████▊ | 3.2MB 5.9MB/s eta 0:00:01\r\u001b[K     |██████████████████████████████▊ | 3.2MB 5.9MB/s eta 0:00:01\r\u001b[K     |██████████████████████████████▉ | 3.2MB 5.9MB/s eta 0:00:01\r\u001b[K     |███████████████████████████████ | 3.3MB 5.9MB/s eta 0:00:01\r\u001b[K     |███████████████████████████████ | 3.3MB 5.9MB/s eta 0:00:01\r\u001b[K     |███████████████████████████████▏| 3.3MB 5.9MB/s eta 0:00:01\r\u001b[K     |███████████████████████████████▎| 3.3MB 5.9MB/s eta 0:00:01\r\u001b[K     |███████████████████████████████▍| 3.3MB 5.9MB/s eta 0:00:01\r\u001b[K     |███████████████████████████████▌| 3.3MB 5.9MB/s eta 0:00:01\r\u001b[K     |███████████████████████████████▌| 3.3MB 5.9MB/s eta 0:00:01\r\u001b[K     |███████████████████████████████▋| 3.3MB 5.9MB/s eta 0:00:01\r\u001b[K     |███████████████████████████████▊| 3.3MB 5.9MB/s eta 0:00:01\r\u001b[K     |███████████████████████████████▉| 3.3MB 5.9MB/s eta 0:00:01\r\u001b[K     |████████████████████████████████| 3.4MB 5.9MB/s eta 0:00:01\r\u001b[K     |████████████████████████████████| 3.4MB 5.9MB/s \n",
            "\u001b[?25h"
          ],
          "name": "stdout"
        }
      ]
    },
    {
      "cell_type": "code",
      "metadata": {
        "id": "Xf5IvArw4flU"
      },
      "source": [
        "# Load CSV and Split into train/test/validation sets\r\n",
        "def load_and_split_csv(select_column='Content'):\r\n",
        "    \"\"\" Loads data into train/test/validation sets \"\"\"\r\n",
        "\r\n",
        "    data_URL = 'https://raw.githubusercontent.com/mvenouziou' \\\r\n",
        "                + '/text_generator/main/robert_frost_collection.csv'\r\n",
        "\r\n",
        "    df = pd.read_csv(data_URL)\r\n",
        "\r\n",
        "    if select_column:\r\n",
        "        df = df[[select_column]]\r\n",
        "    \r\n",
        "    train_df, test_df = \\\r\n",
        "        train_test_split(df, test_size=0.3, random_state=42)\r\n",
        "\r\n",
        "    valid_df, test_df = \\\r\n",
        "        train_test_split(test_df, test_size=0.5, random_state=10)\r\n",
        "\r\n",
        "\r\n",
        "    return train_df, test_df, valid_df"
      ],
      "execution_count": 97,
      "outputs": []
    },
    {
      "cell_type": "code",
      "metadata": {
        "id": "VFq9YvqL470o"
      },
      "source": [
        "# clean dataset\r\n",
        "def clean_text(df, column='Content', dropna=True):\r\n",
        "    \"\"\" initial text data prep \"\"\"\r\n",
        "    \r\n",
        "    # drop missing values\r\n",
        "    if dropna:\r\n",
        "        df = df.dropna()\r\n",
        "\r\n",
        "    # add 'EOL' (end of line), poetry breaks without a separating punctiation)\r\n",
        "    df[column] = df[column].apply(lambda x: x.replace('\\r\\n', ' EOL '))\r\n",
        "    df[column] = df[column].apply(lambda x: x.replace('\\n', ' EOL '))\r\n",
        "\r\n",
        "    # vocab to pad punctuation with spaces\r\n",
        "    spaced_punctuation = \\\r\n",
        "        list(map(lambda x: ' '.join(['', x, '']), string.punctuation))\r\n",
        "\r\n",
        "    # separate punctuation from words with extra spacing\r\n",
        "    for punc, space_punc in zip(string.punctuation, spaced_punctuation):\r\n",
        "        df[column] = df[column].apply(lambda x: x.replace(punc, space_punc))\r\n",
        "\r\n",
        "    # remove any excess spaces created above\r\n",
        "    for _ in range(3):\r\n",
        "        df[column] = df[column].apply(lambda x: x.replace('  ', ' '))\r\n",
        "        \r\n",
        "    #return df  # changes reflected in (mutable) dataframe"
      ],
      "execution_count": 99,
      "outputs": []
    },
    {
      "cell_type": "code",
      "metadata": {
        "id": "QJmBADIz9U-w"
      },
      "source": [
        "def create_Xy_df(text):\r\n",
        "    \"\"\" Breaks a single text input into model inputs X and model outputs y. \r\n",
        "    Left side of text becomes X, the right side is our intended prediction, y\r\n",
        "    \"\"\"\r\n",
        "\r\n",
        "    # split sentence into words\r\n",
        "    split_text = text.split()\r\n",
        "\r\n",
        "    # group words into all possible left/right splits\r\n",
        "    # stores result in dataframe 'Xy_df'\r\n",
        "    Xy_df = pd.DataFrame(columns=['X', 'y'])\r\n",
        "    for i in range(1, len(split_text)):\r\n",
        "        x = split_text[: i]\r\n",
        "        y = split_text[i: ]\r\n",
        "    \r\n",
        "        # recombine to form X and y halves\r\n",
        "        X_section = ' '.join(x)\r\n",
        "        y_section = ' '.join(y)\r\n",
        "\r\n",
        "        Xy_df.loc[i] = [X_section, y_section]\r\n",
        "        \r\n",
        "    return Xy_df\r\n",
        "    \r\n",
        "\r\n",
        "def split_x_y(df):\r\n",
        "    \"\"\" Breaks full dataset's text into model inputs X and model outputs y \"\"\"\r\n",
        "    \r\n",
        "    # initialize empty dataframe\r\n",
        "    full_df = pd.DataFrame(columns=['X', 'y'])\r\n",
        "\r\n",
        "    # create X and y data for model\r\n",
        "    # by applying 'create_Xy_df' to each row of input df\r\n",
        "    for i in range(len(df)):\r\n",
        "        Xy_df = create_Xy_df(df.iloc[i][0])\r\n",
        "\r\n",
        "        full_df = pd.concat([full_df, Xy_df])\r\n",
        "\r\n",
        "    # separate out X and y components\r\n",
        "    X = full_df['X']\r\n",
        "    y = full_df['y']\r\n",
        "\r\n",
        "    return X, y"
      ],
      "execution_count": 10,
      "outputs": []
    },
    {
      "cell_type": "code",
      "metadata": {
        "id": "lIhQvgTTPrIM"
      },
      "source": [
        "# apply BERT encoding\r\n",
        "def BERT_encoding(text_input):\r\n",
        "    \"\"\" Applies BERT word embeddings model \"\"\"\r\n",
        "    \r\n",
        "    # preprocessor: formats input text for use in BERT encoder\r\n",
        "    preprocessor = hub.KerasLayer(\r\n",
        "        \"https://tfhub.dev/tensorflow/bert_en_uncased_preprocess/2\")\r\n",
        "    encoder_inputs = preprocessor(text_input)\r\n",
        "\r\n",
        "    # initialize encoder\r\n",
        "    encoder = hub.KerasLayer(\r\n",
        "        \"https://tfhub.dev/tensorflow/bert_en_uncased_L-12_H-768_A-12/3\",\r\n",
        "        trainable=False)\r\n",
        "    \r\n",
        "    # apply encoder\r\n",
        "    outputs = encoder(encoder_inputs)\r\n",
        "    pooled_output = outputs[\"pooled_output\"]  # creates [batch_size, 768].\r\n",
        "    #  sequence_output = outputs[\"sequence_output\"]  # [batch_size, seq_length, 768].\r\n",
        "\r\n",
        "    return pooled_output  #, sequence_output"
      ],
      "execution_count": 11,
      "outputs": []
    },
    {
      "cell_type": "code",
      "metadata": {
        "id": "Lnx-xNf0S4Hw"
      },
      "source": [
        "def create_model():\r\n",
        "\r\n",
        "    # text input layer\r\n",
        "    text_input = tf.keras.layers.Input(shape=(), dtype=tf.int32)\r\n",
        "\r\n",
        "    # RNN netowrk\r\n",
        "    x = tf.keras.layers.Bidirectional(\r\n",
        "        tf.keras.layers.LSTM(64, return_sequences=True))(encoded_inputs)\r\n",
        "    x = tf.keras.layers.LSTM(64, return_sequences=True)(x)\r\n",
        "    outputs = tf.keras.layers.Dense(10)(x)\r\n",
        "    model = tf.keras.Model(inputs=inputs, outputs=outputs)\r\n",
        "    model.summary()\r\n",
        "\r\n",
        "    # compiler\r\n",
        "    model.compile(\r\n",
        "        loss=keras.losses.SparseCategoricalCrossentropy(from_logits=True),\r\n",
        "        optimizer=\"sgd\",\r\n",
        "        metrics=[\"accuracy\"],\r\n",
        "        )\r\n",
        "    \r\n",
        "    return model"
      ],
      "execution_count": 12,
      "outputs": []
    },
    {
      "cell_type": "code",
      "metadata": {
        "id": "WDkXB7kJfrPz"
      },
      "source": [
        "#Pre-Processor\r\n",
        "\r\n",
        "def preprocess_stage1():\r\n",
        "\r\n",
        "    # load data\r\n",
        "    train_df, test_df, valid_df = load_and_split_csv(select_column='Content')\r\n",
        "    \r\n",
        "    # prep text\r\n",
        "    clean_text(train_df, column='Content', dropna=True)\r\n",
        "    clean_text(test_df, column='Content', dropna=True)\r\n",
        "    clean_text(valid_df, column='Content', dropna=True)\r\n",
        "\r\n",
        "    X_train, y_train = split_x_y(train_df)\r\n",
        "    X_test, y_test = split_x_y(test_df)\r\n",
        "    X_valid, y_valid = split_x_y(valid_df)\r\n",
        "\r\n",
        "    return X_train, y_train, X_test, y_test, X_valid, y_valid\r\n",
        "\r\n",
        "\r\n",
        "def preprocess_stage2(X_train, y_train, X_test, y_test, X_valid, y_valid):\r\n",
        "    # word embedding (BERT encoding)\r\n",
        "    encoded_train_X = BERT_encoding(X_train)\r\n",
        "    encoded_train_y = BERT_encoding(y_train)\r\n",
        "    \r\n",
        "    encoded_test_X = BERT_encoding(X_test)\r\n",
        "    encoded_test_y = BERT_encoding(y_test)\r\n",
        "    \r\n",
        "    encoded_valid_X = BERT_encoding(X_valid)\r\n",
        "    encoded_valid_y = BERT_encoding(y_valid)\r\n",
        "\r\n",
        "    return encoded_train_X, encoded_train_y, encoded_test_X, encoded_test_y,\r\n",
        "            encoded_valid_X, encoded_valid_y"
      ],
      "execution_count": 85,
      "outputs": []
    },
    {
      "cell_type": "code",
      "metadata": {
        "colab": {
          "base_uri": "https://localhost:8080/",
          "height": 572
        },
        "id": "JqrpvMN50x_R",
        "outputId": "bbe075a6-e879-422c-c9a2-a9c4f2a05e13"
      },
      "source": [
        "X_train, y_train, X_test, y_test, X_valid, y_valid = preprocess_stage1()"
      ],
      "execution_count": 102,
      "outputs": [
        {
          "output_type": "stream",
          "text": [
            "/usr/local/lib/python3.6/dist-packages/ipykernel_launcher.py:10: SettingWithCopyWarning: \n",
            "A value is trying to be set on a copy of a slice from a DataFrame.\n",
            "Try using .loc[row_indexer,col_indexer] = value instead\n",
            "\n",
            "See the caveats in the documentation: https://pandas.pydata.org/pandas-docs/stable/user_guide/indexing.html#returning-a-view-versus-a-copy\n",
            "  # Remove the CWD from sys.path while we load stuff.\n",
            "/usr/local/lib/python3.6/dist-packages/ipykernel_launcher.py:11: SettingWithCopyWarning: \n",
            "A value is trying to be set on a copy of a slice from a DataFrame.\n",
            "Try using .loc[row_indexer,col_indexer] = value instead\n",
            "\n",
            "See the caveats in the documentation: https://pandas.pydata.org/pandas-docs/stable/user_guide/indexing.html#returning-a-view-versus-a-copy\n",
            "  # This is added back by InteractiveShellApp.init_path()\n",
            "/usr/local/lib/python3.6/dist-packages/ipykernel_launcher.py:18: SettingWithCopyWarning: \n",
            "A value is trying to be set on a copy of a slice from a DataFrame.\n",
            "Try using .loc[row_indexer,col_indexer] = value instead\n",
            "\n",
            "See the caveats in the documentation: https://pandas.pydata.org/pandas-docs/stable/user_guide/indexing.html#returning-a-view-versus-a-copy\n",
            "/usr/local/lib/python3.6/dist-packages/ipykernel_launcher.py:22: SettingWithCopyWarning: \n",
            "A value is trying to be set on a copy of a slice from a DataFrame.\n",
            "Try using .loc[row_indexer,col_indexer] = value instead\n",
            "\n",
            "See the caveats in the documentation: https://pandas.pydata.org/pandas-docs/stable/user_guide/indexing.html#returning-a-view-versus-a-copy\n"
          ],
          "name": "stderr"
        },
        {
          "output_type": "error",
          "ename": "ValueError",
          "evalue": "ignored",
          "traceback": [
            "\u001b[0;31m---------------------------------------------------------------------------\u001b[0m",
            "\u001b[0;31mValueError\u001b[0m                                Traceback (most recent call last)",
            "\u001b[0;32m<ipython-input-102-d7e19dea9150>\u001b[0m in \u001b[0;36m<module>\u001b[0;34m()\u001b[0m\n\u001b[0;32m----> 1\u001b[0;31m \u001b[0mX_train\u001b[0m\u001b[0;34m,\u001b[0m \u001b[0my_train\u001b[0m\u001b[0;34m,\u001b[0m \u001b[0mX_test\u001b[0m\u001b[0;34m,\u001b[0m \u001b[0my_test\u001b[0m\u001b[0;34m,\u001b[0m \u001b[0mX_valid\u001b[0m\u001b[0;34m,\u001b[0m \u001b[0my_valid\u001b[0m \u001b[0;34m=\u001b[0m \u001b[0mpreprocess_stage1\u001b[0m\u001b[0;34m(\u001b[0m\u001b[0;34m)\u001b[0m\u001b[0;34m\u001b[0m\u001b[0;34m\u001b[0m\u001b[0m\n\u001b[0m",
            "\u001b[0;31mValueError\u001b[0m: not enough values to unpack (expected 6, got 2)"
          ]
        }
      ]
    },
    {
      "cell_type": "code",
      "metadata": {
        "colab": {
          "base_uri": "https://localhost:8080/"
        },
        "id": "o_T2M5M60ySu",
        "outputId": "8949fae7-67d3-4531-aaf6-9eb415f772e1"
      },
      "source": [
        "encoded_train_X, encoded_train_y, encoded_test_X, encoded_test_y, \\\r\n",
        "            encoded_valid_X, encoded_valid_y = preprocess_stage2(X_train, y_train, X_test, y_test, X_valid, y_valid)"
      ],
      "execution_count": 38,
      "outputs": [
        {
          "output_type": "execute_result",
          "data": {
            "text/plain": [
              "1                  Late Walk\n",
              "2                       Walk\n",
              "1                  Butterfly\n",
              "1                      Hours\n",
              "1                and Passing\n",
              "              ...           \n",
              "2                         Us\n",
              "1    Pauper Witch of Grafton\n",
              "2           Witch of Grafton\n",
              "3                 of Grafton\n",
              "4                    Grafton\n",
              "Name: y, Length: 151, dtype: object"
            ]
          },
          "metadata": {
            "tags": []
          },
          "execution_count": 38
        }
      ]
    }
  ]
}