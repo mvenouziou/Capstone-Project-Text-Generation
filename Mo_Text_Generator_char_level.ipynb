{
  "nbformat": 4,
  "nbformat_minor": 0,
  "metadata": {
    "colab": {
      "name": "Mo_Text Generator_CSV.ipynb",
      "provenance": [],
      "collapsed_sections": [],
      "include_colab_link": true
    },
    "coursera": {
      "course_slug": "tensor-flow-2-2",
      "graded_item_id": "4eYSM",
      "launcher_item_id": "HEV6h"
    },
    "kernelspec": {
      "display_name": "Python 3",
      "language": "python",
      "name": "python3"
    },
    "language_info": {
      "codemirror_mode": {
        "name": "ipython",
        "version": 3
      },
      "file_extension": ".py",
      "mimetype": "text/x-python",
      "name": "python",
      "nbconvert_exporter": "python",
      "pygments_lexer": "ipython3",
      "version": "3.7.1"
    },
    "accelerator": "GPU"
  },
  "cells": [
    {
      "cell_type": "markdown",
      "metadata": {
        "id": "view-in-github",
        "colab_type": "text"
      },
      "source": [
        "<a href=\"https://colab.research.google.com/github/mvenouziou/Project-Text-Generation/blob/main/Mo_Text_Generator_char_level.ipynb\" target=\"_parent\"><img src=\"https://colab.research.google.com/assets/colab-badge.svg\" alt=\"Open In Colab\"/></a>"
      ]
    },
    {
      "cell_type": "markdown",
      "metadata": {
        "id": "pFRRArflRfR1"
      },
      "source": [
        "## Text Generation RNN"
      ]
    },
    {
      "cell_type": "markdown",
      "metadata": {
        "id": "r3wpZrx7RfR-"
      },
      "source": [
        "This program constructs an unsupervised character-level sequence model that can generate text according to a distribution learned from the dataset."
      ]
    },
    {
      "cell_type": "code",
      "metadata": {
        "id": "2j_QtDXtRfR4"
      },
      "source": [
        "#### PACKAGE IMPORTS ####\n",
        "# ML design\n",
        "import tensorflow as tf\n",
        "from tensorflow import keras\n",
        "!pip install -q tensorflow-text\n",
        "import tensorflow_text as text\n",
        "from tensorflow.keras.callbacks import ModelCheckpoint \n",
        "\n",
        "# data handling\n",
        "import numpy as np\n",
        "import pandas as pd\n",
        "import random\n",
        "import re\n",
        "import string\n",
        "import random\n",
        "\n",
        "# visualization\n",
        "import matplotlib.pyplot as plt\n",
        "%matplotlib inline\n",
        "\n",
        "# file management\n",
        "import urllib.request\n",
        "import os\n",
        "import pickle"
      ],
      "execution_count": 166,
      "outputs": []
    },
    {
      "cell_type": "code",
      "metadata": {
        "colab": {
          "base_uri": "https://localhost:8080/"
        },
        "id": "zDKnvDvXalYF",
        "outputId": "cb3b0ff6-5a86-4d5a-c9a6-10079130e1ad"
      },
      "source": [
        "# integrations\r\n",
        "# mount google drive:\r\n",
        "GDRIVE_DIR = '/content/gdrive/'\r\n",
        "from google.colab import drive\r\n",
        "drive.mount(GDRIVE_DIR)\r\n",
        "\r\n",
        "# Anvil's web app server\r\n",
        "!pip install -q anvil-uplink\r\n",
        "import anvil.server\r\n",
        "\r\n",
        "USE_ANVIL = False  \r\n",
        "if USE_ANVIL:\r\n",
        "    anvil.server.connect('53NFXI7IX7IE233XQTVJDXUM-PUGRV2WON2LETWBG')"
      ],
      "execution_count": 167,
      "outputs": [
        {
          "output_type": "stream",
          "text": [
            "Drive already mounted at /content/gdrive/; to attempt to forcibly remount, call drive.mount(\"/content/gdrive/\", force_remount=True).\n"
          ],
          "name": "stdout"
        }
      ]
    },
    {
      "cell_type": "markdown",
      "metadata": {
        "id": "kkHeu2U8keZ6"
      },
      "source": [
        "##### GLOBAL VARIABLES\r\n",
        "File directories and hyperparameters"
      ]
    },
    {
      "cell_type": "code",
      "metadata": {
        "id": "3fRagWNBR0-E"
      },
      "source": [
        "# GLOBAL VARIABLES\n",
        "\n",
        "# integrations\n",
        "\n",
        "\n",
        "# hyperparameters\n",
        "BATCH_SIZE = 32\n",
        "PADDED_EXAMPLE_LENGTH = 500\n",
        "EMBEDDING_DIM = 256\n",
        "\n",
        "AUTHOR = 'Robert_Frost' \n",
        "        #  'Shakespeare'\n",
        "         # 'assorted'\n",
        "\n",
        "# file directory structure in Google Drive\n",
        "\n",
        "FILEPATH = GDRIVE_DIR + 'MyDrive/Colab_Notebooks/models/text_generation/' + AUTHOR\n",
        "CHECKPOINT_DIR = FILEPATH + '/checkpoints/'\n",
        "CACHE_DIR = FILEPATH + '/cache/'\n",
        "MODEL_DIR = FILEPATH + '/prediction_model/'\n",
        "DATASETS_DIR = 'https://raw.githubusercontent.com/mvenouziou/text_generator/main/'\n",
        "\n",
        "# dataset files (.txt and .csv allowed)\n",
        "DATASET_PRIMARY =  'robert_frost_collection.csv'\n",
        "DATASETS = [DATASET_PRIMARY] + \\\n",
        "            [# robert_frost_collection.csv,\n",
        "             # 'robert_frost_assorted.txt',\n",
        "             # 'call_of_the_wild_jack_london.txt',\n",
        "             # 'treasure_island.txt',\n",
        "             # 'robinsons_crusoe.txt',\n",
        "             # 'wizard_of_oz.txt',\n",
        "             # 'sherlock_holmes.txt',\n",
        "             # 'mark_twain_speeches.txt',\n",
        "             # 'dorian_gray_oscar_wilde.txt',  \n",
        "             # 'ezra_pound_assorted.txt',\n",
        "             # 'walt_whitman_leaves_of_grass.txt',\n",
        "             # 'Shakespeare_poems_cleaned_partially.txt',\n",
        "             # 'shakespeare_selected.txt',\n",
        "             # 'edgar_allen_poe.txt'\n",
        "            ]"
      ],
      "execution_count": 168,
      "outputs": []
    },
    {
      "cell_type": "markdown",
      "metadata": {
        "id": "ppOL7TDHRfSA"
      },
      "source": [
        "#### Load and inspect the dataset"
      ]
    },
    {
      "cell_type": "code",
      "metadata": {
        "id": "XXwzWcB-RfSD"
      },
      "source": [
        "# Function: loader for .csv files\n",
        "def prepare_csv(filename, datasets_dir=DATASETS_DIR, \n",
        "                content_columns=['Name', 'Content'], shuffle_rows=True):\n",
        "    \n",
        "    # load data into DataFrame\n",
        "    dataframe = pd.read_csv(datasets_dir + filename).dropna()\n",
        "    # specific to Robert Frost set\n",
        "    if 'Name ' in dataframe.columns:\n",
        "        dataframe.rename(columns={'Name ':'Name'})\n",
        "    try:     \n",
        "        dataframe['Name'] = dataframe['Name'].apply(\n",
        "                                lambda x: x.upper() + ':\\n')\n",
        "        \n",
        "        dataframe['Content'] = dataframe['Content'].apply(\n",
        "                        lambda x: x + '\\n')\n",
        "    except:\n",
        "        pass\n",
        "    dataframe = dataframe[content_columns]\n",
        "\n",
        "    # shuffle entries (rows)\n",
        "    if shuffle_rows:\n",
        "        dataframe = dataframe.sample(frac=1)\n",
        "    \n",
        "    # data cleanup\n",
        "    dataframe = dataframe[content_columns]\n",
        "    \n",
        "    # merge desired text columns\n",
        "    dataframe['merge'] = dataframe[content_columns[0]]\n",
        "    for i in range(1, len(content_columns)):\n",
        "        dataframe['merge'] = dataframe['merge'] + dataframe[content_columns[i]]\n",
        "\n",
        "    # convert to list of strings\n",
        "    data_list = dataframe['merge'].tolist()\n",
        "    \n",
        "    return data_list   \n",
        "\n",
        "\n",
        "# Function: Load and standardize data files\n",
        "def load_parse(data_list, display_samples=True):  \n",
        "\n",
        "    # remove paragraph / line marks and split up words  \n",
        "    tokenizer = text.WhitespaceTokenizer()\n",
        "\n",
        "    # tokenize data (outputs bytestrings)\n",
        "    cleaned_list_byte = [tokenizer.tokenize(data).numpy() for data in data_list]\n",
        "\n",
        "    # convert data to string format\n",
        "    num_entries = len(cleaned_list_byte)\n",
        "\n",
        "    clean_list = [' '.join(map(lambda x: x.decode(), cleaned_list_byte[i])) \n",
        "                    for i in range(num_entries)]\n",
        "\n",
        "    # Display some text samples\n",
        "    if display_samples:\n",
        "        num_samples = 5\n",
        "        inx = np.random.choice(len(clean_list), num_samples, replace=False)\n",
        "        for example in np.array(clean_list)[inx]:\n",
        "            print(example)\n",
        "            print()\n",
        "\n",
        "        print('len(text_chunks):', len(clean_list))\n",
        "\n",
        "    return clean_list"
      ],
      "execution_count": 169,
      "outputs": []
    },
    {
      "cell_type": "code",
      "metadata": {
        "id": "TrN6M1mnbmP1"
      },
      "source": [
        "def create_blocks(full_examples, max_len=PADDED_EXAMPLE_LENGTH):\r\n",
        "    # creates list of sliding n-grams for each example\r\n",
        "    # and creates a list of these lists\r\n",
        "\r\n",
        "    blocks = []\r\n",
        "\r\n",
        "    for example in full_examples:      \r\n",
        "\r\n",
        "        example_block = []\r\n",
        "        example_length = len(example)\r\n",
        "\r\n",
        "        # small blocks at start (will be zero-padded later)\r\n",
        "        leading_characters = 5  # characters input into model \r\n",
        "                                # before starting prediction\r\n",
        "        for i in range(leading_characters, example_length - max_len - 1):\r\n",
        "            example_block.append(example[: i])\r\n",
        "        \r\n",
        "        # full length blocks\r\n",
        "        for i in range(example_length - max_len - 1):\r\n",
        "            # create n-gram\r\n",
        "            example_block.append(example[i: max_len + i])\r\n",
        "\r\n",
        "        # small blocks at end (will be zero-padded later)\r\n",
        "        for i in range(example_length - max_len - 1, example_length-1):\r\n",
        "            example_block.append(example[i: ])\r\n",
        "    \r\n",
        "        blocks.append(example_block)\r\n",
        "    \r\n",
        "    return blocks"
      ],
      "execution_count": 170,
      "outputs": []
    },
    {
      "cell_type": "markdown",
      "metadata": {
        "id": "gWObVg6DRfSi"
      },
      "source": [
        "#### Encode data for model"
      ]
    },
    {
      "cell_type": "code",
      "metadata": {
        "id": "Q8s2aR4oRfSb"
      },
      "source": [
        "# Function: Create and fit tokenizer object\n",
        "def create_character_tokenizer():\n",
        "    \"\"\"\n",
        "    This function takes a list of strings as its argument. It should create \n",
        "    and return a Tokenizer according to the above specifications. \n",
        "    \"\"\"\n",
        "\n",
        "    # Initialize standard keras tokenizer\n",
        "    tokenizer = tf.keras.preprocessing.text.Tokenizer(\n",
        "                    num_words=None,  # number of tokens is not limited\n",
        "                    filters='#$%&()*+-/<=>@[]^_`{|}~\\t', \n",
        "                    lower=True,  # whether to convert to lowercase letters\n",
        "                    char_level=True,  # tokens created at character level\n",
        "                    oov_token=None,  # drop unknown characters\n",
        "                    )\n",
        "    \n",
        "    # fit tokenizer\n",
        "    vocab = string.punctuation + string.digits + string.ascii_letters + ' '\n",
        "    tokenizer.fit_on_texts(vocab)\n",
        "\n",
        "    return tokenizer"
      ],
      "execution_count": 171,
      "outputs": []
    },
    {
      "cell_type": "markdown",
      "metadata": {
        "id": "U-4W2iICRfS3"
      },
      "source": [
        "#### Create input and target Datasets for stateful RNN"
      ]
    },
    {
      "cell_type": "code",
      "metadata": {
        "id": "zLf-9KxWRfSw"
      },
      "source": [
        "def make_padded_array(text_blocks, tokenizer, max_len=PADDED_EXAMPLE_LENGTH):\n",
        "    # Tokenizes and applies padding for uniform length\n",
        "\n",
        "    # tokenize\n",
        "    token_blocks = tokenizer.texts_to_sequences(text_blocks)\n",
        "\n",
        "    # zero padding\n",
        "    padded_blocks = tf.keras.preprocessing.sequence.pad_sequences(\n",
        "                        sequences=token_blocks,  # dataset\n",
        "                        maxlen=max_len, \n",
        "                        dtype='int32', \n",
        "                        padding='pre',\n",
        "                        truncating='pre', \n",
        "                        value=0.0\n",
        "                  )\n",
        "    \n",
        "    return padded_blocks"
      ],
      "execution_count": 172,
      "outputs": []
    },
    {
      "cell_type": "code",
      "metadata": {
        "id": "pzLY5mT3RfS5"
      },
      "source": [
        "def create_inputs_and_targets(array_of_sequences):\n",
        "    \"\"\"\n",
        "    create input / target pairs to predict the next character in each sequence\n",
        "    \"\"\"   \n",
        "    input_arr = array_of_sequences[:, :-1]\n",
        "    target_arr = array_of_sequences[:, 1:]\n",
        "\n",
        "    return input_arr, target_arr\n",
        "    "
      ],
      "execution_count": 173,
      "outputs": []
    },
    {
      "cell_type": "markdown",
      "metadata": {
        "id": "JcoP9vOGDqlV"
      },
      "source": [
        "Note: Our text data are not independent random samples. Content from earlier in the text can inform future predictions. In this case we can use a 'stateful' model to capture some of this dependence relation.  (The data must be broken into continuous blocks of text for this to work. Care must be taken for that to occur-- rows in one epoch must be continuations from the corresponding row in an earlier epoch.)\r\n",
        "\r\n"
      ]
    },
    {
      "cell_type": "code",
      "metadata": {
        "id": "S4gsVamxRfTK"
      },
      "source": [
        "# Function: data prep to create stateful RNN batches\n",
        "# note: when applying this function to full dataset we must reset the \n",
        "# internal RNN state every PADDED_EXAMPLE_LENGTH batches\n",
        "def preprocess_stateful(input, target, batch_size=BATCH_SIZE):\n",
        "\n",
        "    # Prepare input and output arrays for training the stateful RNN\n",
        "    num_examples = input.shape[0]\n",
        "\n",
        "    # adjust for batch size to divide evenly into sample size\n",
        "    num_processed_examples = num_examples - (num_examples % batch_size)\n",
        "    input_cropped = input[:num_processed_examples]\n",
        "    target_cropped = target[:num_processed_examples]\n",
        "\n",
        "    # separate out samples so rows of data match up across epochs\n",
        "    # 'steps' measures how to space them out\n",
        "    steps = num_processed_examples // batch_size  \n",
        "\n",
        "    # define reordering\n",
        "    inx = np.empty((0,), dtype=np.int32)  # initialize empty array object\n",
        "    \n",
        "    for i in range(steps):\n",
        "        inx = np.concatenate((inx, i + np.arange(0, num_processed_examples, \n",
        "                                                    steps)))\n",
        "\n",
        "    # reorder the data\n",
        "    input_seq_stateful = input_cropped[inx]\n",
        "    target_seq_stateful = target_cropped[inx]\n",
        "\n",
        "    return input_seq_stateful, target_seq_stateful"
      ],
      "execution_count": 174,
      "outputs": []
    },
    {
      "cell_type": "markdown",
      "metadata": {
        "id": "IKfaWcCCRfTf"
      },
      "source": [
        "#### Define RNN model"
      ]
    },
    {
      "cell_type": "code",
      "metadata": {
        "id": "oauekqOSRfTi"
      },
      "source": [
        "# Function: Model Definition\n",
        "def get_model(vocab_size, batch_size=BATCH_SIZE, embedding_dim=EMBEDDING_DIM):\n",
        "    # Defines and compiles a stateful RNN model\n",
        "    \n",
        "    from keras.layers import Embedding, GRU, Dense, \\\n",
        "                             Dropout, BatchNormalization\n",
        "\n",
        "    model = keras.Sequential([\n",
        "                # embedding layer\n",
        "                Embedding(input_dim=vocab_size, \n",
        "                          output_dim=embedding_dim,\n",
        "                          mask_zero=True, \n",
        "                          batch_input_shape=(batch_size, None),\n",
        "                          name='Embedding',\n",
        "                          ),\n",
        "\n",
        "                # RNN layers\n",
        "                GRU(units=256, \n",
        "                    stateful=True, \n",
        "                    return_sequences=True,\n",
        "                    name='GRU_1',\n",
        "                    ),\n",
        "                Dropout(rate=.10,\n",
        "                        name='Dropout_1',\n",
        "                         ),\n",
        "                BatchNormalization(name='Batch_Norm_1',\n",
        "                                   ),\n",
        "                GRU(units=256, \n",
        "                    stateful=True, \n",
        "                    return_sequences=True,\n",
        "                    name='GRU_2',\n",
        "                    ),\n",
        "                Dropout(rate=.10,\n",
        "                        name='Dropout_2',\n",
        "                         ),\n",
        "                BatchNormalization(name='Batch_Norm_2',\n",
        "                                   ),\n",
        "                GRU(units=256, \n",
        "                    stateful=True, \n",
        "                    return_sequences=True,\n",
        "                    name='GRU_OUTPUT',\n",
        "                    ),\n",
        "               \n",
        "                # prediction layer\n",
        "                Dense(units=vocab_size, \n",
        "                      activation=None,\n",
        "                      name='Decoding',\n",
        "                      )          \n",
        "    ])\n",
        "\n",
        "    return model"
      ],
      "execution_count": 175,
      "outputs": []
    },
    {
      "cell_type": "code",
      "metadata": {
        "id": "R_Veoe8bCFrT"
      },
      "source": [
        "def compile_model(model, learning_rate):\r\n",
        "    model.compile(optimizer=tf.keras.optimizers.Adamax(\r\n",
        "                                learning_rate=learning_rate),\r\n",
        "                  loss=tf.keras.losses.SparseCategoricalCrossentropy(\r\n",
        "                                                    from_logits=True),\r\n",
        "                  metrics=['sparse_categorical_accuracy', \r\n",
        "                        'sparse_categorical_crossentropy'],\r\n",
        "                 )\r\n",
        "    \r\n",
        "    return model"
      ],
      "execution_count": 176,
      "outputs": []
    },
    {
      "cell_type": "code",
      "metadata": {
        "id": "DJhnIUHSRfTt"
      },
      "source": [
        "# Function: Train model\n",
        "def train_model(model, train_datasets_list, \n",
        "                checkpoint, checkpoint_manager,\n",
        "                num_epochs=1, num_datasets_to_use=10,\n",
        "                learning_rate=0.00001,\n",
        "                batch_size=BATCH_SIZE, filepath=FILEPATH, \n",
        "                checkpoint_dir=CHECKPOINT_DIR):\n",
        "\n",
        "    # compile model\n",
        "    model = compile_model(model, learning_rate=learning_rate)\n",
        "\n",
        "    # begin training loop\n",
        "    for epoch in range(num_epochs):\n",
        "\n",
        "        print('Epoch {epoch:03d}'.format(epoch = epoch))\n",
        "\n",
        "        # shuffle dataset order\n",
        "        random.shuffle(train_datasets_list)\n",
        "\n",
        "        for i in range(num_datasets_to_use):\n",
        "\n",
        "            # select dataset\n",
        "            data = train_datasets_list[i]\n",
        "            \n",
        "            # choose random starting point (every other epoch)\n",
        "            if i % 2 == 0:\n",
        "                k = np.random.randint(5, 10)\n",
        "                data.skip(batch_size * k) \n",
        "\n",
        "            # train model\n",
        "            history = model.fit(data,\n",
        "                                shuffle=False,\n",
        "                                epochs=1,\n",
        "                                verbose=1)\n",
        "            \n",
        "            # reset RNN hidden states\n",
        "            model.reset_states()\n",
        "\n",
        "            # save checkpoint\n",
        "            checkpoint_manager.save()\n",
        "\n",
        "        # save full model at end of each epoch\n",
        "        model.save(checkpoint_dir + 'saved_model_epoch_' + str(epoch))\n",
        "\n",
        "    return model"
      ],
      "execution_count": 177,
      "outputs": []
    },
    {
      "cell_type": "markdown",
      "metadata": {
        "id": "Cf8_OrNEvKcL"
      },
      "source": [
        "### Create Text Generation Function\r\n",
        "Adapt trained model"
      ]
    },
    {
      "cell_type": "code",
      "metadata": {
        "id": "eYl_VlGatdzu"
      },
      "source": [
        "# Final Prediction Function #######\r\n",
        "\r\n",
        "def make_prediction(init_string, num_generation_steps, \r\n",
        "                    prediction_tokenizer, prediction_model, \r\n",
        "                    precision_reduction=0,\r\n",
        "                    model_name=AUTHOR, print_result=False):\r\n",
        "\r\n",
        "    # Use the model to generate a token sequence\r\n",
        "    # note: prediction model should use batch size=1\r\n",
        "\r\n",
        "    # get final GRU layer for logits\r\n",
        "    GRU_layer = prediction_model.get_layer('GRU_OUTPUT')\r\n",
        "    \r\n",
        "    # convert user input to model input\r\n",
        "    token_sequence = prediction_tokenizer.texts_to_sequences([init_string])\r\n",
        "    initial_state = None\r\n",
        "    input_sequence = token_sequence\r\n",
        "    init_len = len(input_sequence[0])\r\n",
        "\r\n",
        "    for i in range(num_generation_steps):\r\n",
        "        \r\n",
        "        # get next character predictions (probability distribution)\r\n",
        "        logits = get_logits(prediction_model, input_sequence, initial_state=initial_state)\r\n",
        "\r\n",
        "        # choose next character\r\n",
        "        sampled_token = sample_token(logits, precision_reduction)\r\n",
        "        \r\n",
        "        # add character to generated text\r\n",
        "        token_sequence[0].append(sampled_token)\r\n",
        "        \r\n",
        "        # pass forward GRU state\r\n",
        "        input_sequence = [[sampled_token]]\r\n",
        "        initial_state = GRU_layer.states[0].numpy()\r\n",
        "\r\n",
        "    # decode tokens to text\r\n",
        "    predicted_text = \\\r\n",
        "        prediction_tokenizer.sequences_to_texts(token_sequence)[0][::2]\r\n",
        "    \r\n",
        "    if print_result:\r\n",
        "        print(predicted_text)\r\n",
        "\r\n",
        "    return predicted_text"
      ],
      "execution_count": 178,
      "outputs": []
    },
    {
      "cell_type": "markdown",
      "metadata": {
        "id": "VI5-5cZphPGz"
      },
      "source": [
        "*************************************\r\n",
        "*************************************\r\n",
        "\r\n",
        "### Implement Functions to Create Models\r\n",
        "\r\n",
        "*************************************\r\n",
        "*************************************"
      ]
    },
    {
      "cell_type": "markdown",
      "metadata": {
        "id": "I0sajFK7knqH"
      },
      "source": [
        "##### Preprocess Data / Create list of TF Datasets"
      ]
    },
    {
      "cell_type": "code",
      "metadata": {
        "id": "BaexA4ozmIkx"
      },
      "source": [
        "# preprocess data\r\n",
        "def preprocess(filename=DATASET_PRIMARY, \r\n",
        "               batch_size=BATCH_SIZE):\r\n",
        "\r\n",
        "    # get tokenizer\r\n",
        "    tokenizer = create_character_tokenizer()\r\n",
        "\r\n",
        "    # load /clean csv data\r\n",
        "    data_list = prepare_csv(filename, \r\n",
        "                            datasets_dir=DATASETS_DIR, \r\n",
        "                            content_columns=['Name', 'Content'], \r\n",
        "                            shuffle_rows=True)\r\n",
        "\r\n",
        "    # preprocessing step\r\n",
        "    full_examples = load_parse(data_list, \r\n",
        "                               display_samples=False)\r\n",
        "\r\n",
        "    # reshape data to appropriate size for stateful RNN\r\n",
        "    # ## tokenize and break up into blocks\r\n",
        "    text_blocks = create_blocks(full_examples, \r\n",
        "                                max_len=PADDED_EXAMPLE_LENGTH)\r\n",
        "    \r\n",
        "    # ## pad to uniform size\r\n",
        "    padded_blocks = []\r\n",
        "    all_datasets = []\r\n",
        "    \r\n",
        "    for block in text_blocks:\r\n",
        "        padded_arr = make_padded_array(block, \r\n",
        "                                       tokenizer, \r\n",
        "                                       max_len=PADDED_EXAMPLE_LENGTH) \r\n",
        "        \r\n",
        "        # create input / targets\r\n",
        "        input_arr, target_arr = \\\r\n",
        "            create_inputs_and_targets(padded_arr)\r\n",
        "\r\n",
        "        # rearrange order as stateful RNN batches\r\n",
        "        input_seq_stateful, target_seq_stateful = \\\r\n",
        "            preprocess_stateful(input_arr, target_arr)\r\n",
        "        \r\n",
        "        # convert to Dataset\r\n",
        "        dataset = tf.data.Dataset.from_tensor_slices((input_seq_stateful, \r\n",
        "                                                      target_seq_stateful)\r\n",
        "                                                    )\r\n",
        "        dataset = dataset.batch(batch_size, \r\n",
        "                                drop_remainder=True)\r\n",
        "        dataset = dataset.prefetch(tf.data.AUTOTUNE)\r\n",
        "\r\n",
        "        # update dataset list\r\n",
        "        all_datasets.append(dataset)\r\n",
        "\r\n",
        "    # report summary\r\n",
        "    print('full_examples:', len(full_examples))\r\n",
        "    print('text_blocks:', len(text_blocks))\r\n",
        "    print('padded_blocks:', len(padded_blocks))\r\n",
        "    print('example input_arr :', input_arr.shape)\r\n",
        "    print('example target_arr:', target_arr.shape)\r\n",
        "    print('all_datasets:', len(all_datasets))\r\n",
        "    print('all_datasets[0]:', all_datasets[0])\r\n",
        "    \r\n",
        "    return all_datasets, tokenizer"
      ],
      "execution_count": 179,
      "outputs": []
    },
    {
      "cell_type": "markdown",
      "metadata": {
        "id": "Rj2fmp91kvai"
      },
      "source": [
        "##### Create / Train Model"
      ]
    },
    {
      "cell_type": "code",
      "metadata": {
        "id": "AmmEfYo-RfTl"
      },
      "source": [
        "def build_load_model(checkpoint_dir=CHECKPOINT_DIR, batch_size=BATCH_SIZE):\n",
        "\n",
        "    \"\"\" Initializes and trains a model for 1 epoch, \n",
        "    and saves it to disk \"\"\"\n",
        "\n",
        "    # initialize model structure\n",
        "    tokenizer = create_character_tokenizer()\n",
        "    model = get_model(vocab_size=len(tokenizer.word_index) + 1,\n",
        "                      batch_size=batch_size)\n",
        "\n",
        "    # initialize checkpoint managers\n",
        "    checkpoint = tf.train.Checkpoint(model=model)\n",
        "\n",
        "    checkpoint_manager = tf.train.CheckpointManager(\n",
        "                            checkpoint=checkpoint, \n",
        "                            directory=checkpoint_dir, \n",
        "                            max_to_keep=4, \n",
        "                            keep_checkpoint_every_n_hours=None,\n",
        "                            checkpoint_name='ckpt', \n",
        "                            step_counter=None, \n",
        "                            checkpoint_interval=None,\n",
        "                            init_fn=None\n",
        "                            )\n",
        "    \n",
        "    # load any saved weights\n",
        "    try:\n",
        "        checkpoint_manager.restore_or_initialize()\n",
        "        print('loaded checkpoint')\n",
        "    except:\n",
        "        print('new model initialized')\n",
        "\n",
        "    model.summary()\n",
        "\n",
        "    return model, tokenizer, checkpoint, checkpoint_manager"
      ],
      "execution_count": 180,
      "outputs": []
    },
    {
      "cell_type": "markdown",
      "metadata": {
        "id": "2msBeLSoRfT7"
      },
      "source": [
        "Create Prediction Model (adapt model to accept single line inputs (batch size = 1)."
      ]
    },
    {
      "cell_type": "code",
      "metadata": {
        "id": "zzQW69qxRfT_"
      },
      "source": [
        "# Function: produce modified model for making text predictions\n",
        "def get_prediction_model(pretrained_model,\n",
        "                         model_dir=MODEL_DIR, \n",
        "                         checkpoint_dir=CHECKPOINT_DIR):\n",
        "    \n",
        "    # get tokenizer\n",
        "    tokenizer = create_character_tokenizer()\n",
        "    \n",
        "    # initialize new model with batch size = 1\n",
        "    prediction_model = get_model(vocab_size=len(tokenizer.word_index) + 1, \n",
        "                           batch_size=1)\n",
        "\n",
        "    # load weights from pre-trained model\n",
        "    trained_weights = pretrained_model.get_weights()\n",
        "    prediction_model.set_weights(trained_weights)\n",
        "\n",
        "    return prediction_model, tokenizer\n",
        "\n",
        "\n",
        "# Store trained model separate from checkpoints\n",
        "def save_prediction_model(prediction_model,\n",
        "                          model_dir=MODEL_DIR, \n",
        "                          checkpoint_dir=CHECKPOINT_DIR):\n",
        "\n",
        "    # save model\n",
        "    prediction_model.save(model_dir)\n",
        "\n",
        "    # get tokenizer\n",
        "    prediction_tokenizer = create_character_tokenizer()\n",
        "    \n",
        "    # save tokenizer\n",
        "    with open(model_dir + 'tokenizer.pickle', 'wb') as file:\n",
        "        pickle.dump(prediction_tokenizer, file, pickle.HIGHEST_PROTOCOL)\n",
        "\n",
        "    return None"
      ],
      "execution_count": 181,
      "outputs": []
    },
    {
      "cell_type": "markdown",
      "metadata": {
        "id": "tQIxFxA7ooyO"
      },
      "source": [
        "Define text generation function"
      ]
    },
    {
      "cell_type": "code",
      "metadata": {
        "id": "3aHg6y44RfUJ"
      },
      "source": [
        "# Function: Outputs weighted predictions for next token \n",
        "# (as logits / log-odds ration)\n",
        "def get_logits(model, token_sequence, initial_state=None):\n",
        "    \"\"\"\n",
        "    Paramater:\n",
        "    model - our prediction model set with batch size = 1\n",
        "    \"\"\"\n",
        "    \n",
        "    # carry forward previous state from GRU layer\n",
        "    GRU_layer = model.get_layer('GRU_OUTPUT')\n",
        "    GRU_layer.reset_states(initial_state)\n",
        "\n",
        "    # Get the model's next token prediction (as logits)\n",
        "    input = tf.constant(token_sequence)\n",
        "    final_pred = model(input)[:, -1, :]\n",
        "        \n",
        "    return final_pred.numpy()    \n",
        "\n",
        "\n",
        "# Function: selects a value from logits prediction\n",
        "def sample_token(logits, precision_reduction=0):   \n",
        "\n",
        "    # choose a value from logits distribution\n",
        "    # (fuzz_factor: adds some imprecision to results)\n",
        "    fuzz_factor = tf.random.normal(shape=logits.shape, mean=1, stddev=.2)\n",
        "\n",
        "    sample = tf.random.categorical(\n",
        "                        logits=logits * (1 + precision_reduction * fuzz_factor), \n",
        "                        num_samples=1, \n",
        "                        )\n",
        "\n",
        "    # convert to integer\n",
        "    next_token = sample[0,0].numpy()\n",
        "\n",
        "    return next_token"
      ],
      "execution_count": 182,
      "outputs": []
    },
    {
      "cell_type": "markdown",
      "metadata": {
        "id": "5wG5lo3to8RP"
      },
      "source": [
        "Text Generator Function"
      ]
    },
    {
      "cell_type": "code",
      "metadata": {
        "id": "tTXyxnDg6Qae"
      },
      "source": [
        "# test model\r\n",
        "@anvil.server.callable\r\n",
        "def generate_text(starting_text, precision_reduction,\r\n",
        "                  prediction_tokenizer, prediction_model,\r\n",
        "                  author='assorted'):\r\n",
        "\r\n",
        "    # set length of generated text\r\n",
        "    num_generation_steps = 350\r\n",
        "  \r\n",
        "    # format user input\r\n",
        "    starting_text = starting_text.upper() + ': '\r\n",
        "\r\n",
        "    prediction = make_prediction(init_string=starting_text, \r\n",
        "                               num_generation_steps=num_generation_steps, \r\n",
        "                               prediction_tokenizer=prediction_tokenizer, \r\n",
        "                               prediction_model=prediction_model, \r\n",
        "                               precision_reduction=precision_reduction, \r\n",
        "                               model_name=author, \r\n",
        "                               print_result=True)\r\n",
        "    \r\n",
        "    output = starting_text + '\\n'\r\n",
        "    split_on = ['?', '.', ',', ';', '!', ':']\r\n",
        "    splits = '([' + ''.join(split_on) + '])'\r\n",
        "    split_lines_prediction = re.split(splits, prediction)\r\n",
        "    \r\n",
        "    if author=='Shakespeare':\r\n",
        "        separator_length = 3\r\n",
        "    else:\r\n",
        "        separator_length = 2\r\n",
        "\r\n",
        "    for line in split_lines_prediction:\r\n",
        "        line_update = line[0].upper()\r\n",
        "        try: \r\n",
        "            line_update += line[1:]\r\n",
        "        except:\r\n",
        "            pass\r\n",
        "        if line_update[-1] in split_on or line_update[-2:] == '\\n':\r\n",
        "            output= ''.join([output, line_update])\r\n",
        "        else:\r\n",
        "            output= '\\n'.join([output, line_update])\r\n",
        "    \r\n",
        "    return output + '... '\r\n",
        "\r\n",
        "if USE_ANVIL:\r\n",
        "    anvil.server.wait_forever()"
      ],
      "execution_count": 183,
      "outputs": []
    },
    {
      "cell_type": "markdown",
      "metadata": {
        "id": "LJC1LNpPnjPC"
      },
      "source": [
        "# Prepare Datasets"
      ]
    },
    {
      "cell_type": "code",
      "metadata": {
        "colab": {
          "base_uri": "https://localhost:8080/"
        },
        "id": "1GKdfRVdniPa",
        "outputId": "684ec003-4461-43ad-d352-3c19117f420b"
      },
      "source": [
        "all_datasets, tokenizer = preprocess(filename=DATASET_PRIMARY, \r\n",
        "                                     batch_size=BATCH_SIZE)"
      ],
      "execution_count": 184,
      "outputs": [
        {
          "output_type": "stream",
          "text": [
            "full_examples: 107\n",
            "text_blocks: 107\n",
            "padded_blocks: 0\n",
            "example input_arr : (500, 499)\n",
            "example target_arr: (500, 499)\n",
            "all_datasets: 107\n",
            "all_datasets[0]: <PrefetchDataset shapes: ((32, 499), (32, 499)), types: (tf.int32, tf.int32)>\n"
          ],
          "name": "stdout"
        }
      ]
    },
    {
      "cell_type": "markdown",
      "metadata": {
        "id": "aoOBnp0ym67t"
      },
      "source": [
        "# Load Model"
      ]
    },
    {
      "cell_type": "code",
      "metadata": {
        "colab": {
          "base_uri": "https://localhost:8080/"
        },
        "id": "1Niq_tTFeYye",
        "outputId": "9a544f33-68ac-4856-bc79-2c8bf031dc5e"
      },
      "source": [
        "init_model, tokenizer, checkpoint, checkpoint_manager = \\\r\n",
        "    build_load_model(batch_size=BATCH_SIZE)"
      ],
      "execution_count": 185,
      "outputs": [
        {
          "output_type": "stream",
          "text": [
            "loaded checkpoint\n",
            "Model: \"sequential_18\"\n",
            "_________________________________________________________________\n",
            "Layer (type)                 Output Shape              Param #   \n",
            "=================================================================\n",
            "Embedding (Embedding)        (32, None, 256)           17920     \n",
            "_________________________________________________________________\n",
            "GRU_1 (GRU)                  (32, None, 256)           394752    \n",
            "_________________________________________________________________\n",
            "Dropout_1 (Dropout)          (32, None, 256)           0         \n",
            "_________________________________________________________________\n",
            "Batch_Norm_1 (BatchNormaliza (32, None, 256)           1024      \n",
            "_________________________________________________________________\n",
            "GRU_2 (GRU)                  (32, None, 256)           394752    \n",
            "_________________________________________________________________\n",
            "Dropout_2 (Dropout)          (32, None, 256)           0         \n",
            "_________________________________________________________________\n",
            "Batch_Norm_2 (BatchNormaliza (32, None, 256)           1024      \n",
            "_________________________________________________________________\n",
            "GRU_OUTPUT (GRU)             (32, None, 256)           394752    \n",
            "_________________________________________________________________\n",
            "Decoding (Dense)             (32, None, 70)            17990     \n",
            "=================================================================\n",
            "Total params: 1,222,214\n",
            "Trainable params: 1,221,190\n",
            "Non-trainable params: 1,024\n",
            "_________________________________________________________________\n"
          ],
          "name": "stdout"
        }
      ]
    },
    {
      "cell_type": "markdown",
      "metadata": {
        "id": "FZRm2Wg2m-fW"
      },
      "source": [
        "# Train Model\r\n",
        "\r\n",
        "Techniques:\r\n",
        " - Reduce learning rate after initial training runs, as model can easily overfit to most recent data example\r\n",
        " - Allow some overfitting immediately before creating final text generation model. (need accuracy above 90%)"
      ]
    },
    {
      "cell_type": "code",
      "metadata": {
        "colab": {
          "base_uri": "https://localhost:8080/",
          "height": 560
        },
        "id": "hgNVUFExjljW",
        "outputId": "23edc759-f109-4b83-8427-70b230361d4d"
      },
      "source": [
        "train_more = True\r\n",
        "num_epochs = 1\r\n",
        "if train_more:\r\n",
        "    train_model(model=init_model, \r\n",
        "                checkpoint=checkpoint, \r\n",
        "                checkpoint_manager=checkpoint_manager,\r\n",
        "                train_datasets_list=all_datasets, \r\n",
        "                num_epochs=num_epochs, \r\n",
        "                num_datasets_to_use=10,\r\n",
        "                learning_rate=0.001,)"
      ],
      "execution_count": 189,
      "outputs": [
        {
          "output_type": "stream",
          "text": [
            "Epoch 000\n",
            "31/31 [==============================] - 49s 1s/step - loss: 0.4418 - sparse_categorical_accuracy: 0.8192 - sparse_categorical_crossentropy: 2.4062\n",
            "19/19 [==============================] - 26s 1s/step - loss: 0.6029 - sparse_categorical_accuracy: 0.7362 - sparse_categorical_crossentropy: 2.5240\n",
            "20/20 [==============================] - 28s 1s/step - loss: 0.2681 - sparse_categorical_accuracy: 0.8577 - sparse_categorical_crossentropy: 2.1764\n",
            "27/27 [==============================] - 37s 1s/step - loss: 0.3044 - sparse_categorical_accuracy: 0.8533 - sparse_categorical_crossentropy: 2.2124\n",
            "82/82 [==============================] - 112s 1s/step - loss: 0.0959 - sparse_categorical_accuracy: 0.9736 - sparse_categorical_crossentropy: 2.0730\n",
            "22/22 [==============================] - 31s 1s/step - loss: 0.6128 - sparse_categorical_accuracy: 0.7350 - sparse_categorical_crossentropy: 2.5495\n",
            "71/71 [==============================] - 97s 1s/step - loss: 0.2959 - sparse_categorical_accuracy: 0.9051 - sparse_categorical_crossentropy: 2.1346\n",
            "249/249 [==============================] - 338s 1s/step - loss: 0.1330 - sparse_categorical_accuracy: 0.9669 - sparse_categorical_crossentropy: 2.0584\n",
            "285/285 [==============================] - 391s 1s/step - loss: 0.2688 - sparse_categorical_accuracy: 0.9353 - sparse_categorical_crossentropy: 2.1459\n",
            " 3/57 [>.............................] - ETA: 1:17 - loss: 1.1874 - sparse_categorical_accuracy: 0.5893 - sparse_categorical_crossentropy: 2.4976"
          ],
          "name": "stdout"
        },
        {
          "output_type": "error",
          "ename": "KeyboardInterrupt",
          "evalue": "ignored",
          "traceback": [
            "\u001b[0;31m---------------------------------------------------------------------------\u001b[0m",
            "\u001b[0;31mKeyboardInterrupt\u001b[0m                         Traceback (most recent call last)",
            "\u001b[0;32m<ipython-input-189-f25a43045de6>\u001b[0m in \u001b[0;36m<module>\u001b[0;34m()\u001b[0m\n\u001b[1;32m      8\u001b[0m                 \u001b[0mnum_epochs\u001b[0m\u001b[0;34m=\u001b[0m\u001b[0mnum_epochs\u001b[0m\u001b[0;34m,\u001b[0m\u001b[0;34m\u001b[0m\u001b[0;34m\u001b[0m\u001b[0m\n\u001b[1;32m      9\u001b[0m                 \u001b[0mnum_datasets_to_use\u001b[0m\u001b[0;34m=\u001b[0m\u001b[0;36m10\u001b[0m\u001b[0;34m,\u001b[0m\u001b[0;34m\u001b[0m\u001b[0;34m\u001b[0m\u001b[0m\n\u001b[0;32m---> 10\u001b[0;31m                 learning_rate=0.001,)\n\u001b[0m",
            "\u001b[0;32m<ipython-input-177-244130be039c>\u001b[0m in \u001b[0;36mtrain_model\u001b[0;34m(model, train_datasets_list, checkpoint, checkpoint_manager, num_epochs, num_datasets_to_use, learning_rate, batch_size, filepath, checkpoint_dir)\u001b[0m\n\u001b[1;32m     32\u001b[0m                                 \u001b[0mshuffle\u001b[0m\u001b[0;34m=\u001b[0m\u001b[0;32mFalse\u001b[0m\u001b[0;34m,\u001b[0m\u001b[0;34m\u001b[0m\u001b[0;34m\u001b[0m\u001b[0m\n\u001b[1;32m     33\u001b[0m                                 \u001b[0mepochs\u001b[0m\u001b[0;34m=\u001b[0m\u001b[0;36m1\u001b[0m\u001b[0;34m,\u001b[0m\u001b[0;34m\u001b[0m\u001b[0;34m\u001b[0m\u001b[0m\n\u001b[0;32m---> 34\u001b[0;31m                                 verbose=1)\n\u001b[0m\u001b[1;32m     35\u001b[0m \u001b[0;34m\u001b[0m\u001b[0m\n\u001b[1;32m     36\u001b[0m             \u001b[0;31m# reset RNN hidden states\u001b[0m\u001b[0;34m\u001b[0m\u001b[0;34m\u001b[0m\u001b[0;34m\u001b[0m\u001b[0m\n",
            "\u001b[0;32m/usr/local/lib/python3.6/dist-packages/tensorflow/python/keras/engine/training.py\u001b[0m in \u001b[0;36mfit\u001b[0;34m(self, x, y, batch_size, epochs, verbose, callbacks, validation_split, validation_data, shuffle, class_weight, sample_weight, initial_epoch, steps_per_epoch, validation_steps, validation_batch_size, validation_freq, max_queue_size, workers, use_multiprocessing)\u001b[0m\n\u001b[1;32m   1098\u001b[0m                 _r=1):\n\u001b[1;32m   1099\u001b[0m               \u001b[0mcallbacks\u001b[0m\u001b[0;34m.\u001b[0m\u001b[0mon_train_batch_begin\u001b[0m\u001b[0;34m(\u001b[0m\u001b[0mstep\u001b[0m\u001b[0;34m)\u001b[0m\u001b[0;34m\u001b[0m\u001b[0;34m\u001b[0m\u001b[0m\n\u001b[0;32m-> 1100\u001b[0;31m               \u001b[0mtmp_logs\u001b[0m \u001b[0;34m=\u001b[0m \u001b[0mself\u001b[0m\u001b[0;34m.\u001b[0m\u001b[0mtrain_function\u001b[0m\u001b[0;34m(\u001b[0m\u001b[0miterator\u001b[0m\u001b[0;34m)\u001b[0m\u001b[0;34m\u001b[0m\u001b[0;34m\u001b[0m\u001b[0m\n\u001b[0m\u001b[1;32m   1101\u001b[0m               \u001b[0;32mif\u001b[0m \u001b[0mdata_handler\u001b[0m\u001b[0;34m.\u001b[0m\u001b[0mshould_sync\u001b[0m\u001b[0;34m:\u001b[0m\u001b[0;34m\u001b[0m\u001b[0;34m\u001b[0m\u001b[0m\n\u001b[1;32m   1102\u001b[0m                 \u001b[0mcontext\u001b[0m\u001b[0;34m.\u001b[0m\u001b[0masync_wait\u001b[0m\u001b[0;34m(\u001b[0m\u001b[0;34m)\u001b[0m\u001b[0;34m\u001b[0m\u001b[0;34m\u001b[0m\u001b[0m\n",
            "\u001b[0;32m/usr/local/lib/python3.6/dist-packages/tensorflow/python/eager/def_function.py\u001b[0m in \u001b[0;36m__call__\u001b[0;34m(self, *args, **kwds)\u001b[0m\n\u001b[1;32m    826\u001b[0m     \u001b[0mtracing_count\u001b[0m \u001b[0;34m=\u001b[0m \u001b[0mself\u001b[0m\u001b[0;34m.\u001b[0m\u001b[0mexperimental_get_tracing_count\u001b[0m\u001b[0;34m(\u001b[0m\u001b[0;34m)\u001b[0m\u001b[0;34m\u001b[0m\u001b[0;34m\u001b[0m\u001b[0m\n\u001b[1;32m    827\u001b[0m     \u001b[0;32mwith\u001b[0m \u001b[0mtrace\u001b[0m\u001b[0;34m.\u001b[0m\u001b[0mTrace\u001b[0m\u001b[0;34m(\u001b[0m\u001b[0mself\u001b[0m\u001b[0;34m.\u001b[0m\u001b[0m_name\u001b[0m\u001b[0;34m)\u001b[0m \u001b[0;32mas\u001b[0m \u001b[0mtm\u001b[0m\u001b[0;34m:\u001b[0m\u001b[0;34m\u001b[0m\u001b[0;34m\u001b[0m\u001b[0m\n\u001b[0;32m--> 828\u001b[0;31m       \u001b[0mresult\u001b[0m \u001b[0;34m=\u001b[0m \u001b[0mself\u001b[0m\u001b[0;34m.\u001b[0m\u001b[0m_call\u001b[0m\u001b[0;34m(\u001b[0m\u001b[0;34m*\u001b[0m\u001b[0margs\u001b[0m\u001b[0;34m,\u001b[0m \u001b[0;34m**\u001b[0m\u001b[0mkwds\u001b[0m\u001b[0;34m)\u001b[0m\u001b[0;34m\u001b[0m\u001b[0;34m\u001b[0m\u001b[0m\n\u001b[0m\u001b[1;32m    829\u001b[0m       \u001b[0mcompiler\u001b[0m \u001b[0;34m=\u001b[0m \u001b[0;34m\"xla\"\u001b[0m \u001b[0;32mif\u001b[0m \u001b[0mself\u001b[0m\u001b[0;34m.\u001b[0m\u001b[0m_experimental_compile\u001b[0m \u001b[0;32melse\u001b[0m \u001b[0;34m\"nonXla\"\u001b[0m\u001b[0;34m\u001b[0m\u001b[0;34m\u001b[0m\u001b[0m\n\u001b[1;32m    830\u001b[0m       \u001b[0mnew_tracing_count\u001b[0m \u001b[0;34m=\u001b[0m \u001b[0mself\u001b[0m\u001b[0;34m.\u001b[0m\u001b[0mexperimental_get_tracing_count\u001b[0m\u001b[0;34m(\u001b[0m\u001b[0;34m)\u001b[0m\u001b[0;34m\u001b[0m\u001b[0;34m\u001b[0m\u001b[0m\n",
            "\u001b[0;32m/usr/local/lib/python3.6/dist-packages/tensorflow/python/eager/def_function.py\u001b[0m in \u001b[0;36m_call\u001b[0;34m(self, *args, **kwds)\u001b[0m\n\u001b[1;32m    853\u001b[0m       \u001b[0;31m# In this case we have created variables on the first call, so we run the\u001b[0m\u001b[0;34m\u001b[0m\u001b[0;34m\u001b[0m\u001b[0;34m\u001b[0m\u001b[0m\n\u001b[1;32m    854\u001b[0m       \u001b[0;31m# defunned version which is guaranteed to never create variables.\u001b[0m\u001b[0;34m\u001b[0m\u001b[0;34m\u001b[0m\u001b[0;34m\u001b[0m\u001b[0m\n\u001b[0;32m--> 855\u001b[0;31m       \u001b[0;32mreturn\u001b[0m \u001b[0mself\u001b[0m\u001b[0;34m.\u001b[0m\u001b[0m_stateless_fn\u001b[0m\u001b[0;34m(\u001b[0m\u001b[0;34m*\u001b[0m\u001b[0margs\u001b[0m\u001b[0;34m,\u001b[0m \u001b[0;34m**\u001b[0m\u001b[0mkwds\u001b[0m\u001b[0;34m)\u001b[0m  \u001b[0;31m# pylint: disable=not-callable\u001b[0m\u001b[0;34m\u001b[0m\u001b[0;34m\u001b[0m\u001b[0m\n\u001b[0m\u001b[1;32m    856\u001b[0m     \u001b[0;32melif\u001b[0m \u001b[0mself\u001b[0m\u001b[0;34m.\u001b[0m\u001b[0m_stateful_fn\u001b[0m \u001b[0;32mis\u001b[0m \u001b[0;32mnot\u001b[0m \u001b[0;32mNone\u001b[0m\u001b[0;34m:\u001b[0m\u001b[0;34m\u001b[0m\u001b[0;34m\u001b[0m\u001b[0m\n\u001b[1;32m    857\u001b[0m       \u001b[0;31m# Release the lock early so that multiple threads can perform the call\u001b[0m\u001b[0;34m\u001b[0m\u001b[0;34m\u001b[0m\u001b[0;34m\u001b[0m\u001b[0m\n",
            "\u001b[0;32m/usr/local/lib/python3.6/dist-packages/tensorflow/python/eager/function.py\u001b[0m in \u001b[0;36m__call__\u001b[0;34m(self, *args, **kwargs)\u001b[0m\n\u001b[1;32m   2941\u001b[0m        filtered_flat_args) = self._maybe_define_function(args, kwargs)\n\u001b[1;32m   2942\u001b[0m     return graph_function._call_flat(\n\u001b[0;32m-> 2943\u001b[0;31m         filtered_flat_args, captured_inputs=graph_function.captured_inputs)  # pylint: disable=protected-access\n\u001b[0m\u001b[1;32m   2944\u001b[0m \u001b[0;34m\u001b[0m\u001b[0m\n\u001b[1;32m   2945\u001b[0m   \u001b[0;34m@\u001b[0m\u001b[0mproperty\u001b[0m\u001b[0;34m\u001b[0m\u001b[0;34m\u001b[0m\u001b[0m\n",
            "\u001b[0;32m/usr/local/lib/python3.6/dist-packages/tensorflow/python/eager/function.py\u001b[0m in \u001b[0;36m_call_flat\u001b[0;34m(self, args, captured_inputs, cancellation_manager)\u001b[0m\n\u001b[1;32m   1917\u001b[0m       \u001b[0;31m# No tape is watching; skip to running the function.\u001b[0m\u001b[0;34m\u001b[0m\u001b[0;34m\u001b[0m\u001b[0;34m\u001b[0m\u001b[0m\n\u001b[1;32m   1918\u001b[0m       return self._build_call_outputs(self._inference_function.call(\n\u001b[0;32m-> 1919\u001b[0;31m           ctx, args, cancellation_manager=cancellation_manager))\n\u001b[0m\u001b[1;32m   1920\u001b[0m     forward_backward = self._select_forward_and_backward_functions(\n\u001b[1;32m   1921\u001b[0m         \u001b[0margs\u001b[0m\u001b[0;34m,\u001b[0m\u001b[0;34m\u001b[0m\u001b[0;34m\u001b[0m\u001b[0m\n",
            "\u001b[0;32m/usr/local/lib/python3.6/dist-packages/tensorflow/python/eager/function.py\u001b[0m in \u001b[0;36mcall\u001b[0;34m(self, ctx, args, cancellation_manager)\u001b[0m\n\u001b[1;32m    558\u001b[0m               \u001b[0minputs\u001b[0m\u001b[0;34m=\u001b[0m\u001b[0margs\u001b[0m\u001b[0;34m,\u001b[0m\u001b[0;34m\u001b[0m\u001b[0;34m\u001b[0m\u001b[0m\n\u001b[1;32m    559\u001b[0m               \u001b[0mattrs\u001b[0m\u001b[0;34m=\u001b[0m\u001b[0mattrs\u001b[0m\u001b[0;34m,\u001b[0m\u001b[0;34m\u001b[0m\u001b[0;34m\u001b[0m\u001b[0m\n\u001b[0;32m--> 560\u001b[0;31m               ctx=ctx)\n\u001b[0m\u001b[1;32m    561\u001b[0m         \u001b[0;32melse\u001b[0m\u001b[0;34m:\u001b[0m\u001b[0;34m\u001b[0m\u001b[0;34m\u001b[0m\u001b[0m\n\u001b[1;32m    562\u001b[0m           outputs = execute.execute_with_cancellation(\n",
            "\u001b[0;32m/usr/local/lib/python3.6/dist-packages/tensorflow/python/eager/execute.py\u001b[0m in \u001b[0;36mquick_execute\u001b[0;34m(op_name, num_outputs, inputs, attrs, ctx, name)\u001b[0m\n\u001b[1;32m     58\u001b[0m     \u001b[0mctx\u001b[0m\u001b[0;34m.\u001b[0m\u001b[0mensure_initialized\u001b[0m\u001b[0;34m(\u001b[0m\u001b[0;34m)\u001b[0m\u001b[0;34m\u001b[0m\u001b[0;34m\u001b[0m\u001b[0m\n\u001b[1;32m     59\u001b[0m     tensors = pywrap_tfe.TFE_Py_Execute(ctx._handle, device_name, op_name,\n\u001b[0;32m---> 60\u001b[0;31m                                         inputs, attrs, num_outputs)\n\u001b[0m\u001b[1;32m     61\u001b[0m   \u001b[0;32mexcept\u001b[0m \u001b[0mcore\u001b[0m\u001b[0;34m.\u001b[0m\u001b[0m_NotOkStatusException\u001b[0m \u001b[0;32mas\u001b[0m \u001b[0me\u001b[0m\u001b[0;34m:\u001b[0m\u001b[0;34m\u001b[0m\u001b[0;34m\u001b[0m\u001b[0m\n\u001b[1;32m     62\u001b[0m     \u001b[0;32mif\u001b[0m \u001b[0mname\u001b[0m \u001b[0;32mis\u001b[0m \u001b[0;32mnot\u001b[0m \u001b[0;32mNone\u001b[0m\u001b[0;34m:\u001b[0m\u001b[0;34m\u001b[0m\u001b[0;34m\u001b[0m\u001b[0m\n",
            "\u001b[0;31mKeyboardInterrupt\u001b[0m: "
          ]
        }
      ]
    },
    {
      "cell_type": "markdown",
      "metadata": {
        "id": "mG38H2YQnwjF"
      },
      "source": [
        "# Create Prediction Model"
      ]
    },
    {
      "cell_type": "code",
      "metadata": {
        "colab": {
          "base_uri": "https://localhost:8080/"
        },
        "id": "fvNkiG26WyQ8",
        "outputId": "2a5a99c7-8c05-487f-8aab-25024e522131"
      },
      "source": [
        "# Load Prediction Model\r\n",
        "prediction_model, prediction_tokenizer = \\\r\n",
        "    get_prediction_model(pretrained_model=init_model)\r\n",
        "prediction_model.summary()\r\n",
        "\r\n",
        "# Save the prediction model\r\n",
        "save_prediction_mod = True\r\n",
        "if save_prediction_mod:\r\n",
        "    save_prediction_model(prediction_model,\r\n",
        "                          model_dir=MODEL_DIR)"
      ],
      "execution_count": 190,
      "outputs": [
        {
          "output_type": "stream",
          "text": [
            "Model: \"sequential_20\"\n",
            "_________________________________________________________________\n",
            "Layer (type)                 Output Shape              Param #   \n",
            "=================================================================\n",
            "Embedding (Embedding)        (1, None, 256)            17920     \n",
            "_________________________________________________________________\n",
            "GRU_1 (GRU)                  (1, None, 256)            394752    \n",
            "_________________________________________________________________\n",
            "Dropout_1 (Dropout)          (1, None, 256)            0         \n",
            "_________________________________________________________________\n",
            "Batch_Norm_1 (BatchNormaliza (1, None, 256)            1024      \n",
            "_________________________________________________________________\n",
            "GRU_2 (GRU)                  (1, None, 256)            394752    \n",
            "_________________________________________________________________\n",
            "Dropout_2 (Dropout)          (1, None, 256)            0         \n",
            "_________________________________________________________________\n",
            "Batch_Norm_2 (BatchNormaliza (1, None, 256)            1024      \n",
            "_________________________________________________________________\n",
            "GRU_OUTPUT (GRU)             (1, None, 256)            394752    \n",
            "_________________________________________________________________\n",
            "Decoding (Dense)             (1, None, 70)             17990     \n",
            "=================================================================\n",
            "Total params: 1,222,214\n",
            "Trainable params: 1,221,190\n",
            "Non-trainable params: 1,024\n",
            "_________________________________________________________________\n"
          ],
          "name": "stdout"
        },
        {
          "output_type": "stream",
          "text": [
            "WARNING:absl:Found untraced functions such as gru_cell_60_layer_call_fn, gru_cell_60_layer_call_and_return_conditional_losses, gru_cell_61_layer_call_fn, gru_cell_61_layer_call_and_return_conditional_losses, gru_cell_62_layer_call_fn while saving (showing 5 of 15). These functions will not be directly callable after loading.\n",
            "WARNING:absl:Found untraced functions such as gru_cell_60_layer_call_fn, gru_cell_60_layer_call_and_return_conditional_losses, gru_cell_61_layer_call_fn, gru_cell_61_layer_call_and_return_conditional_losses, gru_cell_62_layer_call_fn while saving (showing 5 of 15). These functions will not be directly callable after loading.\n"
          ],
          "name": "stderr"
        },
        {
          "output_type": "stream",
          "text": [
            "INFO:tensorflow:Assets written to: /content/gdrive/MyDrive/Colab_Notebooks/models/text_generation/Robert_Frost/prediction_model/assets\n"
          ],
          "name": "stdout"
        },
        {
          "output_type": "stream",
          "text": [
            "INFO:tensorflow:Assets written to: /content/gdrive/MyDrive/Colab_Notebooks/models/text_generation/Robert_Frost/prediction_model/assets\n"
          ],
          "name": "stderr"
        }
      ]
    },
    {
      "cell_type": "markdown",
      "metadata": {
        "id": "7A0FOxOTRfUc"
      },
      "source": [
        "# Generate text from the model"
      ]
    },
    {
      "cell_type": "code",
      "metadata": {
        "id": "L68uZVx0olg9",
        "colab": {
          "base_uri": "https://localhost:8080/"
        },
        "outputId": "462f45a3-480f-490c-d9f3-9f9d23714609"
      },
      "source": [
        "text_generated = generate_text(starting_text='She ', \r\n",
        "                               prediction_tokenizer=prediction_tokenizer, \r\n",
        "                               prediction_model=prediction_model,\r\n",
        "                               precision_reduction=0,\r\n",
        "                               author='Robert_Frost')\r\n",
        "print(text_generated)"
      ],
      "execution_count": 193,
      "outputs": [
        {
          "output_type": "stream",
          "text": [
            "she : sook that some uppose the river, and maroon in a land, and your hand with down to the brass-like a bidd what a man where i was.' from this side. there is no proper path, but those that have been up, i understand, have climbed from ladd's. that's five miles back. you can't mistake the place: they logged it there last winter some way up. i'd take you\n",
            "SHE : \n",
            "\n",
            "She :\n",
            " sook that some uppose the river,\n",
            " and maroon in a land,\n",
            " and your hand with down to the brass-like a bidd what a man where i was.\n",
            "' from this side.\n",
            " there is no proper path,\n",
            " but those that have been up,\n",
            " i understand,\n",
            " have climbed from ladd's.\n",
            " that's five miles back.\n",
            " you can't mistake the place:\n",
            " they logged it there last winter some way up.\n",
            " i'd take you... \n"
          ],
          "name": "stdout"
        }
      ]
    },
    {
      "cell_type": "code",
      "metadata": {
        "id": "chMWI5ftXqx0"
      },
      "source": [
        ""
      ],
      "execution_count": 191,
      "outputs": []
    }
  ]
}