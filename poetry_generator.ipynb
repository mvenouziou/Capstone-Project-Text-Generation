{
  "nbformat": 4,
  "nbformat_minor": 0,
  "metadata": {
    "colab": {
      "name": "poetry_generator.ipynb",
      "provenance": [],
      "authorship_tag": "ABX9TyPHFCOjLeJoEUcprEd6eOMN",
      "include_colab_link": true
    },
    "kernelspec": {
      "name": "python3",
      "display_name": "Python 3"
    }
  },
  "cells": [
    {
      "cell_type": "markdown",
      "metadata": {
        "id": "view-in-github",
        "colab_type": "text"
      },
      "source": [
        "<a href=\"https://colab.research.google.com/github/mvenouziou/text_generator/blob/main/poetry_generator.ipynb\" target=\"_parent\"><img src=\"https://colab.research.google.com/assets/colab-badge.svg\" alt=\"Open In Colab\"/></a>"
      ]
    },
    {
      "cell_type": "code",
      "metadata": {
        "id": "TazS2ct_0bzD"
      },
      "source": [
        "# tensorflow modules\r\n",
        "import tensorflow as tf\r\n",
        "from tensorflow import keras\r\n",
        "import tensorflow_text as text  # for loading pre-trained BERT embeddings\r\n",
        "import tensorflow_hub as hub\r\n",
        "\r\n",
        "# general modules\r\n",
        "import numpy as np\r\n",
        "import pandas as pd\r\n",
        "from sklearn.model_selection import train_test_split\r\n",
        "import string"
      ],
      "execution_count": 16,
      "outputs": []
    },
    {
      "cell_type": "code",
      "metadata": {
        "id": "Xf5IvArw4flU"
      },
      "source": [
        "# Split into train/test/validation sets\r\n",
        "def load_and_split_csv(source, select_column=False):\r\n",
        "    df = pd.read_csv(source)\r\n",
        "\r\n",
        "    if select_column:\r\n",
        "        df = df[[select_column]]\r\n",
        "    \r\n",
        "    X_train, X_test, _, _ = \\\r\n",
        "        train_test_split(df, df, test_size=0.3, random_state=42)\r\n",
        "\r\n",
        "    X_test, X_valid, _, _ = \\\r\n",
        "        train_test_split(X_test, X_test, test_size=0.3, random_state=42)\r\n",
        "\r\n",
        "    return X_train, X_test, X_valid"
      ],
      "execution_count": 10,
      "outputs": []
    },
    {
      "cell_type": "code",
      "metadata": {
        "id": "VFq9YvqL470o"
      },
      "source": [
        "# clean dataset\r\n",
        "def clean_text(df, column, dropna=True):\r\n",
        "    \r\n",
        "    if dropna:\r\n",
        "        df.dropna()\r\n",
        "\r\n",
        "    # 'EOL' is used to denote end of line, where the poem line breaks without a separating punctiation)\r\n",
        "    df[column] = df[column].apply(lambda x: x.replace('\\n', ' EOL '))\r\n",
        "\r\n",
        "    # string helper function\r\n",
        "    spaced_punctuation = \\\r\n",
        "        list(map(lambda x: ' '.join(['', x, '']), string.punctuation))\r\n",
        "    # add spacing to separate punctuation from words\r\n",
        "    for punc, space_punc in zip(string.punctuation, spaced_punctuation):\r\n",
        "        df[column] = df[column].apply(lambda x: x.replace(punc, space_punc))\r\n",
        "\r\n",
        "    # remove extra spaces created in the above processes\r\n",
        "    for _ in range(3):\r\n",
        "        df[column] = df[column].apply(lambda x: x.replace('  ', ' '))\r\n",
        "        \r\n",
        "    return None"
      ],
      "execution_count": 3,
      "outputs": []
    },
    {
      "cell_type": "code",
      "metadata": {
        "colab": {
          "base_uri": "https://localhost:8080/",
          "height": 244
        },
        "id": "AbPO1tm37GAG",
        "outputId": "d45067be-d29b-4c97-e49e-9a89d0fdf523"
      },
      "source": [
        "# word embeddings with BERT pretrained network\r\n",
        "text_input = tf.keras.layers.Input(shape=(), dtype=tf.string)\r\n",
        "preprocessor = hub.KerasLayer(\r\n",
        "    \"https://tfhub.dev/tensorflow/bert_en_uncased_preprocess/2\")\r\n",
        "encoder_inputs = preprocessor(text_input)\r\n",
        "\r\n"
      ],
      "execution_count": 15,
      "outputs": [
        {
          "output_type": "error",
          "ename": "AttributeError",
          "evalue": "ignored",
          "traceback": [
            "\u001b[0;31m---------------------------------------------------------------------------\u001b[0m",
            "\u001b[0;31mAttributeError\u001b[0m                            Traceback (most recent call last)",
            "\u001b[0;32m<ipython-input-15-59bc29eacc5e>\u001b[0m in \u001b[0;36m<module>\u001b[0;34m()\u001b[0m\n\u001b[1;32m      1\u001b[0m \u001b[0;31m# word embeddings with BERT pretrained network\u001b[0m\u001b[0;34m\u001b[0m\u001b[0;34m\u001b[0m\u001b[0;34m\u001b[0m\u001b[0m\n\u001b[1;32m      2\u001b[0m \u001b[0mtext_input\u001b[0m \u001b[0;34m=\u001b[0m \u001b[0mtf\u001b[0m\u001b[0;34m.\u001b[0m\u001b[0mkeras\u001b[0m\u001b[0;34m.\u001b[0m\u001b[0mlayers\u001b[0m\u001b[0;34m.\u001b[0m\u001b[0mInput\u001b[0m\u001b[0;34m(\u001b[0m\u001b[0mshape\u001b[0m\u001b[0;34m=\u001b[0m\u001b[0;34m(\u001b[0m\u001b[0;34m)\u001b[0m\u001b[0;34m,\u001b[0m \u001b[0mdtype\u001b[0m\u001b[0;34m=\u001b[0m\u001b[0mtf\u001b[0m\u001b[0;34m.\u001b[0m\u001b[0mstring\u001b[0m\u001b[0;34m)\u001b[0m\u001b[0;34m\u001b[0m\u001b[0;34m\u001b[0m\u001b[0m\n\u001b[0;32m----> 3\u001b[0;31m preprocessor = keras.hub.KerasLayer(\n\u001b[0m\u001b[1;32m      4\u001b[0m     \"https://tfhub.dev/tensorflow/bert_en_uncased_preprocess/2\")\n\u001b[1;32m      5\u001b[0m \u001b[0mencoder_inputs\u001b[0m \u001b[0;34m=\u001b[0m \u001b[0mpreprocessor\u001b[0m\u001b[0;34m(\u001b[0m\u001b[0mtext_input\u001b[0m\u001b[0;34m)\u001b[0m\u001b[0;34m\u001b[0m\u001b[0;34m\u001b[0m\u001b[0m\n",
            "\u001b[0;31mAttributeError\u001b[0m: module 'tensorflow.keras' has no attribute 'hub'"
          ]
        }
      ]
    },
    {
      "cell_type": "code",
      "metadata": {
        "colab": {
          "base_uri": "https://localhost:8080/",
          "height": 206
        },
        "id": "mzJzPdfS4eQ3",
        "outputId": "d2544224-708f-4a3d-fa82-d5f44b843fe8"
      },
      "source": [
        "data_URL = 'https://raw.githubusercontent.com/mvenouziou' \\\r\n",
        "            + '/text_generator/main/robert_frost_collection.csv'\r\n",
        "\r\n",
        "X_train, X_test, X_valid = \\\r\n",
        "    load_and_split_csv(data_URL, select_column = 'Content')\r\n",
        "\r\n",
        "clean_text(X_train, 'Content')   \r\n",
        "\r\n",
        "X_train.head()"
      ],
      "execution_count": 11,
      "outputs": [
        {
          "output_type": "execute_result",
          "data": {
            "text/html": [
              "<div>\n",
              "<style scoped>\n",
              "    .dataframe tbody tr th:only-of-type {\n",
              "        vertical-align: middle;\n",
              "    }\n",
              "\n",
              "    .dataframe tbody tr th {\n",
              "        vertical-align: top;\n",
              "    }\n",
              "\n",
              "    .dataframe thead th {\n",
              "        text-align: right;\n",
              "    }\n",
              "</style>\n",
              "<table border=\"1\" class=\"dataframe\">\n",
              "  <thead>\n",
              "    <tr style=\"text-align: right;\">\n",
              "      <th></th>\n",
              "      <th>Content</th>\n",
              "    </tr>\n",
              "  </thead>\n",
              "  <tbody>\n",
              "    <tr>\n",
              "      <th>33</th>\n",
              "      <td>When I go up through the mowing field , EOL Th...</td>\n",
              "    </tr>\n",
              "    <tr>\n",
              "      <th>55</th>\n",
              "      <td>Thine emulous fond flowers are dead , too , \\r...</td>\n",
              "    </tr>\n",
              "    <tr>\n",
              "      <th>69</th>\n",
              "      <td>I had for my winter evening walk - EOL No one ...</td>\n",
              "    </tr>\n",
              "    <tr>\n",
              "      <th>28</th>\n",
              "      <td>As I went down the hill along the wall EOL The...</td>\n",
              "    </tr>\n",
              "    <tr>\n",
              "      <th>40</th>\n",
              "      <td>A house that lacks , seemingly , mistress and ...</td>\n",
              "    </tr>\n",
              "  </tbody>\n",
              "</table>\n",
              "</div>"
            ],
            "text/plain": [
              "                                              Content\n",
              "33  When I go up through the mowing field , EOL Th...\n",
              "55  Thine emulous fond flowers are dead , too , \\r...\n",
              "69  I had for my winter evening walk - EOL No one ...\n",
              "28  As I went down the hill along the wall EOL The...\n",
              "40  A house that lacks , seemingly , mistress and ..."
            ]
          },
          "metadata": {
            "tags": []
          },
          "execution_count": 11
        }
      ]
    },
    {
      "cell_type": "code",
      "metadata": {
        "colab": {
          "base_uri": "https://localhost:8080/",
          "height": 424
        },
        "id": "o0552DAz6m8n",
        "outputId": "86d15095-1048-4cbb-f7cc-e3e4ce09e1d9"
      },
      "source": [
        "X_train"
      ],
      "execution_count": 12,
      "outputs": [
        {
          "output_type": "execute_result",
          "data": {
            "text/html": [
              "<div>\n",
              "<style scoped>\n",
              "    .dataframe tbody tr th:only-of-type {\n",
              "        vertical-align: middle;\n",
              "    }\n",
              "\n",
              "    .dataframe tbody tr th {\n",
              "        vertical-align: top;\n",
              "    }\n",
              "\n",
              "    .dataframe thead th {\n",
              "        text-align: right;\n",
              "    }\n",
              "</style>\n",
              "<table border=\"1\" class=\"dataframe\">\n",
              "  <thead>\n",
              "    <tr style=\"text-align: right;\">\n",
              "      <th></th>\n",
              "      <th>Content</th>\n",
              "    </tr>\n",
              "  </thead>\n",
              "  <tbody>\n",
              "    <tr>\n",
              "      <th>33</th>\n",
              "      <td>When I go up through the mowing field , EOL Th...</td>\n",
              "    </tr>\n",
              "    <tr>\n",
              "      <th>55</th>\n",
              "      <td>Thine emulous fond flowers are dead , too , \\r...</td>\n",
              "    </tr>\n",
              "    <tr>\n",
              "      <th>69</th>\n",
              "      <td>I had for my winter evening walk - EOL No one ...</td>\n",
              "    </tr>\n",
              "    <tr>\n",
              "      <th>28</th>\n",
              "      <td>As I went down the hill along the wall EOL The...</td>\n",
              "    </tr>\n",
              "    <tr>\n",
              "      <th>40</th>\n",
              "      <td>A house that lacks , seemingly , mistress and ...</td>\n",
              "    </tr>\n",
              "    <tr>\n",
              "      <th>...</th>\n",
              "      <td>...</td>\n",
              "    </tr>\n",
              "    <tr>\n",
              "      <th>71</th>\n",
              "      <td>You were forever finding some new play . EOL S...</td>\n",
              "    </tr>\n",
              "    <tr>\n",
              "      <th>14</th>\n",
              "      <td>The buzz saw snarled and rattled in the yard E...</td>\n",
              "    </tr>\n",
              "    <tr>\n",
              "      <th>92</th>\n",
              "      <td>Here come the line - gang pioneering by , EOL ...</td>\n",
              "    </tr>\n",
              "    <tr>\n",
              "      <th>51</th>\n",
              "      <td>Pan came out of the woods one day , — EOL His ...</td>\n",
              "    </tr>\n",
              "    <tr>\n",
              "      <th>102</th>\n",
              "      <td>NOW that they’ve got it settled whose I be , E...</td>\n",
              "    </tr>\n",
              "  </tbody>\n",
              "</table>\n",
              "<p>76 rows × 1 columns</p>\n",
              "</div>"
            ],
            "text/plain": [
              "                                               Content\n",
              "33   When I go up through the mowing field , EOL Th...\n",
              "55   Thine emulous fond flowers are dead , too , \\r...\n",
              "69   I had for my winter evening walk - EOL No one ...\n",
              "28   As I went down the hill along the wall EOL The...\n",
              "40   A house that lacks , seemingly , mistress and ...\n",
              "..                                                 ...\n",
              "71   You were forever finding some new play . EOL S...\n",
              "14   The buzz saw snarled and rattled in the yard E...\n",
              "92   Here come the line - gang pioneering by , EOL ...\n",
              "51   Pan came out of the woods one day , — EOL His ...\n",
              "102  NOW that they’ve got it settled whose I be , E...\n",
              "\n",
              "[76 rows x 1 columns]"
            ]
          },
          "metadata": {
            "tags": []
          },
          "execution_count": 12
        }
      ]
    }
  ]
}